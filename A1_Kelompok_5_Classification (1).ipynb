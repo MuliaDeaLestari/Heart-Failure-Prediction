{
  "nbformat": 4,
  "nbformat_minor": 0,
  "metadata": {
    "colab": {
      "provenance": [],
      "toc_visible": true
    },
    "kernelspec": {
      "name": "python3",
      "display_name": "Python 3"
    },
    "language_info": {
      "name": "python"
    }
  },
  "cells": [
    {
      "cell_type": "code",
      "execution_count": null,
      "metadata": {
        "id": "ybSWt6WGHO58"
      },
      "outputs": [],
      "source": [
        "import math\n",
        "from collections import Counter, defaultdict\n",
        "from functools import partial\n",
        "from pprint import pprint\n",
        "\n",
        "import graphviz\n",
        "import matplotlib.pyplot as plt\n",
        "import numpy as np\n",
        "import pandas as pd\n",
        "import seaborn as sns\n",
        "from sklearn.metrics import confusion_matrix, ConfusionMatrixDisplay, classification_report\n",
        "from sklearn.model_selection import train_test_split\n",
        "from sklearn.preprocessing import StandardScaler, OrdinalEncoder, OneHotEncoder\n",
        "from sklearn.tree import DecisionTreeClassifier, plot_tree\n",
        "from scipy import stats #keperluan perhitungan statistik\n",
        "\n",
        "plt.style.use(\"fivethirtyeight\")"
      ]
    },
    {
      "cell_type": "code",
      "source": [
        "from google.colab import drive\n",
        "drive.mount('/content/gdrive')"
      ],
      "metadata": {
        "id": "9cXR94GI9Pva",
        "colab": {
          "base_uri": "https://localhost:8080/"
        },
        "outputId": "5bf06763-d753-4176-d04f-d2ac1b391b4e"
      },
      "execution_count": null,
      "outputs": [
        {
          "output_type": "stream",
          "name": "stdout",
          "text": [
            "Mounted at /content/gdrive\n"
          ]
        }
      ]
    },
    {
      "cell_type": "markdown",
      "source": [
        "# 1. Data Loading & Exploration\n",
        "\n",
        "Analisis prediktif ini akan membantu memperkirakan apakah seorang pasien dengan informasi kesehatan tertentu memiliki penyakit jantung atau tidak\n",
        "\n",
        "[Heart Failure Prediction](https://www.kaggle.com/datasets/kamilpytlak/personal-key-indicators-of-heart-disease))"
      ],
      "metadata": {
        "id": "6sM7w_8PIgdB"
      }
    },
    {
      "cell_type": "code",
      "source": [
        "df = pd.read_csv('/content/gdrive/MyDrive/Colab Notebooks/Python Programming/Dataset/heart.csv')"
      ],
      "metadata": {
        "id": "aV0iJUATHQHH"
      },
      "execution_count": null,
      "outputs": []
    },
    {
      "cell_type": "code",
      "source": [
        "#Data asli dan data untuk  pemodelan perlu dibedakan\n",
        "df_for_modelling = df.copy()"
      ],
      "metadata": {
        "id": "jZ2IAj-FHcq1"
      },
      "execution_count": null,
      "outputs": []
    },
    {
      "cell_type": "code",
      "source": [
        "df.head()"
      ],
      "metadata": {
        "colab": {
          "base_uri": "https://localhost:8080/",
          "height": 270
        },
        "id": "dWIpfksjHpRX",
        "outputId": "38c508cd-dbee-432b-d46d-de9993514529"
      },
      "execution_count": null,
      "outputs": [
        {
          "output_type": "execute_result",
          "data": {
            "text/plain": [
              "   Age Sex ChestPainType  RestingBP  Cholesterol  FastingBS RestingECG  MaxHR  \\\n",
              "0   40   M           ATA        140          289          0     Normal    172   \n",
              "1   49   F           NAP        160          180          0     Normal    156   \n",
              "2   37   M           ATA        130          283          0         ST     98   \n",
              "3   48   F           ASY        138          214          0     Normal    108   \n",
              "4   54   M           NAP        150          195          0     Normal    122   \n",
              "\n",
              "  ExerciseAngina  Oldpeak ST_Slope  HeartDisease  \n",
              "0              N      0.0       Up             0  \n",
              "1              N      1.0     Flat             1  \n",
              "2              N      0.0       Up             0  \n",
              "3              Y      1.5     Flat             1  \n",
              "4              N      0.0       Up             0  "
            ],
            "text/html": [
              "\n",
              "  <div id=\"df-25507076-0d7a-4cad-aa31-608bdee46109\">\n",
              "    <div class=\"colab-df-container\">\n",
              "      <div>\n",
              "<style scoped>\n",
              "    .dataframe tbody tr th:only-of-type {\n",
              "        vertical-align: middle;\n",
              "    }\n",
              "\n",
              "    .dataframe tbody tr th {\n",
              "        vertical-align: top;\n",
              "    }\n",
              "\n",
              "    .dataframe thead th {\n",
              "        text-align: right;\n",
              "    }\n",
              "</style>\n",
              "<table border=\"1\" class=\"dataframe\">\n",
              "  <thead>\n",
              "    <tr style=\"text-align: right;\">\n",
              "      <th></th>\n",
              "      <th>Age</th>\n",
              "      <th>Sex</th>\n",
              "      <th>ChestPainType</th>\n",
              "      <th>RestingBP</th>\n",
              "      <th>Cholesterol</th>\n",
              "      <th>FastingBS</th>\n",
              "      <th>RestingECG</th>\n",
              "      <th>MaxHR</th>\n",
              "      <th>ExerciseAngina</th>\n",
              "      <th>Oldpeak</th>\n",
              "      <th>ST_Slope</th>\n",
              "      <th>HeartDisease</th>\n",
              "    </tr>\n",
              "  </thead>\n",
              "  <tbody>\n",
              "    <tr>\n",
              "      <th>0</th>\n",
              "      <td>40</td>\n",
              "      <td>M</td>\n",
              "      <td>ATA</td>\n",
              "      <td>140</td>\n",
              "      <td>289</td>\n",
              "      <td>0</td>\n",
              "      <td>Normal</td>\n",
              "      <td>172</td>\n",
              "      <td>N</td>\n",
              "      <td>0.0</td>\n",
              "      <td>Up</td>\n",
              "      <td>0</td>\n",
              "    </tr>\n",
              "    <tr>\n",
              "      <th>1</th>\n",
              "      <td>49</td>\n",
              "      <td>F</td>\n",
              "      <td>NAP</td>\n",
              "      <td>160</td>\n",
              "      <td>180</td>\n",
              "      <td>0</td>\n",
              "      <td>Normal</td>\n",
              "      <td>156</td>\n",
              "      <td>N</td>\n",
              "      <td>1.0</td>\n",
              "      <td>Flat</td>\n",
              "      <td>1</td>\n",
              "    </tr>\n",
              "    <tr>\n",
              "      <th>2</th>\n",
              "      <td>37</td>\n",
              "      <td>M</td>\n",
              "      <td>ATA</td>\n",
              "      <td>130</td>\n",
              "      <td>283</td>\n",
              "      <td>0</td>\n",
              "      <td>ST</td>\n",
              "      <td>98</td>\n",
              "      <td>N</td>\n",
              "      <td>0.0</td>\n",
              "      <td>Up</td>\n",
              "      <td>0</td>\n",
              "    </tr>\n",
              "    <tr>\n",
              "      <th>3</th>\n",
              "      <td>48</td>\n",
              "      <td>F</td>\n",
              "      <td>ASY</td>\n",
              "      <td>138</td>\n",
              "      <td>214</td>\n",
              "      <td>0</td>\n",
              "      <td>Normal</td>\n",
              "      <td>108</td>\n",
              "      <td>Y</td>\n",
              "      <td>1.5</td>\n",
              "      <td>Flat</td>\n",
              "      <td>1</td>\n",
              "    </tr>\n",
              "    <tr>\n",
              "      <th>4</th>\n",
              "      <td>54</td>\n",
              "      <td>M</td>\n",
              "      <td>NAP</td>\n",
              "      <td>150</td>\n",
              "      <td>195</td>\n",
              "      <td>0</td>\n",
              "      <td>Normal</td>\n",
              "      <td>122</td>\n",
              "      <td>N</td>\n",
              "      <td>0.0</td>\n",
              "      <td>Up</td>\n",
              "      <td>0</td>\n",
              "    </tr>\n",
              "  </tbody>\n",
              "</table>\n",
              "</div>\n",
              "      <button class=\"colab-df-convert\" onclick=\"convertToInteractive('df-25507076-0d7a-4cad-aa31-608bdee46109')\"\n",
              "              title=\"Convert this dataframe to an interactive table.\"\n",
              "              style=\"display:none;\">\n",
              "        \n",
              "  <svg xmlns=\"http://www.w3.org/2000/svg\" height=\"24px\"viewBox=\"0 0 24 24\"\n",
              "       width=\"24px\">\n",
              "    <path d=\"M0 0h24v24H0V0z\" fill=\"none\"/>\n",
              "    <path d=\"M18.56 5.44l.94 2.06.94-2.06 2.06-.94-2.06-.94-.94-2.06-.94 2.06-2.06.94zm-11 1L8.5 8.5l.94-2.06 2.06-.94-2.06-.94L8.5 2.5l-.94 2.06-2.06.94zm10 10l.94 2.06.94-2.06 2.06-.94-2.06-.94-.94-2.06-.94 2.06-2.06.94z\"/><path d=\"M17.41 7.96l-1.37-1.37c-.4-.4-.92-.59-1.43-.59-.52 0-1.04.2-1.43.59L10.3 9.45l-7.72 7.72c-.78.78-.78 2.05 0 2.83L4 21.41c.39.39.9.59 1.41.59.51 0 1.02-.2 1.41-.59l7.78-7.78 2.81-2.81c.8-.78.8-2.07 0-2.86zM5.41 20L4 18.59l7.72-7.72 1.47 1.35L5.41 20z\"/>\n",
              "  </svg>\n",
              "      </button>\n",
              "      \n",
              "  <style>\n",
              "    .colab-df-container {\n",
              "      display:flex;\n",
              "      flex-wrap:wrap;\n",
              "      gap: 12px;\n",
              "    }\n",
              "\n",
              "    .colab-df-convert {\n",
              "      background-color: #E8F0FE;\n",
              "      border: none;\n",
              "      border-radius: 50%;\n",
              "      cursor: pointer;\n",
              "      display: none;\n",
              "      fill: #1967D2;\n",
              "      height: 32px;\n",
              "      padding: 0 0 0 0;\n",
              "      width: 32px;\n",
              "    }\n",
              "\n",
              "    .colab-df-convert:hover {\n",
              "      background-color: #E2EBFA;\n",
              "      box-shadow: 0px 1px 2px rgba(60, 64, 67, 0.3), 0px 1px 3px 1px rgba(60, 64, 67, 0.15);\n",
              "      fill: #174EA6;\n",
              "    }\n",
              "\n",
              "    [theme=dark] .colab-df-convert {\n",
              "      background-color: #3B4455;\n",
              "      fill: #D2E3FC;\n",
              "    }\n",
              "\n",
              "    [theme=dark] .colab-df-convert:hover {\n",
              "      background-color: #434B5C;\n",
              "      box-shadow: 0px 1px 3px 1px rgba(0, 0, 0, 0.15);\n",
              "      filter: drop-shadow(0px 1px 2px rgba(0, 0, 0, 0.3));\n",
              "      fill: #FFFFFF;\n",
              "    }\n",
              "  </style>\n",
              "\n",
              "      <script>\n",
              "        const buttonEl =\n",
              "          document.querySelector('#df-25507076-0d7a-4cad-aa31-608bdee46109 button.colab-df-convert');\n",
              "        buttonEl.style.display =\n",
              "          google.colab.kernel.accessAllowed ? 'block' : 'none';\n",
              "\n",
              "        async function convertToInteractive(key) {\n",
              "          const element = document.querySelector('#df-25507076-0d7a-4cad-aa31-608bdee46109');\n",
              "          const dataTable =\n",
              "            await google.colab.kernel.invokeFunction('convertToInteractive',\n",
              "                                                     [key], {});\n",
              "          if (!dataTable) return;\n",
              "\n",
              "          const docLinkHtml = 'Like what you see? Visit the ' +\n",
              "            '<a target=\"_blank\" href=https://colab.research.google.com/notebooks/data_table.ipynb>data table notebook</a>'\n",
              "            + ' to learn more about interactive tables.';\n",
              "          element.innerHTML = '';\n",
              "          dataTable['output_type'] = 'display_data';\n",
              "          await google.colab.output.renderOutput(dataTable, element);\n",
              "          const docLink = document.createElement('div');\n",
              "          docLink.innerHTML = docLinkHtml;\n",
              "          element.appendChild(docLink);\n",
              "        }\n",
              "      </script>\n",
              "    </div>\n",
              "  </div>\n",
              "  "
            ]
          },
          "metadata": {},
          "execution_count": 84
        }
      ]
    },
    {
      "cell_type": "code",
      "source": [
        "df.info()"
      ],
      "metadata": {
        "colab": {
          "base_uri": "https://localhost:8080/"
        },
        "id": "6WILjyjZIFu_",
        "outputId": "880a60e4-0b95-457e-9dc8-e7d4d5ae892f"
      },
      "execution_count": null,
      "outputs": [
        {
          "output_type": "stream",
          "name": "stdout",
          "text": [
            "<class 'pandas.core.frame.DataFrame'>\n",
            "RangeIndex: 918 entries, 0 to 917\n",
            "Data columns (total 12 columns):\n",
            " #   Column          Non-Null Count  Dtype  \n",
            "---  ------          --------------  -----  \n",
            " 0   Age             918 non-null    int64  \n",
            " 1   Sex             918 non-null    object \n",
            " 2   ChestPainType   918 non-null    object \n",
            " 3   RestingBP       918 non-null    int64  \n",
            " 4   Cholesterol     918 non-null    int64  \n",
            " 5   FastingBS       918 non-null    int64  \n",
            " 6   RestingECG      918 non-null    object \n",
            " 7   MaxHR           918 non-null    int64  \n",
            " 8   ExerciseAngina  918 non-null    object \n",
            " 9   Oldpeak         918 non-null    float64\n",
            " 10  ST_Slope        918 non-null    object \n",
            " 11  HeartDisease    918 non-null    int64  \n",
            "dtypes: float64(1), int64(6), object(5)\n",
            "memory usage: 86.2+ KB\n"
          ]
        }
      ]
    },
    {
      "cell_type": "code",
      "source": [
        "df.shape"
      ],
      "metadata": {
        "colab": {
          "base_uri": "https://localhost:8080/"
        },
        "id": "1ChRwbh6IM4U",
        "outputId": "c6679f9c-c833-4ad2-85e9-6010731c28a6"
      },
      "execution_count": null,
      "outputs": [
        {
          "output_type": "execute_result",
          "data": {
            "text/plain": [
              "(918, 12)"
            ]
          },
          "metadata": {},
          "execution_count": 86
        }
      ]
    },
    {
      "cell_type": "markdown",
      "source": [
        "# 2. Exploratory Data Analysis"
      ],
      "metadata": {
        "id": "AijX4mdyIV-F"
      }
    },
    {
      "cell_type": "code",
      "source": [
        "#Melihat missing value\n",
        "\n",
        "df.isnull().sum()"
      ],
      "metadata": {
        "colab": {
          "base_uri": "https://localhost:8080/"
        },
        "id": "Cvihw5-hLDOt",
        "outputId": "ba63afc4-ed93-4544-8c00-45097d947f9b"
      },
      "execution_count": null,
      "outputs": [
        {
          "output_type": "execute_result",
          "data": {
            "text/plain": [
              "Age               0\n",
              "Sex               0\n",
              "ChestPainType     0\n",
              "RestingBP         0\n",
              "Cholesterol       0\n",
              "FastingBS         0\n",
              "RestingECG        0\n",
              "MaxHR             0\n",
              "ExerciseAngina    0\n",
              "Oldpeak           0\n",
              "ST_Slope          0\n",
              "HeartDisease      0\n",
              "dtype: int64"
            ]
          },
          "metadata": {},
          "execution_count": 87
        }
      ]
    },
    {
      "cell_type": "code",
      "source": [
        "df.nunique()"
      ],
      "metadata": {
        "id": "OYBxnYYtJg-F",
        "colab": {
          "base_uri": "https://localhost:8080/"
        },
        "outputId": "348bea98-9a8b-4d33-ad0f-6e52dd12fa8d"
      },
      "execution_count": null,
      "outputs": [
        {
          "output_type": "execute_result",
          "data": {
            "text/plain": [
              "Age                50\n",
              "Sex                 2\n",
              "ChestPainType       4\n",
              "RestingBP          67\n",
              "Cholesterol       222\n",
              "FastingBS           2\n",
              "RestingECG          3\n",
              "MaxHR             119\n",
              "ExerciseAngina      2\n",
              "Oldpeak            53\n",
              "ST_Slope            3\n",
              "HeartDisease        2\n",
              "dtype: int64"
            ]
          },
          "metadata": {},
          "execution_count": 88
        }
      ]
    },
    {
      "cell_type": "code",
      "source": [
        "df.describe(include='object')"
      ],
      "metadata": {
        "colab": {
          "base_uri": "https://localhost:8080/",
          "height": 175
        },
        "id": "CAj7iMM2YgF0",
        "outputId": "33cfd2e0-92d4-4715-d00c-a878e92ebffc"
      },
      "execution_count": null,
      "outputs": [
        {
          "output_type": "execute_result",
          "data": {
            "text/plain": [
              "        Sex ChestPainType RestingECG ExerciseAngina ST_Slope\n",
              "count   918           918        918            918      918\n",
              "unique    2             4          3              2        3\n",
              "top       M           ASY     Normal              N     Flat\n",
              "freq    725           496        552            547      460"
            ],
            "text/html": [
              "\n",
              "  <div id=\"df-88c437e2-557f-4d60-bc51-c24293b3bba3\">\n",
              "    <div class=\"colab-df-container\">\n",
              "      <div>\n",
              "<style scoped>\n",
              "    .dataframe tbody tr th:only-of-type {\n",
              "        vertical-align: middle;\n",
              "    }\n",
              "\n",
              "    .dataframe tbody tr th {\n",
              "        vertical-align: top;\n",
              "    }\n",
              "\n",
              "    .dataframe thead th {\n",
              "        text-align: right;\n",
              "    }\n",
              "</style>\n",
              "<table border=\"1\" class=\"dataframe\">\n",
              "  <thead>\n",
              "    <tr style=\"text-align: right;\">\n",
              "      <th></th>\n",
              "      <th>Sex</th>\n",
              "      <th>ChestPainType</th>\n",
              "      <th>RestingECG</th>\n",
              "      <th>ExerciseAngina</th>\n",
              "      <th>ST_Slope</th>\n",
              "    </tr>\n",
              "  </thead>\n",
              "  <tbody>\n",
              "    <tr>\n",
              "      <th>count</th>\n",
              "      <td>918</td>\n",
              "      <td>918</td>\n",
              "      <td>918</td>\n",
              "      <td>918</td>\n",
              "      <td>918</td>\n",
              "    </tr>\n",
              "    <tr>\n",
              "      <th>unique</th>\n",
              "      <td>2</td>\n",
              "      <td>4</td>\n",
              "      <td>3</td>\n",
              "      <td>2</td>\n",
              "      <td>3</td>\n",
              "    </tr>\n",
              "    <tr>\n",
              "      <th>top</th>\n",
              "      <td>M</td>\n",
              "      <td>ASY</td>\n",
              "      <td>Normal</td>\n",
              "      <td>N</td>\n",
              "      <td>Flat</td>\n",
              "    </tr>\n",
              "    <tr>\n",
              "      <th>freq</th>\n",
              "      <td>725</td>\n",
              "      <td>496</td>\n",
              "      <td>552</td>\n",
              "      <td>547</td>\n",
              "      <td>460</td>\n",
              "    </tr>\n",
              "  </tbody>\n",
              "</table>\n",
              "</div>\n",
              "      <button class=\"colab-df-convert\" onclick=\"convertToInteractive('df-88c437e2-557f-4d60-bc51-c24293b3bba3')\"\n",
              "              title=\"Convert this dataframe to an interactive table.\"\n",
              "              style=\"display:none;\">\n",
              "        \n",
              "  <svg xmlns=\"http://www.w3.org/2000/svg\" height=\"24px\"viewBox=\"0 0 24 24\"\n",
              "       width=\"24px\">\n",
              "    <path d=\"M0 0h24v24H0V0z\" fill=\"none\"/>\n",
              "    <path d=\"M18.56 5.44l.94 2.06.94-2.06 2.06-.94-2.06-.94-.94-2.06-.94 2.06-2.06.94zm-11 1L8.5 8.5l.94-2.06 2.06-.94-2.06-.94L8.5 2.5l-.94 2.06-2.06.94zm10 10l.94 2.06.94-2.06 2.06-.94-2.06-.94-.94-2.06-.94 2.06-2.06.94z\"/><path d=\"M17.41 7.96l-1.37-1.37c-.4-.4-.92-.59-1.43-.59-.52 0-1.04.2-1.43.59L10.3 9.45l-7.72 7.72c-.78.78-.78 2.05 0 2.83L4 21.41c.39.39.9.59 1.41.59.51 0 1.02-.2 1.41-.59l7.78-7.78 2.81-2.81c.8-.78.8-2.07 0-2.86zM5.41 20L4 18.59l7.72-7.72 1.47 1.35L5.41 20z\"/>\n",
              "  </svg>\n",
              "      </button>\n",
              "      \n",
              "  <style>\n",
              "    .colab-df-container {\n",
              "      display:flex;\n",
              "      flex-wrap:wrap;\n",
              "      gap: 12px;\n",
              "    }\n",
              "\n",
              "    .colab-df-convert {\n",
              "      background-color: #E8F0FE;\n",
              "      border: none;\n",
              "      border-radius: 50%;\n",
              "      cursor: pointer;\n",
              "      display: none;\n",
              "      fill: #1967D2;\n",
              "      height: 32px;\n",
              "      padding: 0 0 0 0;\n",
              "      width: 32px;\n",
              "    }\n",
              "\n",
              "    .colab-df-convert:hover {\n",
              "      background-color: #E2EBFA;\n",
              "      box-shadow: 0px 1px 2px rgba(60, 64, 67, 0.3), 0px 1px 3px 1px rgba(60, 64, 67, 0.15);\n",
              "      fill: #174EA6;\n",
              "    }\n",
              "\n",
              "    [theme=dark] .colab-df-convert {\n",
              "      background-color: #3B4455;\n",
              "      fill: #D2E3FC;\n",
              "    }\n",
              "\n",
              "    [theme=dark] .colab-df-convert:hover {\n",
              "      background-color: #434B5C;\n",
              "      box-shadow: 0px 1px 3px 1px rgba(0, 0, 0, 0.15);\n",
              "      filter: drop-shadow(0px 1px 2px rgba(0, 0, 0, 0.3));\n",
              "      fill: #FFFFFF;\n",
              "    }\n",
              "  </style>\n",
              "\n",
              "      <script>\n",
              "        const buttonEl =\n",
              "          document.querySelector('#df-88c437e2-557f-4d60-bc51-c24293b3bba3 button.colab-df-convert');\n",
              "        buttonEl.style.display =\n",
              "          google.colab.kernel.accessAllowed ? 'block' : 'none';\n",
              "\n",
              "        async function convertToInteractive(key) {\n",
              "          const element = document.querySelector('#df-88c437e2-557f-4d60-bc51-c24293b3bba3');\n",
              "          const dataTable =\n",
              "            await google.colab.kernel.invokeFunction('convertToInteractive',\n",
              "                                                     [key], {});\n",
              "          if (!dataTable) return;\n",
              "\n",
              "          const docLinkHtml = 'Like what you see? Visit the ' +\n",
              "            '<a target=\"_blank\" href=https://colab.research.google.com/notebooks/data_table.ipynb>data table notebook</a>'\n",
              "            + ' to learn more about interactive tables.';\n",
              "          element.innerHTML = '';\n",
              "          dataTable['output_type'] = 'display_data';\n",
              "          await google.colab.output.renderOutput(dataTable, element);\n",
              "          const docLink = document.createElement('div');\n",
              "          docLink.innerHTML = docLinkHtml;\n",
              "          element.appendChild(docLink);\n",
              "        }\n",
              "      </script>\n",
              "    </div>\n",
              "  </div>\n",
              "  "
            ]
          },
          "metadata": {},
          "execution_count": 89
        }
      ]
    },
    {
      "cell_type": "code",
      "source": [
        "# Mengubah type data fastingBS, HeartDisese karena harusnya menjadi \n",
        "# Data categorical dengan unik value terdiri dari 2 macam yaitu 0 dan 1\n",
        "\n",
        "df['FastingBS'] = df['FastingBS'].astype('object')\n",
        "df['HeartDisease'] = df['HeartDisease'].astype('object')"
      ],
      "metadata": {
        "id": "7v2m0JbZITP1"
      },
      "execution_count": null,
      "outputs": []
    },
    {
      "cell_type": "code",
      "source": [
        "df.info()"
      ],
      "metadata": {
        "id": "hW71Mb4vKVHy",
        "colab": {
          "base_uri": "https://localhost:8080/"
        },
        "outputId": "b70ac812-44b2-41f0-94f7-8dbe4bad9703"
      },
      "execution_count": null,
      "outputs": [
        {
          "output_type": "stream",
          "name": "stdout",
          "text": [
            "<class 'pandas.core.frame.DataFrame'>\n",
            "RangeIndex: 918 entries, 0 to 917\n",
            "Data columns (total 12 columns):\n",
            " #   Column          Non-Null Count  Dtype  \n",
            "---  ------          --------------  -----  \n",
            " 0   Age             918 non-null    int64  \n",
            " 1   Sex             918 non-null    object \n",
            " 2   ChestPainType   918 non-null    object \n",
            " 3   RestingBP       918 non-null    int64  \n",
            " 4   Cholesterol     918 non-null    int64  \n",
            " 5   FastingBS       918 non-null    object \n",
            " 6   RestingECG      918 non-null    object \n",
            " 7   MaxHR           918 non-null    int64  \n",
            " 8   ExerciseAngina  918 non-null    object \n",
            " 9   Oldpeak         918 non-null    float64\n",
            " 10  ST_Slope        918 non-null    object \n",
            " 11  HeartDisease    918 non-null    object \n",
            "dtypes: float64(1), int64(4), object(7)\n",
            "memory usage: 86.2+ KB\n"
          ]
        }
      ]
    },
    {
      "cell_type": "code",
      "source": [
        "numerical_features = df.select_dtypes(include=\"number\").columns.tolist() # memisahkan kolom numerik\n",
        "categorical_features = df.select_dtypes(include=\"object\").columns.tolist() # memishakan kolom kategorik\n",
        "\n",
        "print(\"Numerical features:\")\n",
        "pprint(numerical_features, compact=True) # print untuk tipe data yang lebih kompleks (list, tuple, set, dll)\n",
        "print(\"Categorical features:\")\n",
        "pprint(categorical_features, compact=True) # agar memastikan categorical_features tidak berubah ketika  dipanggil lagI"
      ],
      "metadata": {
        "colab": {
          "base_uri": "https://localhost:8080/"
        },
        "id": "ff3wmqKDKX_a",
        "outputId": "4688b0e3-b6de-44ba-ba85-3f24f9a10374"
      },
      "execution_count": null,
      "outputs": [
        {
          "output_type": "stream",
          "name": "stdout",
          "text": [
            "Numerical features:\n",
            "['Age', 'RestingBP', 'Cholesterol', 'MaxHR', 'Oldpeak']\n",
            "Categorical features:\n",
            "['Sex', 'ChestPainType', 'FastingBS', 'RestingECG', 'ExerciseAngina',\n",
            " 'ST_Slope', 'HeartDisease']\n"
          ]
        }
      ]
    },
    {
      "cell_type": "code",
      "source": [
        "# menampilkan perhitungan stastictics utk data variabel Numerik\n",
        "\n",
        "df[numerical_features].describe().T"
      ],
      "metadata": {
        "colab": {
          "base_uri": "https://localhost:8080/",
          "height": 206
        },
        "id": "SKOsVaDcKnVF",
        "outputId": "53f84a03-b781-432d-f2fd-fa65d69f4ab1"
      },
      "execution_count": null,
      "outputs": [
        {
          "output_type": "execute_result",
          "data": {
            "text/plain": [
              "             count        mean         std   min     25%    50%    75%    max\n",
              "Age          918.0   53.510893    9.432617  28.0   47.00   54.0   60.0   77.0\n",
              "RestingBP    918.0  132.396514   18.514154   0.0  120.00  130.0  140.0  200.0\n",
              "Cholesterol  918.0  198.799564  109.384145   0.0  173.25  223.0  267.0  603.0\n",
              "MaxHR        918.0  136.809368   25.460334  60.0  120.00  138.0  156.0  202.0\n",
              "Oldpeak      918.0    0.887364    1.066570  -2.6    0.00    0.6    1.5    6.2"
            ],
            "text/html": [
              "\n",
              "  <div id=\"df-d701c6a1-b5b4-4806-a06f-97a629e42b91\">\n",
              "    <div class=\"colab-df-container\">\n",
              "      <div>\n",
              "<style scoped>\n",
              "    .dataframe tbody tr th:only-of-type {\n",
              "        vertical-align: middle;\n",
              "    }\n",
              "\n",
              "    .dataframe tbody tr th {\n",
              "        vertical-align: top;\n",
              "    }\n",
              "\n",
              "    .dataframe thead th {\n",
              "        text-align: right;\n",
              "    }\n",
              "</style>\n",
              "<table border=\"1\" class=\"dataframe\">\n",
              "  <thead>\n",
              "    <tr style=\"text-align: right;\">\n",
              "      <th></th>\n",
              "      <th>count</th>\n",
              "      <th>mean</th>\n",
              "      <th>std</th>\n",
              "      <th>min</th>\n",
              "      <th>25%</th>\n",
              "      <th>50%</th>\n",
              "      <th>75%</th>\n",
              "      <th>max</th>\n",
              "    </tr>\n",
              "  </thead>\n",
              "  <tbody>\n",
              "    <tr>\n",
              "      <th>Age</th>\n",
              "      <td>918.0</td>\n",
              "      <td>53.510893</td>\n",
              "      <td>9.432617</td>\n",
              "      <td>28.0</td>\n",
              "      <td>47.00</td>\n",
              "      <td>54.0</td>\n",
              "      <td>60.0</td>\n",
              "      <td>77.0</td>\n",
              "    </tr>\n",
              "    <tr>\n",
              "      <th>RestingBP</th>\n",
              "      <td>918.0</td>\n",
              "      <td>132.396514</td>\n",
              "      <td>18.514154</td>\n",
              "      <td>0.0</td>\n",
              "      <td>120.00</td>\n",
              "      <td>130.0</td>\n",
              "      <td>140.0</td>\n",
              "      <td>200.0</td>\n",
              "    </tr>\n",
              "    <tr>\n",
              "      <th>Cholesterol</th>\n",
              "      <td>918.0</td>\n",
              "      <td>198.799564</td>\n",
              "      <td>109.384145</td>\n",
              "      <td>0.0</td>\n",
              "      <td>173.25</td>\n",
              "      <td>223.0</td>\n",
              "      <td>267.0</td>\n",
              "      <td>603.0</td>\n",
              "    </tr>\n",
              "    <tr>\n",
              "      <th>MaxHR</th>\n",
              "      <td>918.0</td>\n",
              "      <td>136.809368</td>\n",
              "      <td>25.460334</td>\n",
              "      <td>60.0</td>\n",
              "      <td>120.00</td>\n",
              "      <td>138.0</td>\n",
              "      <td>156.0</td>\n",
              "      <td>202.0</td>\n",
              "    </tr>\n",
              "    <tr>\n",
              "      <th>Oldpeak</th>\n",
              "      <td>918.0</td>\n",
              "      <td>0.887364</td>\n",
              "      <td>1.066570</td>\n",
              "      <td>-2.6</td>\n",
              "      <td>0.00</td>\n",
              "      <td>0.6</td>\n",
              "      <td>1.5</td>\n",
              "      <td>6.2</td>\n",
              "    </tr>\n",
              "  </tbody>\n",
              "</table>\n",
              "</div>\n",
              "      <button class=\"colab-df-convert\" onclick=\"convertToInteractive('df-d701c6a1-b5b4-4806-a06f-97a629e42b91')\"\n",
              "              title=\"Convert this dataframe to an interactive table.\"\n",
              "              style=\"display:none;\">\n",
              "        \n",
              "  <svg xmlns=\"http://www.w3.org/2000/svg\" height=\"24px\"viewBox=\"0 0 24 24\"\n",
              "       width=\"24px\">\n",
              "    <path d=\"M0 0h24v24H0V0z\" fill=\"none\"/>\n",
              "    <path d=\"M18.56 5.44l.94 2.06.94-2.06 2.06-.94-2.06-.94-.94-2.06-.94 2.06-2.06.94zm-11 1L8.5 8.5l.94-2.06 2.06-.94-2.06-.94L8.5 2.5l-.94 2.06-2.06.94zm10 10l.94 2.06.94-2.06 2.06-.94-2.06-.94-.94-2.06-.94 2.06-2.06.94z\"/><path d=\"M17.41 7.96l-1.37-1.37c-.4-.4-.92-.59-1.43-.59-.52 0-1.04.2-1.43.59L10.3 9.45l-7.72 7.72c-.78.78-.78 2.05 0 2.83L4 21.41c.39.39.9.59 1.41.59.51 0 1.02-.2 1.41-.59l7.78-7.78 2.81-2.81c.8-.78.8-2.07 0-2.86zM5.41 20L4 18.59l7.72-7.72 1.47 1.35L5.41 20z\"/>\n",
              "  </svg>\n",
              "      </button>\n",
              "      \n",
              "  <style>\n",
              "    .colab-df-container {\n",
              "      display:flex;\n",
              "      flex-wrap:wrap;\n",
              "      gap: 12px;\n",
              "    }\n",
              "\n",
              "    .colab-df-convert {\n",
              "      background-color: #E8F0FE;\n",
              "      border: none;\n",
              "      border-radius: 50%;\n",
              "      cursor: pointer;\n",
              "      display: none;\n",
              "      fill: #1967D2;\n",
              "      height: 32px;\n",
              "      padding: 0 0 0 0;\n",
              "      width: 32px;\n",
              "    }\n",
              "\n",
              "    .colab-df-convert:hover {\n",
              "      background-color: #E2EBFA;\n",
              "      box-shadow: 0px 1px 2px rgba(60, 64, 67, 0.3), 0px 1px 3px 1px rgba(60, 64, 67, 0.15);\n",
              "      fill: #174EA6;\n",
              "    }\n",
              "\n",
              "    [theme=dark] .colab-df-convert {\n",
              "      background-color: #3B4455;\n",
              "      fill: #D2E3FC;\n",
              "    }\n",
              "\n",
              "    [theme=dark] .colab-df-convert:hover {\n",
              "      background-color: #434B5C;\n",
              "      box-shadow: 0px 1px 3px 1px rgba(0, 0, 0, 0.15);\n",
              "      filter: drop-shadow(0px 1px 2px rgba(0, 0, 0, 0.3));\n",
              "      fill: #FFFFFF;\n",
              "    }\n",
              "  </style>\n",
              "\n",
              "      <script>\n",
              "        const buttonEl =\n",
              "          document.querySelector('#df-d701c6a1-b5b4-4806-a06f-97a629e42b91 button.colab-df-convert');\n",
              "        buttonEl.style.display =\n",
              "          google.colab.kernel.accessAllowed ? 'block' : 'none';\n",
              "\n",
              "        async function convertToInteractive(key) {\n",
              "          const element = document.querySelector('#df-d701c6a1-b5b4-4806-a06f-97a629e42b91');\n",
              "          const dataTable =\n",
              "            await google.colab.kernel.invokeFunction('convertToInteractive',\n",
              "                                                     [key], {});\n",
              "          if (!dataTable) return;\n",
              "\n",
              "          const docLinkHtml = 'Like what you see? Visit the ' +\n",
              "            '<a target=\"_blank\" href=https://colab.research.google.com/notebooks/data_table.ipynb>data table notebook</a>'\n",
              "            + ' to learn more about interactive tables.';\n",
              "          element.innerHTML = '';\n",
              "          dataTable['output_type'] = 'display_data';\n",
              "          await google.colab.output.renderOutput(dataTable, element);\n",
              "          const docLink = document.createElement('div');\n",
              "          docLink.innerHTML = docLinkHtml;\n",
              "          element.appendChild(docLink);\n",
              "        }\n",
              "      </script>\n",
              "    </div>\n",
              "  </div>\n",
              "  "
            ]
          },
          "metadata": {},
          "execution_count": 93
        }
      ]
    },
    {
      "cell_type": "code",
      "source": [
        "# menampilkan perhitungan stastictics utk data variabel Kategorik\n",
        "\n",
        "df[categorical_features].describe().T"
      ],
      "metadata": {
        "colab": {
          "base_uri": "https://localhost:8080/",
          "height": 269
        },
        "id": "gS4OVbr5KuNR",
        "outputId": "708836c6-b0e4-4736-b718-adebedbade81"
      },
      "execution_count": null,
      "outputs": [
        {
          "output_type": "execute_result",
          "data": {
            "text/plain": [
              "               count unique     top freq\n",
              "Sex              918      2       M  725\n",
              "ChestPainType    918      4     ASY  496\n",
              "FastingBS        918      2       0  704\n",
              "RestingECG       918      3  Normal  552\n",
              "ExerciseAngina   918      2       N  547\n",
              "ST_Slope         918      3    Flat  460\n",
              "HeartDisease     918      2       1  508"
            ],
            "text/html": [
              "\n",
              "  <div id=\"df-5acc1551-2375-4891-831a-790daef479ec\">\n",
              "    <div class=\"colab-df-container\">\n",
              "      <div>\n",
              "<style scoped>\n",
              "    .dataframe tbody tr th:only-of-type {\n",
              "        vertical-align: middle;\n",
              "    }\n",
              "\n",
              "    .dataframe tbody tr th {\n",
              "        vertical-align: top;\n",
              "    }\n",
              "\n",
              "    .dataframe thead th {\n",
              "        text-align: right;\n",
              "    }\n",
              "</style>\n",
              "<table border=\"1\" class=\"dataframe\">\n",
              "  <thead>\n",
              "    <tr style=\"text-align: right;\">\n",
              "      <th></th>\n",
              "      <th>count</th>\n",
              "      <th>unique</th>\n",
              "      <th>top</th>\n",
              "      <th>freq</th>\n",
              "    </tr>\n",
              "  </thead>\n",
              "  <tbody>\n",
              "    <tr>\n",
              "      <th>Sex</th>\n",
              "      <td>918</td>\n",
              "      <td>2</td>\n",
              "      <td>M</td>\n",
              "      <td>725</td>\n",
              "    </tr>\n",
              "    <tr>\n",
              "      <th>ChestPainType</th>\n",
              "      <td>918</td>\n",
              "      <td>4</td>\n",
              "      <td>ASY</td>\n",
              "      <td>496</td>\n",
              "    </tr>\n",
              "    <tr>\n",
              "      <th>FastingBS</th>\n",
              "      <td>918</td>\n",
              "      <td>2</td>\n",
              "      <td>0</td>\n",
              "      <td>704</td>\n",
              "    </tr>\n",
              "    <tr>\n",
              "      <th>RestingECG</th>\n",
              "      <td>918</td>\n",
              "      <td>3</td>\n",
              "      <td>Normal</td>\n",
              "      <td>552</td>\n",
              "    </tr>\n",
              "    <tr>\n",
              "      <th>ExerciseAngina</th>\n",
              "      <td>918</td>\n",
              "      <td>2</td>\n",
              "      <td>N</td>\n",
              "      <td>547</td>\n",
              "    </tr>\n",
              "    <tr>\n",
              "      <th>ST_Slope</th>\n",
              "      <td>918</td>\n",
              "      <td>3</td>\n",
              "      <td>Flat</td>\n",
              "      <td>460</td>\n",
              "    </tr>\n",
              "    <tr>\n",
              "      <th>HeartDisease</th>\n",
              "      <td>918</td>\n",
              "      <td>2</td>\n",
              "      <td>1</td>\n",
              "      <td>508</td>\n",
              "    </tr>\n",
              "  </tbody>\n",
              "</table>\n",
              "</div>\n",
              "      <button class=\"colab-df-convert\" onclick=\"convertToInteractive('df-5acc1551-2375-4891-831a-790daef479ec')\"\n",
              "              title=\"Convert this dataframe to an interactive table.\"\n",
              "              style=\"display:none;\">\n",
              "        \n",
              "  <svg xmlns=\"http://www.w3.org/2000/svg\" height=\"24px\"viewBox=\"0 0 24 24\"\n",
              "       width=\"24px\">\n",
              "    <path d=\"M0 0h24v24H0V0z\" fill=\"none\"/>\n",
              "    <path d=\"M18.56 5.44l.94 2.06.94-2.06 2.06-.94-2.06-.94-.94-2.06-.94 2.06-2.06.94zm-11 1L8.5 8.5l.94-2.06 2.06-.94-2.06-.94L8.5 2.5l-.94 2.06-2.06.94zm10 10l.94 2.06.94-2.06 2.06-.94-2.06-.94-.94-2.06-.94 2.06-2.06.94z\"/><path d=\"M17.41 7.96l-1.37-1.37c-.4-.4-.92-.59-1.43-.59-.52 0-1.04.2-1.43.59L10.3 9.45l-7.72 7.72c-.78.78-.78 2.05 0 2.83L4 21.41c.39.39.9.59 1.41.59.51 0 1.02-.2 1.41-.59l7.78-7.78 2.81-2.81c.8-.78.8-2.07 0-2.86zM5.41 20L4 18.59l7.72-7.72 1.47 1.35L5.41 20z\"/>\n",
              "  </svg>\n",
              "      </button>\n",
              "      \n",
              "  <style>\n",
              "    .colab-df-container {\n",
              "      display:flex;\n",
              "      flex-wrap:wrap;\n",
              "      gap: 12px;\n",
              "    }\n",
              "\n",
              "    .colab-df-convert {\n",
              "      background-color: #E8F0FE;\n",
              "      border: none;\n",
              "      border-radius: 50%;\n",
              "      cursor: pointer;\n",
              "      display: none;\n",
              "      fill: #1967D2;\n",
              "      height: 32px;\n",
              "      padding: 0 0 0 0;\n",
              "      width: 32px;\n",
              "    }\n",
              "\n",
              "    .colab-df-convert:hover {\n",
              "      background-color: #E2EBFA;\n",
              "      box-shadow: 0px 1px 2px rgba(60, 64, 67, 0.3), 0px 1px 3px 1px rgba(60, 64, 67, 0.15);\n",
              "      fill: #174EA6;\n",
              "    }\n",
              "\n",
              "    [theme=dark] .colab-df-convert {\n",
              "      background-color: #3B4455;\n",
              "      fill: #D2E3FC;\n",
              "    }\n",
              "\n",
              "    [theme=dark] .colab-df-convert:hover {\n",
              "      background-color: #434B5C;\n",
              "      box-shadow: 0px 1px 3px 1px rgba(0, 0, 0, 0.15);\n",
              "      filter: drop-shadow(0px 1px 2px rgba(0, 0, 0, 0.3));\n",
              "      fill: #FFFFFF;\n",
              "    }\n",
              "  </style>\n",
              "\n",
              "      <script>\n",
              "        const buttonEl =\n",
              "          document.querySelector('#df-5acc1551-2375-4891-831a-790daef479ec button.colab-df-convert');\n",
              "        buttonEl.style.display =\n",
              "          google.colab.kernel.accessAllowed ? 'block' : 'none';\n",
              "\n",
              "        async function convertToInteractive(key) {\n",
              "          const element = document.querySelector('#df-5acc1551-2375-4891-831a-790daef479ec');\n",
              "          const dataTable =\n",
              "            await google.colab.kernel.invokeFunction('convertToInteractive',\n",
              "                                                     [key], {});\n",
              "          if (!dataTable) return;\n",
              "\n",
              "          const docLinkHtml = 'Like what you see? Visit the ' +\n",
              "            '<a target=\"_blank\" href=https://colab.research.google.com/notebooks/data_table.ipynb>data table notebook</a>'\n",
              "            + ' to learn more about interactive tables.';\n",
              "          element.innerHTML = '';\n",
              "          dataTable['output_type'] = 'display_data';\n",
              "          await google.colab.output.renderOutput(dataTable, element);\n",
              "          const docLink = document.createElement('div');\n",
              "          docLink.innerHTML = docLinkHtml;\n",
              "          element.appendChild(docLink);\n",
              "        }\n",
              "      </script>\n",
              "    </div>\n",
              "  </div>\n",
              "  "
            ]
          },
          "metadata": {},
          "execution_count": 94
        }
      ]
    },
    {
      "cell_type": "markdown",
      "source": [
        "##2.2 Exploratory Data Analysis Numerik\n",
        "\n",
        "**Data Dictionary**:\n",
        "\n",
        "| column | description |\n",
        "| ------ | ----------- |\n",
        "| `Age` | Umur dari pasien |\n",
        "| `Sex` | Jenis kelamin pasien [F: Female, M: Male] |\n",
        "| `ChestPainType` |  Tipe nyeri dada [TA: Typical Angina, ATA: Atypical Angina, NAP: Non-Anginal Pain, ASY: Asymptomatic] |\n",
        "| `RestingBP` | Tekanan Darah saat istirahat[mm Hg] |\n",
        "| `Cholesterol` | Kolestrol serum [mm/dl] |\n",
        "| `FastingBS` |  Gula darah saat puasa  [1: FastingBS > 120 mg/dL, 0: Sebaliknya] |\n",
        "| `Resting ECG :` | Pemeriksaan yang dilakukan saat pasien dalam kondisi istirahat (dalam posisi berbaring). |\n",
        "| `Max HR` |  Mengukur detak jantung maksimum |\n",
        "| `Exercise Angina` |  Latihan untuk dada karena berkurangnya aliran darah pada jantung |\n",
        "| `Old peak` | depresi ST yang diakibatkan oleh latihan relative terhadap saat istirahat. |\n",
        "| `ST_Slope` | Pergeseran terhadap peningkatan denyut jantung yang disebabkan oleh olahraga  |\n",
        "| `HeartDisease` | Variabel target [1: Heart disease, 0: Normal] |\n"
      ],
      "metadata": {
        "id": "TNf5EcbDMuMX"
      }
    },
    {
      "cell_type": "markdown",
      "source": [
        "###2.2.1 Summary Statistic"
      ],
      "metadata": {
        "id": "k6XHCdA9Lrts"
      }
    },
    {
      "cell_type": "code",
      "source": [
        "df[numerical_features].head()"
      ],
      "metadata": {
        "colab": {
          "base_uri": "https://localhost:8080/",
          "height": 206
        },
        "id": "27_Wqks1N3FD",
        "outputId": "eaeae870-1ea6-4c56-d37e-0c2ef3af73c6"
      },
      "execution_count": null,
      "outputs": [
        {
          "output_type": "execute_result",
          "data": {
            "text/plain": [
              "   Age  RestingBP  Cholesterol  MaxHR  Oldpeak\n",
              "0   40        140          289    172      0.0\n",
              "1   49        160          180    156      1.0\n",
              "2   37        130          283     98      0.0\n",
              "3   48        138          214    108      1.5\n",
              "4   54        150          195    122      0.0"
            ],
            "text/html": [
              "\n",
              "  <div id=\"df-c7b53879-d2c3-4450-bfc9-9f96548ee4d0\">\n",
              "    <div class=\"colab-df-container\">\n",
              "      <div>\n",
              "<style scoped>\n",
              "    .dataframe tbody tr th:only-of-type {\n",
              "        vertical-align: middle;\n",
              "    }\n",
              "\n",
              "    .dataframe tbody tr th {\n",
              "        vertical-align: top;\n",
              "    }\n",
              "\n",
              "    .dataframe thead th {\n",
              "        text-align: right;\n",
              "    }\n",
              "</style>\n",
              "<table border=\"1\" class=\"dataframe\">\n",
              "  <thead>\n",
              "    <tr style=\"text-align: right;\">\n",
              "      <th></th>\n",
              "      <th>Age</th>\n",
              "      <th>RestingBP</th>\n",
              "      <th>Cholesterol</th>\n",
              "      <th>MaxHR</th>\n",
              "      <th>Oldpeak</th>\n",
              "    </tr>\n",
              "  </thead>\n",
              "  <tbody>\n",
              "    <tr>\n",
              "      <th>0</th>\n",
              "      <td>40</td>\n",
              "      <td>140</td>\n",
              "      <td>289</td>\n",
              "      <td>172</td>\n",
              "      <td>0.0</td>\n",
              "    </tr>\n",
              "    <tr>\n",
              "      <th>1</th>\n",
              "      <td>49</td>\n",
              "      <td>160</td>\n",
              "      <td>180</td>\n",
              "      <td>156</td>\n",
              "      <td>1.0</td>\n",
              "    </tr>\n",
              "    <tr>\n",
              "      <th>2</th>\n",
              "      <td>37</td>\n",
              "      <td>130</td>\n",
              "      <td>283</td>\n",
              "      <td>98</td>\n",
              "      <td>0.0</td>\n",
              "    </tr>\n",
              "    <tr>\n",
              "      <th>3</th>\n",
              "      <td>48</td>\n",
              "      <td>138</td>\n",
              "      <td>214</td>\n",
              "      <td>108</td>\n",
              "      <td>1.5</td>\n",
              "    </tr>\n",
              "    <tr>\n",
              "      <th>4</th>\n",
              "      <td>54</td>\n",
              "      <td>150</td>\n",
              "      <td>195</td>\n",
              "      <td>122</td>\n",
              "      <td>0.0</td>\n",
              "    </tr>\n",
              "  </tbody>\n",
              "</table>\n",
              "</div>\n",
              "      <button class=\"colab-df-convert\" onclick=\"convertToInteractive('df-c7b53879-d2c3-4450-bfc9-9f96548ee4d0')\"\n",
              "              title=\"Convert this dataframe to an interactive table.\"\n",
              "              style=\"display:none;\">\n",
              "        \n",
              "  <svg xmlns=\"http://www.w3.org/2000/svg\" height=\"24px\"viewBox=\"0 0 24 24\"\n",
              "       width=\"24px\">\n",
              "    <path d=\"M0 0h24v24H0V0z\" fill=\"none\"/>\n",
              "    <path d=\"M18.56 5.44l.94 2.06.94-2.06 2.06-.94-2.06-.94-.94-2.06-.94 2.06-2.06.94zm-11 1L8.5 8.5l.94-2.06 2.06-.94-2.06-.94L8.5 2.5l-.94 2.06-2.06.94zm10 10l.94 2.06.94-2.06 2.06-.94-2.06-.94-.94-2.06-.94 2.06-2.06.94z\"/><path d=\"M17.41 7.96l-1.37-1.37c-.4-.4-.92-.59-1.43-.59-.52 0-1.04.2-1.43.59L10.3 9.45l-7.72 7.72c-.78.78-.78 2.05 0 2.83L4 21.41c.39.39.9.59 1.41.59.51 0 1.02-.2 1.41-.59l7.78-7.78 2.81-2.81c.8-.78.8-2.07 0-2.86zM5.41 20L4 18.59l7.72-7.72 1.47 1.35L5.41 20z\"/>\n",
              "  </svg>\n",
              "      </button>\n",
              "      \n",
              "  <style>\n",
              "    .colab-df-container {\n",
              "      display:flex;\n",
              "      flex-wrap:wrap;\n",
              "      gap: 12px;\n",
              "    }\n",
              "\n",
              "    .colab-df-convert {\n",
              "      background-color: #E8F0FE;\n",
              "      border: none;\n",
              "      border-radius: 50%;\n",
              "      cursor: pointer;\n",
              "      display: none;\n",
              "      fill: #1967D2;\n",
              "      height: 32px;\n",
              "      padding: 0 0 0 0;\n",
              "      width: 32px;\n",
              "    }\n",
              "\n",
              "    .colab-df-convert:hover {\n",
              "      background-color: #E2EBFA;\n",
              "      box-shadow: 0px 1px 2px rgba(60, 64, 67, 0.3), 0px 1px 3px 1px rgba(60, 64, 67, 0.15);\n",
              "      fill: #174EA6;\n",
              "    }\n",
              "\n",
              "    [theme=dark] .colab-df-convert {\n",
              "      background-color: #3B4455;\n",
              "      fill: #D2E3FC;\n",
              "    }\n",
              "\n",
              "    [theme=dark] .colab-df-convert:hover {\n",
              "      background-color: #434B5C;\n",
              "      box-shadow: 0px 1px 3px 1px rgba(0, 0, 0, 0.15);\n",
              "      filter: drop-shadow(0px 1px 2px rgba(0, 0, 0, 0.3));\n",
              "      fill: #FFFFFF;\n",
              "    }\n",
              "  </style>\n",
              "\n",
              "      <script>\n",
              "        const buttonEl =\n",
              "          document.querySelector('#df-c7b53879-d2c3-4450-bfc9-9f96548ee4d0 button.colab-df-convert');\n",
              "        buttonEl.style.display =\n",
              "          google.colab.kernel.accessAllowed ? 'block' : 'none';\n",
              "\n",
              "        async function convertToInteractive(key) {\n",
              "          const element = document.querySelector('#df-c7b53879-d2c3-4450-bfc9-9f96548ee4d0');\n",
              "          const dataTable =\n",
              "            await google.colab.kernel.invokeFunction('convertToInteractive',\n",
              "                                                     [key], {});\n",
              "          if (!dataTable) return;\n",
              "\n",
              "          const docLinkHtml = 'Like what you see? Visit the ' +\n",
              "            '<a target=\"_blank\" href=https://colab.research.google.com/notebooks/data_table.ipynb>data table notebook</a>'\n",
              "            + ' to learn more about interactive tables.';\n",
              "          element.innerHTML = '';\n",
              "          dataTable['output_type'] = 'display_data';\n",
              "          await google.colab.output.renderOutput(dataTable, element);\n",
              "          const docLink = document.createElement('div');\n",
              "          docLink.innerHTML = docLinkHtml;\n",
              "          element.appendChild(docLink);\n",
              "        }\n",
              "      </script>\n",
              "    </div>\n",
              "  </div>\n",
              "  "
            ]
          },
          "metadata": {},
          "execution_count": 95
        }
      ]
    },
    {
      "cell_type": "markdown",
      "source": [
        "###2.2.2 Outlier"
      ],
      "metadata": {
        "id": "LLd-IZghQHxF"
      }
    },
    {
      "cell_type": "code",
      "source": [
        "#Melihat outlier\n",
        "df[numerical_features].plot(kind=\"box\", figsize=(10, 7))\n",
        "plt.grid(False)\n",
        "plt.show()"
      ],
      "metadata": {
        "colab": {
          "base_uri": "https://localhost:8080/",
          "height": 425
        },
        "id": "EPppwmnnKxhL",
        "outputId": "8ef94aae-6dc5-47de-9ef6-c1f2e521a59b"
      },
      "execution_count": null,
      "outputs": [
        {
          "output_type": "display_data",
          "data": {
            "text/plain": [
              "<Figure size 720x504 with 1 Axes>"
            ],
            "image/png": "[encoded data removed]"
          },
          "metadata": {
            "needs_background": "light"
          }
        }
      ]
    },
    {
      "cell_type": "markdown",
      "source": [
        "> **Insights:** \n",
        "\n",
        "Dari visualisasi box plot di atas:\n",
        "* Semua distribusi `RestingBP`, `Cholesterol`, terlihat right-skewed\n",
        "\n",
        "Diputuskan: tidak dibuang outliernya, karena outlier tersebut masih belum secara pasti disebabkan karena apa. Untuk itu, tetap menjaga data asli"
      ],
      "metadata": {
        "id": "OW8orbLnTl8R"
      }
    },
    {
      "cell_type": "code",
      "source": [
        "df.shape"
      ],
      "metadata": {
        "colab": {
          "base_uri": "https://localhost:8080/"
        },
        "id": "4CDPivvcZOKr",
        "outputId": "4a54ffdd-7264-4b08-97bc-11b6da3fee59"
      },
      "execution_count": null,
      "outputs": [
        {
          "output_type": "execute_result",
          "data": {
            "text/plain": [
              "(918, 12)"
            ]
          },
          "metadata": {},
          "execution_count": 97
        }
      ]
    },
    {
      "cell_type": "markdown",
      "source": [
        "###2.2.3 Correlation"
      ],
      "metadata": {
        "id": "Od8AqmkMMP7u"
      }
    },
    {
      "cell_type": "markdown",
      "source": [
        "Melihat hubungan dari fitur numerik menggunakan correlation "
      ],
      "metadata": {
        "id": "-sa2j2y56wWm"
      }
    },
    {
      "cell_type": "code",
      "source": [
        "df.corr()"
      ],
      "metadata": {
        "colab": {
          "base_uri": "https://localhost:8080/",
          "height": 206
        },
        "id": "50r7c76MMQyp",
        "outputId": "170b32e8-c958-40ee-d594-489f086db3cb"
      },
      "execution_count": null,
      "outputs": [
        {
          "output_type": "execute_result",
          "data": {
            "text/plain": [
              "                  Age  RestingBP  Cholesterol     MaxHR   Oldpeak\n",
              "Age          1.000000   0.254399    -0.095282 -0.382045  0.258612\n",
              "RestingBP    0.254399   1.000000     0.100893 -0.112135  0.164803\n",
              "Cholesterol -0.095282   0.100893     1.000000  0.235792  0.050148\n",
              "MaxHR       -0.382045  -0.112135     0.235792  1.000000 -0.160691\n",
              "Oldpeak      0.258612   0.164803     0.050148 -0.160691  1.000000"
            ],
            "text/html": [
              "\n",
              "  <div id=\"df-7d2c5eb8-ba58-4244-8103-aadfb8357cda\">\n",
              "    <div class=\"colab-df-container\">\n",
              "      <div>\n",
              "<style scoped>\n",
              "    .dataframe tbody tr th:only-of-type {\n",
              "        vertical-align: middle;\n",
              "    }\n",
              "\n",
              "    .dataframe tbody tr th {\n",
              "        vertical-align: top;\n",
              "    }\n",
              "\n",
              "    .dataframe thead th {\n",
              "        text-align: right;\n",
              "    }\n",
              "</style>\n",
              "<table border=\"1\" class=\"dataframe\">\n",
              "  <thead>\n",
              "    <tr style=\"text-align: right;\">\n",
              "      <th></th>\n",
              "      <th>Age</th>\n",
              "      <th>RestingBP</th>\n",
              "      <th>Cholesterol</th>\n",
              "      <th>MaxHR</th>\n",
              "      <th>Oldpeak</th>\n",
              "    </tr>\n",
              "  </thead>\n",
              "  <tbody>\n",
              "    <tr>\n",
              "      <th>Age</th>\n",
              "      <td>1.000000</td>\n",
              "      <td>0.254399</td>\n",
              "      <td>-0.095282</td>\n",
              "      <td>-0.382045</td>\n",
              "      <td>0.258612</td>\n",
              "    </tr>\n",
              "    <tr>\n",
              "      <th>RestingBP</th>\n",
              "      <td>0.254399</td>\n",
              "      <td>1.000000</td>\n",
              "      <td>0.100893</td>\n",
              "      <td>-0.112135</td>\n",
              "      <td>0.164803</td>\n",
              "    </tr>\n",
              "    <tr>\n",
              "      <th>Cholesterol</th>\n",
              "      <td>-0.095282</td>\n",
              "      <td>0.100893</td>\n",
              "      <td>1.000000</td>\n",
              "      <td>0.235792</td>\n",
              "      <td>0.050148</td>\n",
              "    </tr>\n",
              "    <tr>\n",
              "      <th>MaxHR</th>\n",
              "      <td>-0.382045</td>\n",
              "      <td>-0.112135</td>\n",
              "      <td>0.235792</td>\n",
              "      <td>1.000000</td>\n",
              "      <td>-0.160691</td>\n",
              "    </tr>\n",
              "    <tr>\n",
              "      <th>Oldpeak</th>\n",
              "      <td>0.258612</td>\n",
              "      <td>0.164803</td>\n",
              "      <td>0.050148</td>\n",
              "      <td>-0.160691</td>\n",
              "      <td>1.000000</td>\n",
              "    </tr>\n",
              "  </tbody>\n",
              "</table>\n",
              "</div>\n",
              "      <button class=\"colab-df-convert\" onclick=\"convertToInteractive('df-7d2c5eb8-ba58-4244-8103-aadfb8357cda')\"\n",
              "              title=\"Convert this dataframe to an interactive table.\"\n",
              "              style=\"display:none;\">\n",
              "        \n",
              "  <svg xmlns=\"http://www.w3.org/2000/svg\" height=\"24px\"viewBox=\"0 0 24 24\"\n",
              "       width=\"24px\">\n",
              "    <path d=\"M0 0h24v24H0V0z\" fill=\"none\"/>\n",
              "    <path d=\"M18.56 5.44l.94 2.06.94-2.06 2.06-.94-2.06-.94-.94-2.06-.94 2.06-2.06.94zm-11 1L8.5 8.5l.94-2.06 2.06-.94-2.06-.94L8.5 2.5l-.94 2.06-2.06.94zm10 10l.94 2.06.94-2.06 2.06-.94-2.06-.94-.94-2.06-.94 2.06-2.06.94z\"/><path d=\"M17.41 7.96l-1.37-1.37c-.4-.4-.92-.59-1.43-.59-.52 0-1.04.2-1.43.59L10.3 9.45l-7.72 7.72c-.78.78-.78 2.05 0 2.83L4 21.41c.39.39.9.59 1.41.59.51 0 1.02-.2 1.41-.59l7.78-7.78 2.81-2.81c.8-.78.8-2.07 0-2.86zM5.41 20L4 18.59l7.72-7.72 1.47 1.35L5.41 20z\"/>\n",
              "  </svg>\n",
              "      </button>\n",
              "      \n",
              "  <style>\n",
              "    .colab-df-container {\n",
              "      display:flex;\n",
              "      flex-wrap:wrap;\n",
              "      gap: 12px;\n",
              "    }\n",
              "\n",
              "    .colab-df-convert {\n",
              "      background-color: #E8F0FE;\n",
              "      border: none;\n",
              "      border-radius: 50%;\n",
              "      cursor: pointer;\n",
              "      display: none;\n",
              "      fill: #1967D2;\n",
              "      height: 32px;\n",
              "      padding: 0 0 0 0;\n",
              "      width: 32px;\n",
              "    }\n",
              "\n",
              "    .colab-df-convert:hover {\n",
              "      background-color: #E2EBFA;\n",
              "      box-shadow: 0px 1px 2px rgba(60, 64, 67, 0.3), 0px 1px 3px 1px rgba(60, 64, 67, 0.15);\n",
              "      fill: #174EA6;\n",
              "    }\n",
              "\n",
              "    [theme=dark] .colab-df-convert {\n",
              "      background-color: #3B4455;\n",
              "      fill: #D2E3FC;\n",
              "    }\n",
              "\n",
              "    [theme=dark] .colab-df-convert:hover {\n",
              "      background-color: #434B5C;\n",
              "      box-shadow: 0px 1px 3px 1px rgba(0, 0, 0, 0.15);\n",
              "      filter: drop-shadow(0px 1px 2px rgba(0, 0, 0, 0.3));\n",
              "      fill: #FFFFFF;\n",
              "    }\n",
              "  </style>\n",
              "\n",
              "      <script>\n",
              "        const buttonEl =\n",
              "          document.querySelector('#df-7d2c5eb8-ba58-4244-8103-aadfb8357cda button.colab-df-convert');\n",
              "        buttonEl.style.display =\n",
              "          google.colab.kernel.accessAllowed ? 'block' : 'none';\n",
              "\n",
              "        async function convertToInteractive(key) {\n",
              "          const element = document.querySelector('#df-7d2c5eb8-ba58-4244-8103-aadfb8357cda');\n",
              "          const dataTable =\n",
              "            await google.colab.kernel.invokeFunction('convertToInteractive',\n",
              "                                                     [key], {});\n",
              "          if (!dataTable) return;\n",
              "\n",
              "          const docLinkHtml = 'Like what you see? Visit the ' +\n",
              "            '<a target=\"_blank\" href=https://colab.research.google.com/notebooks/data_table.ipynb>data table notebook</a>'\n",
              "            + ' to learn more about interactive tables.';\n",
              "          element.innerHTML = '';\n",
              "          dataTable['output_type'] = 'display_data';\n",
              "          await google.colab.output.renderOutput(dataTable, element);\n",
              "          const docLink = document.createElement('div');\n",
              "          docLink.innerHTML = docLinkHtml;\n",
              "          element.appendChild(docLink);\n",
              "        }\n",
              "      </script>\n",
              "    </div>\n",
              "  </div>\n",
              "  "
            ]
          },
          "metadata": {},
          "execution_count": 98
        }
      ]
    },
    {
      "cell_type": "code",
      "source": [
        "# Visualisasikan correlation coefficient di atas dengan bantuan heat map\n",
        "corr = df.corr()\n",
        "plt.figure(figsize=(10, 7))\n",
        "sns.heatmap(corr, vmin=-1, vmax=1, cmap = \"coolwarm\", annot=True, annot_kws={\"size\":8}, fmt='.2f', linewidths=0.1, square = True)\n",
        "plt.title(\"Korelasi Antar Variabel\")\n",
        "plt.show()"
      ],
      "metadata": {
        "colab": {
          "base_uri": "https://localhost:8080/",
          "height": 442
        },
        "id": "pV4oEqZCNLr5",
        "outputId": "11204ebe-f5c5-48ae-efe1-77a5bc89c1fd"
      },
      "execution_count": null,
      "outputs": [
        {
          "output_type": "display_data",
          "data": {
            "text/plain": [
              "<Figure size 720x504 with 2 Axes>"
            ],
            "image/png": "[encoded data removed]"
          },
          "metadata": {
            "needs_background": "light"
          }
        }
      ]
    },
    {
      "cell_type": "code",
      "source": [
        "# Grafik Heatmap 2\n",
        "plt.figure(figsize=(10, 10))\n",
        "mask = np.triu(np.ones_like(df.corr(), dtype=np.bool))\n",
        "heatmap = sns.heatmap(df.corr(), mask=mask, vmin=-1, vmax=1, annot=True, cmap='BrBG')\n",
        "heatmap.set_title('Grafik Segitiga Korelasi', fontdict={'fontsize':18}, pad=16);\n"
      ],
      "metadata": {
        "colab": {
          "base_uri": "https://localhost:8080/",
          "height": 690
        },
        "id": "S0mrqN9QNXkF",
        "outputId": "16105b85-d773-414d-adaf-00c4319614be"
      },
      "execution_count": null,
      "outputs": [
        {
          "output_type": "stream",
          "name": "stderr",
          "text": [
            "/usr/local/lib/python3.7/dist-packages/ipykernel_launcher.py:3: DeprecationWarning: `np.bool` is a deprecated alias for the builtin `bool`. To silence this warning, use `bool` by itself. Doing this will not modify any behavior and is safe. If you specifically wanted the numpy scalar type, use `np.bool_` here.\n",
            "Deprecated in NumPy 1.20; for more details and guidance: https://numpy.org/devdocs/release/1.20.0-notes.html#deprecations\n",
            "  This is separate from the ipykernel package so we can avoid doing imports until\n"
          ]
        },
        {
          "output_type": "display_data",
          "data": {
            "text/plain": [
              "<Figure size 720x720 with 2 Axes>"
            ],
            "image/png": "[encoded data removed]"
          },
          "metadata": {
            "needs_background": "light"
          }
        }
      ]
    },
    {
      "cell_type": "markdown",
      "source": [
        "Dari visualisasi pada korelasi, terlihat bahwa tidak ada yang berkorelasi tinggi antara variabel satu dengan yang lainnya"
      ],
      "metadata": {
        "id": "wg_D9RN4fvhF"
      }
    },
    {
      "cell_type": "markdown",
      "source": [
        "##2.3 EDA Categorical"
      ],
      "metadata": {
        "id": "1OjyopbyNk1I"
      }
    },
    {
      "cell_type": "code",
      "source": [
        "df[categorical_features].head()"
      ],
      "metadata": {
        "colab": {
          "base_uri": "https://localhost:8080/",
          "height": 206
        },
        "id": "WMUt1zbpNebI",
        "outputId": "e163319e-5ba7-483f-fdbf-e05c77680e5a"
      },
      "execution_count": null,
      "outputs": [
        {
          "output_type": "execute_result",
          "data": {
            "text/plain": [
              "  Sex ChestPainType FastingBS RestingECG ExerciseAngina ST_Slope HeartDisease\n",
              "0   M           ATA         0     Normal              N       Up            0\n",
              "1   F           NAP         0     Normal              N     Flat            1\n",
              "2   M           ATA         0         ST              N       Up            0\n",
              "3   F           ASY         0     Normal              Y     Flat            1\n",
              "4   M           NAP         0     Normal              N       Up            0"
            ],
            "text/html": [
              "\n",
              "  <div id=\"df-57dad27e-aa50-4122-bdc8-b31a70f72181\">\n",
              "    <div class=\"colab-df-container\">\n",
              "      <div>\n",
              "<style scoped>\n",
              "    .dataframe tbody tr th:only-of-type {\n",
              "        vertical-align: middle;\n",
              "    }\n",
              "\n",
              "    .dataframe tbody tr th {\n",
              "        vertical-align: top;\n",
              "    }\n",
              "\n",
              "    .dataframe thead th {\n",
              "        text-align: right;\n",
              "    }\n",
              "</style>\n",
              "<table border=\"1\" class=\"dataframe\">\n",
              "  <thead>\n",
              "    <tr style=\"text-align: right;\">\n",
              "      <th></th>\n",
              "      <th>Sex</th>\n",
              "      <th>ChestPainType</th>\n",
              "      <th>FastingBS</th>\n",
              "      <th>RestingECG</th>\n",
              "      <th>ExerciseAngina</th>\n",
              "      <th>ST_Slope</th>\n",
              "      <th>HeartDisease</th>\n",
              "    </tr>\n",
              "  </thead>\n",
              "  <tbody>\n",
              "    <tr>\n",
              "      <th>0</th>\n",
              "      <td>M</td>\n",
              "      <td>ATA</td>\n",
              "      <td>0</td>\n",
              "      <td>Normal</td>\n",
              "      <td>N</td>\n",
              "      <td>Up</td>\n",
              "      <td>0</td>\n",
              "    </tr>\n",
              "    <tr>\n",
              "      <th>1</th>\n",
              "      <td>F</td>\n",
              "      <td>NAP</td>\n",
              "      <td>0</td>\n",
              "      <td>Normal</td>\n",
              "      <td>N</td>\n",
              "      <td>Flat</td>\n",
              "      <td>1</td>\n",
              "    </tr>\n",
              "    <tr>\n",
              "      <th>2</th>\n",
              "      <td>M</td>\n",
              "      <td>ATA</td>\n",
              "      <td>0</td>\n",
              "      <td>ST</td>\n",
              "      <td>N</td>\n",
              "      <td>Up</td>\n",
              "      <td>0</td>\n",
              "    </tr>\n",
              "    <tr>\n",
              "      <th>3</th>\n",
              "      <td>F</td>\n",
              "      <td>ASY</td>\n",
              "      <td>0</td>\n",
              "      <td>Normal</td>\n",
              "      <td>Y</td>\n",
              "      <td>Flat</td>\n",
              "      <td>1</td>\n",
              "    </tr>\n",
              "    <tr>\n",
              "      <th>4</th>\n",
              "      <td>M</td>\n",
              "      <td>NAP</td>\n",
              "      <td>0</td>\n",
              "      <td>Normal</td>\n",
              "      <td>N</td>\n",
              "      <td>Up</td>\n",
              "      <td>0</td>\n",
              "    </tr>\n",
              "  </tbody>\n",
              "</table>\n",
              "</div>\n",
              "      <button class=\"colab-df-convert\" onclick=\"convertToInteractive('df-57dad27e-aa50-4122-bdc8-b31a70f72181')\"\n",
              "              title=\"Convert this dataframe to an interactive table.\"\n",
              "              style=\"display:none;\">\n",
              "        \n",
              "  <svg xmlns=\"http://www.w3.org/2000/svg\" height=\"24px\"viewBox=\"0 0 24 24\"\n",
              "       width=\"24px\">\n",
              "    <path d=\"M0 0h24v24H0V0z\" fill=\"none\"/>\n",
              "    <path d=\"M18.56 5.44l.94 2.06.94-2.06 2.06-.94-2.06-.94-.94-2.06-.94 2.06-2.06.94zm-11 1L8.5 8.5l.94-2.06 2.06-.94-2.06-.94L8.5 2.5l-.94 2.06-2.06.94zm10 10l.94 2.06.94-2.06 2.06-.94-2.06-.94-.94-2.06-.94 2.06-2.06.94z\"/><path d=\"M17.41 7.96l-1.37-1.37c-.4-.4-.92-.59-1.43-.59-.52 0-1.04.2-1.43.59L10.3 9.45l-7.72 7.72c-.78.78-.78 2.05 0 2.83L4 21.41c.39.39.9.59 1.41.59.51 0 1.02-.2 1.41-.59l7.78-7.78 2.81-2.81c.8-.78.8-2.07 0-2.86zM5.41 20L4 18.59l7.72-7.72 1.47 1.35L5.41 20z\"/>\n",
              "  </svg>\n",
              "      </button>\n",
              "      \n",
              "  <style>\n",
              "    .colab-df-container {\n",
              "      display:flex;\n",
              "      flex-wrap:wrap;\n",
              "      gap: 12px;\n",
              "    }\n",
              "\n",
              "    .colab-df-convert {\n",
              "      background-color: #E8F0FE;\n",
              "      border: none;\n",
              "      border-radius: 50%;\n",
              "      cursor: pointer;\n",
              "      display: none;\n",
              "      fill: #1967D2;\n",
              "      height: 32px;\n",
              "      padding: 0 0 0 0;\n",
              "      width: 32px;\n",
              "    }\n",
              "\n",
              "    .colab-df-convert:hover {\n",
              "      background-color: #E2EBFA;\n",
              "      box-shadow: 0px 1px 2px rgba(60, 64, 67, 0.3), 0px 1px 3px 1px rgba(60, 64, 67, 0.15);\n",
              "      fill: #174EA6;\n",
              "    }\n",
              "\n",
              "    [theme=dark] .colab-df-convert {\n",
              "      background-color: #3B4455;\n",
              "      fill: #D2E3FC;\n",
              "    }\n",
              "\n",
              "    [theme=dark] .colab-df-convert:hover {\n",
              "      background-color: #434B5C;\n",
              "      box-shadow: 0px 1px 3px 1px rgba(0, 0, 0, 0.15);\n",
              "      filter: drop-shadow(0px 1px 2px rgba(0, 0, 0, 0.3));\n",
              "      fill: #FFFFFF;\n",
              "    }\n",
              "  </style>\n",
              "\n",
              "      <script>\n",
              "        const buttonEl =\n",
              "          document.querySelector('#df-57dad27e-aa50-4122-bdc8-b31a70f72181 button.colab-df-convert');\n",
              "        buttonEl.style.display =\n",
              "          google.colab.kernel.accessAllowed ? 'block' : 'none';\n",
              "\n",
              "        async function convertToInteractive(key) {\n",
              "          const element = document.querySelector('#df-57dad27e-aa50-4122-bdc8-b31a70f72181');\n",
              "          const dataTable =\n",
              "            await google.colab.kernel.invokeFunction('convertToInteractive',\n",
              "                                                     [key], {});\n",
              "          if (!dataTable) return;\n",
              "\n",
              "          const docLinkHtml = 'Like what you see? Visit the ' +\n",
              "            '<a target=\"_blank\" href=https://colab.research.google.com/notebooks/data_table.ipynb>data table notebook</a>'\n",
              "            + ' to learn more about interactive tables.';\n",
              "          element.innerHTML = '';\n",
              "          dataTable['output_type'] = 'display_data';\n",
              "          await google.colab.output.renderOutput(dataTable, element);\n",
              "          const docLink = document.createElement('div');\n",
              "          docLink.innerHTML = docLinkHtml;\n",
              "          element.appendChild(docLink);\n",
              "        }\n",
              "      </script>\n",
              "    </div>\n",
              "  </div>\n",
              "  "
            ]
          },
          "metadata": {},
          "execution_count": 101
        }
      ]
    },
    {
      "cell_type": "code",
      "source": [
        "#Number of Unique Values\n",
        "\n",
        "df[categorical_features].nunique()"
      ],
      "metadata": {
        "colab": {
          "base_uri": "https://localhost:8080/"
        },
        "id": "_an5g0xwOc2R",
        "outputId": "5c231c89-8baf-44c9-be03-9962d3d1703b"
      },
      "execution_count": null,
      "outputs": [
        {
          "output_type": "execute_result",
          "data": {
            "text/plain": [
              "Sex               2\n",
              "ChestPainType     4\n",
              "FastingBS         2\n",
              "RestingECG        3\n",
              "ExerciseAngina    2\n",
              "ST_Slope          3\n",
              "HeartDisease      2\n",
              "dtype: int64"
            ]
          },
          "metadata": {},
          "execution_count": 102
        }
      ]
    },
    {
      "cell_type": "code",
      "source": [
        "# menghitung/counting jumlah persebaran setiap Unique Value didalam setiap variabel\n",
        "for feature in categorical_features:\n",
        "    print(df[feature].value_counts())\n",
        "    print ('------')"
      ],
      "metadata": {
        "colab": {
          "base_uri": "https://localhost:8080/"
        },
        "id": "j75CrCiNN1eI",
        "outputId": "0fccb307-f846-4c44-b6b5-1b6b62ddff51"
      },
      "execution_count": null,
      "outputs": [
        {
          "output_type": "stream",
          "name": "stdout",
          "text": [
            "M    725\n",
            "F    193\n",
            "Name: Sex, dtype: int64\n",
            "------\n",
            "ASY    496\n",
            "NAP    203\n",
            "ATA    173\n",
            "TA      46\n",
            "Name: ChestPainType, dtype: int64\n",
            "------\n",
            "0    704\n",
            "1    214\n",
            "Name: FastingBS, dtype: int64\n",
            "------\n",
            "Normal    552\n",
            "LVH       188\n",
            "ST        178\n",
            "Name: RestingECG, dtype: int64\n",
            "------\n",
            "N    547\n",
            "Y    371\n",
            "Name: ExerciseAngina, dtype: int64\n",
            "------\n",
            "Flat    460\n",
            "Up      395\n",
            "Down     63\n",
            "Name: ST_Slope, dtype: int64\n",
            "------\n",
            "1    508\n",
            "0    410\n",
            "Name: HeartDisease, dtype: int64\n",
            "------\n"
          ]
        }
      ]
    },
    {
      "cell_type": "markdown",
      "source": [
        "###2.3.1 Visualisasi categorical"
      ],
      "metadata": {
        "id": "I4arl6vPPqRz"
      }
    },
    {
      "cell_type": "code",
      "source": [
        "df_categoric = df.loc[:, categorical_features]\n",
        "for i in categorical_features:\n",
        "    plt.figure()\n",
        "    sns.countplot(x = i, data = df_categoric)\n",
        "    plt.title(i)"
      ],
      "metadata": {
        "colab": {
          "base_uri": "https://localhost:8080/",
          "height": 1000
        },
        "id": "0ecsz_2rPU0v",
        "outputId": "067919d3-f00e-429f-8062-e9d4a211754a"
      },
      "execution_count": null,
      "outputs": [
        {
          "output_type": "display_data",
          "data": {
            "text/plain": [
              "<Figure size 432x288 with 1 Axes>"
            ],
            "image/png": "[encoded data removed]"
          },
          "metadata": {
            "needs_background": "light"
          }
        },
        {
          "output_type": "display_data",
          "data": {
            "text/plain": [
              "<Figure size 432x288 with 1 Axes>"
            ],
            "image/png": "[encoded data removed]"
          },
          "metadata": {
            "needs_background": "light"
          }
        },
        {
          "output_type": "display_data",
          "data": {
            "text/plain": [
              "<Figure size 432x288 with 1 Axes>"
            ],
            "image/png": "[encoded data removed]"
          },
          "metadata": {
            "needs_background": "light"
          }
        },
        {
          "output_type": "display_data",
          "data": {
            "text/plain": [
              "<Figure size 432x288 with 1 Axes>"
            ],
            "image/png": "[encoded data removed]"
          },
          "metadata": {
            "needs_background": "light"
          }
        },
        {
          "output_type": "display_data",
          "data": {
            "text/plain": [
              "<Figure size 432x288 with 1 Axes>"
            ],
            "image/png": "[encoded data removed]"
          },
          "metadata": {
            "needs_background": "light"
          }
        },
        {
          "output_type": "display_data",
          "data": {
            "text/plain": [
              "<Figure size 432x288 with 1 Axes>"
            ],
            "image/png": "[encoded data removed]"
          },
          "metadata": {
            "needs_background": "light"
          }
        },
        {
          "output_type": "display_data",
          "data": {
            "text/plain": [
              "<Figure size 432x288 with 1 Axes>"
            ],
            "image/png": "[encoded data removed]"
          },
          "metadata": {
            "needs_background": "light"
          }
        }
      ]
    },
    {
      "cell_type": "code",
      "source": [
        "#Visualisasi data yang berpatok kepada hue/variabel target 'HeartDisease'\n",
        "\n",
        "df_categoric = df.loc[:, categorical_features]\n",
        "for i in categorical_features:\n",
        "    plt.figure()\n",
        "    sns.countplot(x = i, data = df_categoric,hue = \"HeartDisease\")\n",
        "    plt.title(i)"
      ],
      "metadata": {
        "colab": {
          "base_uri": "https://localhost:8080/",
          "height": 1000
        },
        "id": "5jLAx29COXDk",
        "outputId": "5addd9ad-8140-42f5-f008-75c565be8654"
      },
      "execution_count": null,
      "outputs": [
        {
          "output_type": "display_data",
          "data": {
            "text/plain": [
              "<Figure size 432x288 with 1 Axes>"
            ],
            "image/png": "[encoded data removed]"
          },
          "metadata": {
            "needs_background": "light"
          }
        },
        {
          "output_type": "display_data",
          "data": {
            "text/plain": [
              "<Figure size 432x288 with 1 Axes>"
            ],
            "image/png": "[encoded data removed]"
          },
          "metadata": {
            "needs_background": "light"
          }
        },
        {
          "output_type": "display_data",
          "data": {
            "text/plain": [
              "<Figure size 432x288 with 1 Axes>"
            ],
            "image/png": "[encoded data removed]"
          },
          "metadata": {
            "needs_background": "light"
          }
        },
        {
          "output_type": "display_data",
          "data": {
            "text/plain": [
              "<Figure size 432x288 with 1 Axes>"
            ],
            "image/png": "[encoded data removed]"
          },
          "metadata": {
            "needs_background": "light"
          }
        },
        {
          "output_type": "display_data",
          "data": {
            "text/plain": [
              "<Figure size 432x288 with 1 Axes>"
            ],
            "image/png": "[encoded data removed]"
          },
          "metadata": {
            "needs_background": "light"
          }
        },
        {
          "output_type": "display_data",
          "data": {
            "text/plain": [
              "<Figure size 432x288 with 1 Axes>"
            ],
            "image/png": "[encoded data removed]"
          },
          "metadata": {
            "needs_background": "light"
          }
        },
        {
          "output_type": "display_data",
          "data": {
            "text/plain": [
              "<Figure size 432x288 with 1 Axes>"
            ],
            "image/png": "[encoded data removed]"
          },
          "metadata": {
            "needs_background": "light"
          }
        }
      ]
    },
    {
      "cell_type": "markdown",
      "source": [
        "> **Insights Sex:** \n",
        "\n",
        "\n",
        "*   Dari visualisasi di atas, proporsi responden antara laki-laki dan perempuan lebih banyak responden laki-laki dibandingkan perempuan.\n",
        "*    Selain itu, responden laki-laki yang mengalami penyakit jantung lebih banyak dibandingkan dengan responden laki-laki kondisi normal.\n",
        "*   Pada responden perempuan dengan kondisi yang mengalami penyakit jantung lebih sedikit dibandingkan yang memiliki kondisi normal\n",
        "\n",
        "\n",
        "\n",
        "\n",
        "\n",
        "\n",
        "\n"
      ],
      "metadata": {
        "id": "SBRwvvOF71Q2"
      }
    },
    {
      "cell_type": "markdown",
      "source": [
        "> **Insights Chest Pain Type:**\n",
        "\n",
        "*   Terlihat bahwa kebanyakan responden yang memiliki penyakit jantung dikarenakan nyeri dada ASY (tanpa gejala)\n",
        "*   Selanjutnya disebabkan nyeri dada NAP (non-kardiak), nyeri dada ATA (atipikal), dan nyeri dada TA (Angina Pectoris)\n",
        "\n"
      ],
      "metadata": {
        "id": "7zGTRppA9ks2"
      }
    },
    {
      "cell_type": "markdown",
      "source": [
        "> **Insights FastingBS:**\n",
        "\n",
        "*   Dari visualisasi diatas, dapat disimpulkan bahwa responden yang memiliki FBS > 120 mg/dL dapat dikatakan normal atau tidak memiliki penyakit jantung.\n",
        "*   Sedangkan responden yang memiliki FBS < 120 mg/dL lebih rentan mengalami penyakit jantung\n",
        "*   FBS (FastingBS) adalah pemeriksaan untuk mengukur gula darah seseorang setelah puasa semalaman. Kadar gula darah puasa 99 mg/dL atau lebih rendah adalah normal, 100-125 mg/dL menunjukkan kamu memiliki pradiabetes, dan 126 mg/dL atau lebih tinggi menunjukkan kamu mengidap diabetes.\n",
        "\n",
        "\n",
        "\n"
      ],
      "metadata": {
        "id": "76RrNKkzCKkK"
      }
    },
    {
      "cell_type": "markdown",
      "source": [
        "> **Insights Resting ECG:**\n",
        "\n",
        "\n",
        "*   Berdasarkan visualisasi diatas, kebanyakan responden memiliki penyakit jantung dikarenakan RestingECG Normal yaitu berarti tidak terdapat kelainan aktivitas jantung pada saat pasien istirahat (dalam posisi berbaring)"
      ],
      "metadata": {
        "id": "xXPo_BYyDkXB"
      }
    },
    {
      "cell_type": "markdown",
      "source": [
        "> **Insights Exercise Angina:**\n",
        "\n",
        "*  Berdasarkan data visualisasi diatas, responden yang memiliki penyakit jantung mengalami ExerciseAngina yaitu nyeri yang disebabkan ketika berolahraga dalam cuaca dingin.\n",
        "\n",
        "\n"
      ],
      "metadata": {
        "id": "8KLQ0bYfGFxE"
      }
    },
    {
      "cell_type": "markdown",
      "source": [
        "> **Insights ST_Slope:**\n",
        "\n",
        "*   Berdasarkan data visualisasi diatas, diketahui bahwa responden yang memiliki penyakit jantung dikarenakan ST Slope Flat. ST Slope merupakan peningkatan denyut jantung yang dipicu karena kegiatan berolahraga.\n",
        "\n"
      ],
      "metadata": {
        "id": "E2pMMOWUGWjp"
      }
    },
    {
      "cell_type": "markdown",
      "source": [
        "##2.4 Model Development"
      ],
      "metadata": {
        "id": "hXEi1QaaSaHd"
      }
    },
    {
      "cell_type": "code",
      "source": [
        "df_for_modelling.head()"
      ],
      "metadata": {
        "colab": {
          "base_uri": "https://localhost:8080/",
          "height": 270
        },
        "id": "YAphTzhkPi61",
        "outputId": "d9787d13-ec63-45a1-b18d-0706881713e0"
      },
      "execution_count": null,
      "outputs": [
        {
          "output_type": "execute_result",
          "data": {
            "text/plain": [
              "   Age Sex ChestPainType  RestingBP  Cholesterol  FastingBS RestingECG  MaxHR  \\\n",
              "0   40   M           ATA        140          289          0     Normal    172   \n",
              "1   49   F           NAP        160          180          0     Normal    156   \n",
              "2   37   M           ATA        130          283          0         ST     98   \n",
              "3   48   F           ASY        138          214          0     Normal    108   \n",
              "4   54   M           NAP        150          195          0     Normal    122   \n",
              "\n",
              "  ExerciseAngina  Oldpeak ST_Slope  HeartDisease  \n",
              "0              N      0.0       Up             0  \n",
              "1              N      1.0     Flat             1  \n",
              "2              N      0.0       Up             0  \n",
              "3              Y      1.5     Flat             1  \n",
              "4              N      0.0       Up             0  "
            ],
            "text/html": [
              "\n",
              "  <div id=\"df-eeedc5d9-dfc8-4388-ae90-9e1fee2c7512\">\n",
              "    <div class=\"colab-df-container\">\n",
              "      <div>\n",
              "<style scoped>\n",
              "    .dataframe tbody tr th:only-of-type {\n",
              "        vertical-align: middle;\n",
              "    }\n",
              "\n",
              "    .dataframe tbody tr th {\n",
              "        vertical-align: top;\n",
              "    }\n",
              "\n",
              "    .dataframe thead th {\n",
              "        text-align: right;\n",
              "    }\n",
              "</style>\n",
              "<table border=\"1\" class=\"dataframe\">\n",
              "  <thead>\n",
              "    <tr style=\"text-align: right;\">\n",
              "      <th></th>\n",
              "      <th>Age</th>\n",
              "      <th>Sex</th>\n",
              "      <th>ChestPainType</th>\n",
              "      <th>RestingBP</th>\n",
              "      <th>Cholesterol</th>\n",
              "      <th>FastingBS</th>\n",
              "      <th>RestingECG</th>\n",
              "      <th>MaxHR</th>\n",
              "      <th>ExerciseAngina</th>\n",
              "      <th>Oldpeak</th>\n",
              "      <th>ST_Slope</th>\n",
              "      <th>HeartDisease</th>\n",
              "    </tr>\n",
              "  </thead>\n",
              "  <tbody>\n",
              "    <tr>\n",
              "      <th>0</th>\n",
              "      <td>40</td>\n",
              "      <td>M</td>\n",
              "      <td>ATA</td>\n",
              "      <td>140</td>\n",
              "      <td>289</td>\n",
              "      <td>0</td>\n",
              "      <td>Normal</td>\n",
              "      <td>172</td>\n",
              "      <td>N</td>\n",
              "      <td>0.0</td>\n",
              "      <td>Up</td>\n",
              "      <td>0</td>\n",
              "    </tr>\n",
              "    <tr>\n",
              "      <th>1</th>\n",
              "      <td>49</td>\n",
              "      <td>F</td>\n",
              "      <td>NAP</td>\n",
              "      <td>160</td>\n",
              "      <td>180</td>\n",
              "      <td>0</td>\n",
              "      <td>Normal</td>\n",
              "      <td>156</td>\n",
              "      <td>N</td>\n",
              "      <td>1.0</td>\n",
              "      <td>Flat</td>\n",
              "      <td>1</td>\n",
              "    </tr>\n",
              "    <tr>\n",
              "      <th>2</th>\n",
              "      <td>37</td>\n",
              "      <td>M</td>\n",
              "      <td>ATA</td>\n",
              "      <td>130</td>\n",
              "      <td>283</td>\n",
              "      <td>0</td>\n",
              "      <td>ST</td>\n",
              "      <td>98</td>\n",
              "      <td>N</td>\n",
              "      <td>0.0</td>\n",
              "      <td>Up</td>\n",
              "      <td>0</td>\n",
              "    </tr>\n",
              "    <tr>\n",
              "      <th>3</th>\n",
              "      <td>48</td>\n",
              "      <td>F</td>\n",
              "      <td>ASY</td>\n",
              "      <td>138</td>\n",
              "      <td>214</td>\n",
              "      <td>0</td>\n",
              "      <td>Normal</td>\n",
              "      <td>108</td>\n",
              "      <td>Y</td>\n",
              "      <td>1.5</td>\n",
              "      <td>Flat</td>\n",
              "      <td>1</td>\n",
              "    </tr>\n",
              "    <tr>\n",
              "      <th>4</th>\n",
              "      <td>54</td>\n",
              "      <td>M</td>\n",
              "      <td>NAP</td>\n",
              "      <td>150</td>\n",
              "      <td>195</td>\n",
              "      <td>0</td>\n",
              "      <td>Normal</td>\n",
              "      <td>122</td>\n",
              "      <td>N</td>\n",
              "      <td>0.0</td>\n",
              "      <td>Up</td>\n",
              "      <td>0</td>\n",
              "    </tr>\n",
              "  </tbody>\n",
              "</table>\n",
              "</div>\n",
              "      <button class=\"colab-df-convert\" onclick=\"convertToInteractive('df-eeedc5d9-dfc8-4388-ae90-9e1fee2c7512')\"\n",
              "              title=\"Convert this dataframe to an interactive table.\"\n",
              "              style=\"display:none;\">\n",
              "        \n",
              "  <svg xmlns=\"http://www.w3.org/2000/svg\" height=\"24px\"viewBox=\"0 0 24 24\"\n",
              "       width=\"24px\">\n",
              "    <path d=\"M0 0h24v24H0V0z\" fill=\"none\"/>\n",
              "    <path d=\"M18.56 5.44l.94 2.06.94-2.06 2.06-.94-2.06-.94-.94-2.06-.94 2.06-2.06.94zm-11 1L8.5 8.5l.94-2.06 2.06-.94-2.06-.94L8.5 2.5l-.94 2.06-2.06.94zm10 10l.94 2.06.94-2.06 2.06-.94-2.06-.94-.94-2.06-.94 2.06-2.06.94z\"/><path d=\"M17.41 7.96l-1.37-1.37c-.4-.4-.92-.59-1.43-.59-.52 0-1.04.2-1.43.59L10.3 9.45l-7.72 7.72c-.78.78-.78 2.05 0 2.83L4 21.41c.39.39.9.59 1.41.59.51 0 1.02-.2 1.41-.59l7.78-7.78 2.81-2.81c.8-.78.8-2.07 0-2.86zM5.41 20L4 18.59l7.72-7.72 1.47 1.35L5.41 20z\"/>\n",
              "  </svg>\n",
              "      </button>\n",
              "      \n",
              "  <style>\n",
              "    .colab-df-container {\n",
              "      display:flex;\n",
              "      flex-wrap:wrap;\n",
              "      gap: 12px;\n",
              "    }\n",
              "\n",
              "    .colab-df-convert {\n",
              "      background-color: #E8F0FE;\n",
              "      border: none;\n",
              "      border-radius: 50%;\n",
              "      cursor: pointer;\n",
              "      display: none;\n",
              "      fill: #1967D2;\n",
              "      height: 32px;\n",
              "      padding: 0 0 0 0;\n",
              "      width: 32px;\n",
              "    }\n",
              "\n",
              "    .colab-df-convert:hover {\n",
              "      background-color: #E2EBFA;\n",
              "      box-shadow: 0px 1px 2px rgba(60, 64, 67, 0.3), 0px 1px 3px 1px rgba(60, 64, 67, 0.15);\n",
              "      fill: #174EA6;\n",
              "    }\n",
              "\n",
              "    [theme=dark] .colab-df-convert {\n",
              "      background-color: #3B4455;\n",
              "      fill: #D2E3FC;\n",
              "    }\n",
              "\n",
              "    [theme=dark] .colab-df-convert:hover {\n",
              "      background-color: #434B5C;\n",
              "      box-shadow: 0px 1px 3px 1px rgba(0, 0, 0, 0.15);\n",
              "      filter: drop-shadow(0px 1px 2px rgba(0, 0, 0, 0.3));\n",
              "      fill: #FFFFFF;\n",
              "    }\n",
              "  </style>\n",
              "\n",
              "      <script>\n",
              "        const buttonEl =\n",
              "          document.querySelector('#df-eeedc5d9-dfc8-4388-ae90-9e1fee2c7512 button.colab-df-convert');\n",
              "        buttonEl.style.display =\n",
              "          google.colab.kernel.accessAllowed ? 'block' : 'none';\n",
              "\n",
              "        async function convertToInteractive(key) {\n",
              "          const element = document.querySelector('#df-eeedc5d9-dfc8-4388-ae90-9e1fee2c7512');\n",
              "          const dataTable =\n",
              "            await google.colab.kernel.invokeFunction('convertToInteractive',\n",
              "                                                     [key], {});\n",
              "          if (!dataTable) return;\n",
              "\n",
              "          const docLinkHtml = 'Like what you see? Visit the ' +\n",
              "            '<a target=\"_blank\" href=https://colab.research.google.com/notebooks/data_table.ipynb>data table notebook</a>'\n",
              "            + ' to learn more about interactive tables.';\n",
              "          element.innerHTML = '';\n",
              "          dataTable['output_type'] = 'display_data';\n",
              "          await google.colab.output.renderOutput(dataTable, element);\n",
              "          const docLink = document.createElement('div');\n",
              "          docLink.innerHTML = docLinkHtml;\n",
              "          element.appendChild(docLink);\n",
              "        }\n",
              "      </script>\n",
              "    </div>\n",
              "  </div>\n",
              "  "
            ]
          },
          "metadata": {},
          "execution_count": 106
        }
      ]
    },
    {
      "cell_type": "code",
      "source": [
        "#Mengubah data type FastingBS menjadi tipe data object\n",
        "df_for_modelling['FastingBS'] = df_for_modelling['FastingBS'].astype('object')"
      ],
      "metadata": {
        "id": "CwCfNMmTw9qK"
      },
      "execution_count": null,
      "outputs": []
    },
    {
      "cell_type": "code",
      "source": [
        "#Jika pemodelan, datanya perlu berupa numerik\n",
        "df_for_modelling.info()"
      ],
      "metadata": {
        "colab": {
          "base_uri": "https://localhost:8080/"
        },
        "id": "02r4yehtGXEr",
        "outputId": "6f97e9e0-0775-4d2f-94fe-928fb8dbdcd7"
      },
      "execution_count": null,
      "outputs": [
        {
          "output_type": "stream",
          "name": "stdout",
          "text": [
            "<class 'pandas.core.frame.DataFrame'>\n",
            "RangeIndex: 918 entries, 0 to 917\n",
            "Data columns (total 12 columns):\n",
            " #   Column          Non-Null Count  Dtype  \n",
            "---  ------          --------------  -----  \n",
            " 0   Age             918 non-null    int64  \n",
            " 1   Sex             918 non-null    object \n",
            " 2   ChestPainType   918 non-null    object \n",
            " 3   RestingBP       918 non-null    int64  \n",
            " 4   Cholesterol     918 non-null    int64  \n",
            " 5   FastingBS       918 non-null    object \n",
            " 6   RestingECG      918 non-null    object \n",
            " 7   MaxHR           918 non-null    int64  \n",
            " 8   ExerciseAngina  918 non-null    object \n",
            " 9   Oldpeak         918 non-null    float64\n",
            " 10  ST_Slope        918 non-null    object \n",
            " 11  HeartDisease    918 non-null    int64  \n",
            "dtypes: float64(1), int64(5), object(6)\n",
            "memory usage: 86.2+ KB\n"
          ]
        }
      ]
    },
    {
      "cell_type": "markdown",
      "source": [
        "Untuk memudahkan proses training, kita akan buat variabel `X` yang berisi semua fitur-fitur untuk melatih model dan variabel `y` yang berisi target variabel."
      ],
      "metadata": {
        "id": "NJa4STppYpnW"
      }
    },
    {
      "cell_type": "code",
      "source": [
        "#Menggunakan data modelling yang udah dibuat \n",
        "\n",
        "X = df_for_modelling.drop(columns=[\"HeartDisease\"]).copy()\n",
        "y = df_for_modelling[\"HeartDisease\"].copy()"
      ],
      "metadata": {
        "id": "d6dN9lxxXyyX"
      },
      "execution_count": null,
      "outputs": []
    },
    {
      "cell_type": "code",
      "source": [
        "y"
      ],
      "metadata": {
        "colab": {
          "base_uri": "https://localhost:8080/"
        },
        "id": "hqPOwdAnknjt",
        "outputId": "51c015bd-fada-4afa-b899-b153e03bd50e"
      },
      "execution_count": null,
      "outputs": [
        {
          "output_type": "execute_result",
          "data": {
            "text/plain": [
              "0      0\n",
              "1      1\n",
              "2      0\n",
              "3      1\n",
              "4      0\n",
              "      ..\n",
              "913    1\n",
              "914    1\n",
              "915    1\n",
              "916    1\n",
              "917    0\n",
              "Name: HeartDisease, Length: 918, dtype: int64"
            ]
          },
          "metadata": {},
          "execution_count": 110
        }
      ]
    },
    {
      "cell_type": "markdown",
      "source": [
        "###2.4.1 Data Splitting"
      ],
      "metadata": {
        "id": "t5acDfXCShTj"
      }
    },
    {
      "cell_type": "markdown",
      "source": [
        "Seperti dijelaskan dalam slide, kita akan bagi dataset menjadi **training**, **dev validation**, dan **test** set dengan proporsi **80:10:10**.\n"
      ],
      "metadata": {
        "id": "ohpxMZRsYwMm"
      }
    },
    {
      "cell_type": "code",
      "source": [
        "X_train, X_rest, y_train, y_rest = train_test_split(X, y, test_size=.2, stratify=y, random_state=101)\n",
        "X_dev, X_test, y_dev, y_test = train_test_split(X_rest, y_rest, test_size=.5, stratify=y_rest, random_state=101)\n",
        "\n",
        "print(\"training size:\", X_train.shape[0])\n",
        "print(\"dev size:\", X_dev.shape[0])\n",
        "print(\"test size:\", X_test.shape[0])\n",
        "\n",
        "print(f\"training size: {X_train.shape[0]} ({100*X_train.shape[0] / X.shape[0]:.3f}%)\")\n",
        "print(f\"dev size: {X_dev.shape[0]} ({100*X_dev.shape[0] / X.shape[0]:.3f}%)\")\n",
        "print(f\"test size: {X_test.shape[0]} ({100*X_test.shape[0] / X.shape[0]:.3f}%)\")"
      ],
      "metadata": {
        "colab": {
          "base_uri": "https://localhost:8080/"
        },
        "id": "QMRxzqw6Xpbi",
        "outputId": "5cfcf515-fde5-4a4e-e1e4-4bf485ff652a"
      },
      "execution_count": null,
      "outputs": [
        {
          "output_type": "stream",
          "name": "stdout",
          "text": [
            "training size: 734\n",
            "dev size: 92\n",
            "test size: 92\n",
            "training size: 734 (79.956%)\n",
            "dev size: 92 (10.022%)\n",
            "test size: 92 (10.022%)\n"
          ]
        }
      ]
    },
    {
      "cell_type": "markdown",
      "source": [
        "> *Notes*. Parameter `stratify` di atas digunakan untuk mencegah nilai `y` yang tidak seimbang antara data training, dengan data development, dan data test.\n",
        "\n",
        "Sehingga kita peroleh:\n",
        "* data training sebanyak **734** baris\n",
        "* data development sebanyak **92** baris\n",
        "* data test sebanyak **92** baris\n",
        "\n",
        "Untuk lebih jelasnya, kita bisa buat visualisasi distribusi target variabel `y` untuk masing-masing data"
      ],
      "metadata": {
        "id": "4gAuZjI77lOw"
      }
    },
    {
      "cell_type": "code",
      "source": [
        "fig, axis = plt.subplots(1, 3, figsize=(14, 6))\n",
        "for idx, label in enumerate([\n",
        "    (y_train, \"train\"), (y_dev, \"dev\"), (y_test, \"test\")\n",
        "]):\n",
        "    sns.countplot(x=label[0], ax=axis[idx])\n",
        "    axis[idx].set_title(label[1])\n",
        "    axis[idx].grid(False)\n",
        "plt.show()"
      ],
      "metadata": {
        "colab": {
          "base_uri": "https://localhost:8080/",
          "height": 405
        },
        "id": "OwzIGlZM7v7p",
        "outputId": "1738caec-06eb-4b21-d2f0-96f64e8f0edd"
      },
      "execution_count": null,
      "outputs": [
        {
          "output_type": "display_data",
          "data": {
            "text/plain": [
              "<Figure size 1008x432 with 3 Axes>"
            ],
            "image/png": "[encoded data removed]"
          },
          "metadata": {
            "needs_background": "light"
          }
        }
      ]
    },
    {
      "cell_type": "code",
      "source": [
        "X_train"
      ],
      "metadata": {
        "colab": {
          "base_uri": "https://localhost:8080/",
          "height": 468
        },
        "id": "m-oAq237TiOb",
        "outputId": "1f436e10-efe7-4027-9a71-ea4a5c2ac4f7"
      },
      "execution_count": null,
      "outputs": [
        {
          "output_type": "execute_result",
          "data": {
            "text/plain": [
              "     Age Sex ChestPainType  RestingBP  Cholesterol FastingBS RestingECG  \\\n",
              "88    43   M            TA        120          291         0         ST   \n",
              "204   56   M           ATA        130          184         0     Normal   \n",
              "83    52   M           ATA        160          196         0     Normal   \n",
              "811   58   F           ASY        100          248         0        LVH   \n",
              "6     45   F           ATA        130          237         0     Normal   \n",
              "..   ...  ..           ...        ...          ...       ...        ...   \n",
              "383   38   F           ASY        110            0         0     Normal   \n",
              "820   52   M            TA        152          298         1     Normal   \n",
              "915   57   M           ASY        130          131         0     Normal   \n",
              "519   63   M           ASY         96          305         0         ST   \n",
              "770   46   F           ATA        105          204         0     Normal   \n",
              "\n",
              "     MaxHR ExerciseAngina  Oldpeak ST_Slope  \n",
              "88     155              N      0.0     Flat  \n",
              "204    100              N      0.0       Up  \n",
              "83     165              N      0.0       Up  \n",
              "811    122              N      1.0     Flat  \n",
              "6      170              N      0.0       Up  \n",
              "..     ...            ...      ...      ...  \n",
              "383    156              N      0.0     Flat  \n",
              "820    178              N      1.2     Flat  \n",
              "915    115              Y      1.2     Flat  \n",
              "519    121              Y      1.0       Up  \n",
              "770    172              N      0.0       Up  \n",
              "\n",
              "[734 rows x 11 columns]"
            ],
            "text/html": [
              "\n",
              "  <div id=\"df-d548df59-eae4-48a9-abba-605b414f8161\">\n",
              "    <div class=\"colab-df-container\">\n",
              "      <div>\n",
              "<style scoped>\n",
              "    .dataframe tbody tr th:only-of-type {\n",
              "        vertical-align: middle;\n",
              "    }\n",
              "\n",
              "    .dataframe tbody tr th {\n",
              "        vertical-align: top;\n",
              "    }\n",
              "\n",
              "    .dataframe thead th {\n",
              "        text-align: right;\n",
              "    }\n",
              "</style>\n",
              "<table border=\"1\" class=\"dataframe\">\n",
              "  <thead>\n",
              "    <tr style=\"text-align: right;\">\n",
              "      <th></th>\n",
              "      <th>Age</th>\n",
              "      <th>Sex</th>\n",
              "      <th>ChestPainType</th>\n",
              "      <th>RestingBP</th>\n",
              "      <th>Cholesterol</th>\n",
              "      <th>FastingBS</th>\n",
              "      <th>RestingECG</th>\n",
              "      <th>MaxHR</th>\n",
              "      <th>ExerciseAngina</th>\n",
              "      <th>Oldpeak</th>\n",
              "      <th>ST_Slope</th>\n",
              "    </tr>\n",
              "  </thead>\n",
              "  <tbody>\n",
              "    <tr>\n",
              "      <th>88</th>\n",
              "      <td>43</td>\n",
              "      <td>M</td>\n",
              "      <td>TA</td>\n",
              "      <td>120</td>\n",
              "      <td>291</td>\n",
              "      <td>0</td>\n",
              "      <td>ST</td>\n",
              "      <td>155</td>\n",
              "      <td>N</td>\n",
              "      <td>0.0</td>\n",
              "      <td>Flat</td>\n",
              "    </tr>\n",
              "    <tr>\n",
              "      <th>204</th>\n",
              "      <td>56</td>\n",
              "      <td>M</td>\n",
              "      <td>ATA</td>\n",
              "      <td>130</td>\n",
              "      <td>184</td>\n",
              "      <td>0</td>\n",
              "      <td>Normal</td>\n",
              "      <td>100</td>\n",
              "      <td>N</td>\n",
              "      <td>0.0</td>\n",
              "      <td>Up</td>\n",
              "    </tr>\n",
              "    <tr>\n",
              "      <th>83</th>\n",
              "      <td>52</td>\n",
              "      <td>M</td>\n",
              "      <td>ATA</td>\n",
              "      <td>160</td>\n",
              "      <td>196</td>\n",
              "      <td>0</td>\n",
              "      <td>Normal</td>\n",
              "      <td>165</td>\n",
              "      <td>N</td>\n",
              "      <td>0.0</td>\n",
              "      <td>Up</td>\n",
              "    </tr>\n",
              "    <tr>\n",
              "      <th>811</th>\n",
              "      <td>58</td>\n",
              "      <td>F</td>\n",
              "      <td>ASY</td>\n",
              "      <td>100</td>\n",
              "      <td>248</td>\n",
              "      <td>0</td>\n",
              "      <td>LVH</td>\n",
              "      <td>122</td>\n",
              "      <td>N</td>\n",
              "      <td>1.0</td>\n",
              "      <td>Flat</td>\n",
              "    </tr>\n",
              "    <tr>\n",
              "      <th>6</th>\n",
              "      <td>45</td>\n",
              "      <td>F</td>\n",
              "      <td>ATA</td>\n",
              "      <td>130</td>\n",
              "      <td>237</td>\n",
              "      <td>0</td>\n",
              "      <td>Normal</td>\n",
              "      <td>170</td>\n",
              "      <td>N</td>\n",
              "      <td>0.0</td>\n",
              "      <td>Up</td>\n",
              "    </tr>\n",
              "    <tr>\n",
              "      <th>...</th>\n",
              "      <td>...</td>\n",
              "      <td>...</td>\n",
              "      <td>...</td>\n",
              "      <td>...</td>\n",
              "      <td>...</td>\n",
              "      <td>...</td>\n",
              "      <td>...</td>\n",
              "      <td>...</td>\n",
              "      <td>...</td>\n",
              "      <td>...</td>\n",
              "      <td>...</td>\n",
              "    </tr>\n",
              "    <tr>\n",
              "      <th>383</th>\n",
              "      <td>38</td>\n",
              "      <td>F</td>\n",
              "      <td>ASY</td>\n",
              "      <td>110</td>\n",
              "      <td>0</td>\n",
              "      <td>0</td>\n",
              "      <td>Normal</td>\n",
              "      <td>156</td>\n",
              "      <td>N</td>\n",
              "      <td>0.0</td>\n",
              "      <td>Flat</td>\n",
              "    </tr>\n",
              "    <tr>\n",
              "      <th>820</th>\n",
              "      <td>52</td>\n",
              "      <td>M</td>\n",
              "      <td>TA</td>\n",
              "      <td>152</td>\n",
              "      <td>298</td>\n",
              "      <td>1</td>\n",
              "      <td>Normal</td>\n",
              "      <td>178</td>\n",
              "      <td>N</td>\n",
              "      <td>1.2</td>\n",
              "      <td>Flat</td>\n",
              "    </tr>\n",
              "    <tr>\n",
              "      <th>915</th>\n",
              "      <td>57</td>\n",
              "      <td>M</td>\n",
              "      <td>ASY</td>\n",
              "      <td>130</td>\n",
              "      <td>131</td>\n",
              "      <td>0</td>\n",
              "      <td>Normal</td>\n",
              "      <td>115</td>\n",
              "      <td>Y</td>\n",
              "      <td>1.2</td>\n",
              "      <td>Flat</td>\n",
              "    </tr>\n",
              "    <tr>\n",
              "      <th>519</th>\n",
              "      <td>63</td>\n",
              "      <td>M</td>\n",
              "      <td>ASY</td>\n",
              "      <td>96</td>\n",
              "      <td>305</td>\n",
              "      <td>0</td>\n",
              "      <td>ST</td>\n",
              "      <td>121</td>\n",
              "      <td>Y</td>\n",
              "      <td>1.0</td>\n",
              "      <td>Up</td>\n",
              "    </tr>\n",
              "    <tr>\n",
              "      <th>770</th>\n",
              "      <td>46</td>\n",
              "      <td>F</td>\n",
              "      <td>ATA</td>\n",
              "      <td>105</td>\n",
              "      <td>204</td>\n",
              "      <td>0</td>\n",
              "      <td>Normal</td>\n",
              "      <td>172</td>\n",
              "      <td>N</td>\n",
              "      <td>0.0</td>\n",
              "      <td>Up</td>\n",
              "    </tr>\n",
              "  </tbody>\n",
              "</table>\n",
              "<p>734 rows × 11 columns</p>\n",
              "</div>\n",
              "      <button class=\"colab-df-convert\" onclick=\"convertToInteractive('df-d548df59-eae4-48a9-abba-605b414f8161')\"\n",
              "              title=\"Convert this dataframe to an interactive table.\"\n",
              "              style=\"display:none;\">\n",
              "        \n",
              "  <svg xmlns=\"http://www.w3.org/2000/svg\" height=\"24px\"viewBox=\"0 0 24 24\"\n",
              "       width=\"24px\">\n",
              "    <path d=\"M0 0h24v24H0V0z\" fill=\"none\"/>\n",
              "    <path d=\"M18.56 5.44l.94 2.06.94-2.06 2.06-.94-2.06-.94-.94-2.06-.94 2.06-2.06.94zm-11 1L8.5 8.5l.94-2.06 2.06-.94-2.06-.94L8.5 2.5l-.94 2.06-2.06.94zm10 10l.94 2.06.94-2.06 2.06-.94-2.06-.94-.94-2.06-.94 2.06-2.06.94z\"/><path d=\"M17.41 7.96l-1.37-1.37c-.4-.4-.92-.59-1.43-.59-.52 0-1.04.2-1.43.59L10.3 9.45l-7.72 7.72c-.78.78-.78 2.05 0 2.83L4 21.41c.39.39.9.59 1.41.59.51 0 1.02-.2 1.41-.59l7.78-7.78 2.81-2.81c.8-.78.8-2.07 0-2.86zM5.41 20L4 18.59l7.72-7.72 1.47 1.35L5.41 20z\"/>\n",
              "  </svg>\n",
              "      </button>\n",
              "      \n",
              "  <style>\n",
              "    .colab-df-container {\n",
              "      display:flex;\n",
              "      flex-wrap:wrap;\n",
              "      gap: 12px;\n",
              "    }\n",
              "\n",
              "    .colab-df-convert {\n",
              "      background-color: #E8F0FE;\n",
              "      border: none;\n",
              "      border-radius: 50%;\n",
              "      cursor: pointer;\n",
              "      display: none;\n",
              "      fill: #1967D2;\n",
              "      height: 32px;\n",
              "      padding: 0 0 0 0;\n",
              "      width: 32px;\n",
              "    }\n",
              "\n",
              "    .colab-df-convert:hover {\n",
              "      background-color: #E2EBFA;\n",
              "      box-shadow: 0px 1px 2px rgba(60, 64, 67, 0.3), 0px 1px 3px 1px rgba(60, 64, 67, 0.15);\n",
              "      fill: #174EA6;\n",
              "    }\n",
              "\n",
              "    [theme=dark] .colab-df-convert {\n",
              "      background-color: #3B4455;\n",
              "      fill: #D2E3FC;\n",
              "    }\n",
              "\n",
              "    [theme=dark] .colab-df-convert:hover {\n",
              "      background-color: #434B5C;\n",
              "      box-shadow: 0px 1px 3px 1px rgba(0, 0, 0, 0.15);\n",
              "      filter: drop-shadow(0px 1px 2px rgba(0, 0, 0, 0.3));\n",
              "      fill: #FFFFFF;\n",
              "    }\n",
              "  </style>\n",
              "\n",
              "      <script>\n",
              "        const buttonEl =\n",
              "          document.querySelector('#df-d548df59-eae4-48a9-abba-605b414f8161 button.colab-df-convert');\n",
              "        buttonEl.style.display =\n",
              "          google.colab.kernel.accessAllowed ? 'block' : 'none';\n",
              "\n",
              "        async function convertToInteractive(key) {\n",
              "          const element = document.querySelector('#df-d548df59-eae4-48a9-abba-605b414f8161');\n",
              "          const dataTable =\n",
              "            await google.colab.kernel.invokeFunction('convertToInteractive',\n",
              "                                                     [key], {});\n",
              "          if (!dataTable) return;\n",
              "\n",
              "          const docLinkHtml = 'Like what you see? Visit the ' +\n",
              "            '<a target=\"_blank\" href=https://colab.research.google.com/notebooks/data_table.ipynb>data table notebook</a>'\n",
              "            + ' to learn more about interactive tables.';\n",
              "          element.innerHTML = '';\n",
              "          dataTable['output_type'] = 'display_data';\n",
              "          await google.colab.output.renderOutput(dataTable, element);\n",
              "          const docLink = document.createElement('div');\n",
              "          docLink.innerHTML = docLinkHtml;\n",
              "          element.appendChild(docLink);\n",
              "        }\n",
              "      </script>\n",
              "    </div>\n",
              "  </div>\n",
              "  "
            ]
          },
          "metadata": {},
          "execution_count": 113
        }
      ]
    },
    {
      "cell_type": "markdown",
      "source": [
        "###2.4.2 Encoding Categorical Features\n",
        "\n",
        "Fitur **kategorik nominal**, yaitu `Race` dan `Sex` akan diubah menjadi matriks one-hot encoding, sedangkan fitur **kategorik ordinal** (sisa fitur kategorik lainnya) akan diubah ke dalam bentuk angka terurut."
      ],
      "metadata": {
        "id": "c-XIYtiyY6GS"
      }
    },
    {
      "cell_type": "code",
      "source": [
        "nominal_features = [\"Sex\", \"ChestPainType\", \"ST_Slope\"]\n",
        "ordinal_features = X.select_dtypes(\n",
        "    include=\"object\"\n",
        ").drop(columns=nominal_features).columns.tolist()\n",
        "\n",
        "print(\"nominal features:\", nominal_features)\n",
        "print(\"ordinal features:\")\n",
        "pprint(ordinal_features, compact=True)"
      ],
      "metadata": {
        "colab": {
          "base_uri": "https://localhost:8080/"
        },
        "id": "lL1mqmUBSpZq",
        "outputId": "bd9193cf-e034-4746-bddb-d85c63d4ecb1"
      },
      "execution_count": null,
      "outputs": [
        {
          "output_type": "stream",
          "name": "stdout",
          "text": [
            "nominal features: ['Sex', 'ChestPainType', 'ST_Slope']\n",
            "ordinal features:\n",
            "['FastingBS', 'RestingECG', 'ExerciseAngina']\n"
          ]
        }
      ]
    },
    {
      "cell_type": "code",
      "source": [
        "# Fungsi OHE untuk Categorical Encoding\n",
        "onehot = OneHotEncoder()\n",
        "onehot.fit(X_train[nominal_features])\n",
        "X_train_onehot = pd.DataFrame(\n",
        "    onehot.transform(X_train[nominal_features]).toarray(),\n",
        "    columns=onehot.get_feature_names_out()\n",
        ")\n",
        "X_dev_onehot = pd.DataFrame(\n",
        "    onehot.transform(X_dev[nominal_features]).toarray(),\n",
        "    columns=onehot.get_feature_names_out()\n",
        ")\n",
        "X_test_onehot = pd.DataFrame(\n",
        "    onehot.transform(X_test[nominal_features]).toarray(),\n",
        "    columns=onehot.get_feature_names_out()\n",
        ")\n",
        "print(\"one-hot matrix:\")\n",
        "display(X_train_onehot)\n",
        "\n",
        "ordinal = OrdinalEncoder()\n",
        "ordinal.fit(X_train[ordinal_features])\n",
        "X_train_ordinal = pd.DataFrame(\n",
        "    ordinal.transform(X_train[ordinal_features]),\n",
        "    columns=ordinal.feature_names_in_\n",
        ")\n",
        "X_dev_ordinal = pd.DataFrame(\n",
        "    ordinal.transform(X_dev[ordinal_features]),\n",
        "    columns=ordinal.feature_names_in_\n",
        ")\n",
        "X_test_ordinal = pd.DataFrame(\n",
        "    ordinal.transform(X_test[ordinal_features]),\n",
        "    columns=ordinal.feature_names_in_\n",
        ")\n",
        "print(\"ordinal matrix:\")\n",
        "display(X_train_ordinal)"
      ],
      "metadata": {
        "colab": {
          "base_uri": "https://localhost:8080/",
          "height": 929
        },
        "id": "UAVJi6g8ZDxa",
        "outputId": "c8d29dc7-2e8f-4952-ae88-b452ae7a0a12"
      },
      "execution_count": null,
      "outputs": [
        {
          "output_type": "stream",
          "name": "stdout",
          "text": [
            "one-hot matrix:\n"
          ]
        },
        {
          "output_type": "display_data",
          "data": {
            "text/plain": [
              "     Sex_F  Sex_M  ChestPainType_ASY  ChestPainType_ATA  ChestPainType_NAP  \\\n",
              "0      0.0    1.0                0.0                0.0                0.0   \n",
              "1      0.0    1.0                0.0                1.0                0.0   \n",
              "2      0.0    1.0                0.0                1.0                0.0   \n",
              "3      1.0    0.0                1.0                0.0                0.0   \n",
              "4      1.0    0.0                0.0                1.0                0.0   \n",
              "..     ...    ...                ...                ...                ...   \n",
              "729    1.0    0.0                1.0                0.0                0.0   \n",
              "730    0.0    1.0                0.0                0.0                0.0   \n",
              "731    0.0    1.0                1.0                0.0                0.0   \n",
              "732    0.0    1.0                1.0                0.0                0.0   \n",
              "733    1.0    0.0                0.0                1.0                0.0   \n",
              "\n",
              "     ChestPainType_TA  ST_Slope_Down  ST_Slope_Flat  ST_Slope_Up  \n",
              "0                 1.0            0.0            1.0          0.0  \n",
              "1                 0.0            0.0            0.0          1.0  \n",
              "2                 0.0            0.0            0.0          1.0  \n",
              "3                 0.0            0.0            1.0          0.0  \n",
              "4                 0.0            0.0            0.0          1.0  \n",
              "..                ...            ...            ...          ...  \n",
              "729               0.0            0.0            1.0          0.0  \n",
              "730               1.0            0.0            1.0          0.0  \n",
              "731               0.0            0.0            1.0          0.0  \n",
              "732               0.0            0.0            0.0          1.0  \n",
              "733               0.0            0.0            0.0          1.0  \n",
              "\n",
              "[734 rows x 9 columns]"
            ],
            "text/html": [
              "\n",
              "  <div id=\"df-44d5ba3b-45a8-4c2e-8a9c-be22b34254ef\">\n",
              "    <div class=\"colab-df-container\">\n",
              "      <div>\n",
              "<style scoped>\n",
              "    .dataframe tbody tr th:only-of-type {\n",
              "        vertical-align: middle;\n",
              "    }\n",
              "\n",
              "    .dataframe tbody tr th {\n",
              "        vertical-align: top;\n",
              "    }\n",
              "\n",
              "    .dataframe thead th {\n",
              "        text-align: right;\n",
              "    }\n",
              "</style>\n",
              "<table border=\"1\" class=\"dataframe\">\n",
              "  <thead>\n",
              "    <tr style=\"text-align: right;\">\n",
              "      <th></th>\n",
              "      <th>Sex_F</th>\n",
              "      <th>Sex_M</th>\n",
              "      <th>ChestPainType_ASY</th>\n",
              "      <th>ChestPainType_ATA</th>\n",
              "      <th>ChestPainType_NAP</th>\n",
              "      <th>ChestPainType_TA</th>\n",
              "      <th>ST_Slope_Down</th>\n",
              "      <th>ST_Slope_Flat</th>\n",
              "      <th>ST_Slope_Up</th>\n",
              "    </tr>\n",
              "  </thead>\n",
              "  <tbody>\n",
              "    <tr>\n",
              "      <th>0</th>\n",
              "      <td>0.0</td>\n",
              "      <td>1.0</td>\n",
              "      <td>0.0</td>\n",
              "      <td>0.0</td>\n",
              "      <td>0.0</td>\n",
              "      <td>1.0</td>\n",
              "      <td>0.0</td>\n",
              "      <td>1.0</td>\n",
              "      <td>0.0</td>\n",
              "    </tr>\n",
              "    <tr>\n",
              "      <th>1</th>\n",
              "      <td>0.0</td>\n",
              "      <td>1.0</td>\n",
              "      <td>0.0</td>\n",
              "      <td>1.0</td>\n",
              "      <td>0.0</td>\n",
              "      <td>0.0</td>\n",
              "      <td>0.0</td>\n",
              "      <td>0.0</td>\n",
              "      <td>1.0</td>\n",
              "    </tr>\n",
              "    <tr>\n",
              "      <th>2</th>\n",
              "      <td>0.0</td>\n",
              "      <td>1.0</td>\n",
              "      <td>0.0</td>\n",
              "      <td>1.0</td>\n",
              "      <td>0.0</td>\n",
              "      <td>0.0</td>\n",
              "      <td>0.0</td>\n",
              "      <td>0.0</td>\n",
              "      <td>1.0</td>\n",
              "    </tr>\n",
              "    <tr>\n",
              "      <th>3</th>\n",
              "      <td>1.0</td>\n",
              "      <td>0.0</td>\n",
              "      <td>1.0</td>\n",
              "      <td>0.0</td>\n",
              "      <td>0.0</td>\n",
              "      <td>0.0</td>\n",
              "      <td>0.0</td>\n",
              "      <td>1.0</td>\n",
              "      <td>0.0</td>\n",
              "    </tr>\n",
              "    <tr>\n",
              "      <th>4</th>\n",
              "      <td>1.0</td>\n",
              "      <td>0.0</td>\n",
              "      <td>0.0</td>\n",
              "      <td>1.0</td>\n",
              "      <td>0.0</td>\n",
              "      <td>0.0</td>\n",
              "      <td>0.0</td>\n",
              "      <td>0.0</td>\n",
              "      <td>1.0</td>\n",
              "    </tr>\n",
              "    <tr>\n",
              "      <th>...</th>\n",
              "      <td>...</td>\n",
              "      <td>...</td>\n",
              "      <td>...</td>\n",
              "      <td>...</td>\n",
              "      <td>...</td>\n",
              "      <td>...</td>\n",
              "      <td>...</td>\n",
              "      <td>...</td>\n",
              "      <td>...</td>\n",
              "    </tr>\n",
              "    <tr>\n",
              "      <th>729</th>\n",
              "      <td>1.0</td>\n",
              "      <td>0.0</td>\n",
              "      <td>1.0</td>\n",
              "      <td>0.0</td>\n",
              "      <td>0.0</td>\n",
              "      <td>0.0</td>\n",
              "      <td>0.0</td>\n",
              "      <td>1.0</td>\n",
              "      <td>0.0</td>\n",
              "    </tr>\n",
              "    <tr>\n",
              "      <th>730</th>\n",
              "      <td>0.0</td>\n",
              "      <td>1.0</td>\n",
              "      <td>0.0</td>\n",
              "      <td>0.0</td>\n",
              "      <td>0.0</td>\n",
              "      <td>1.0</td>\n",
              "      <td>0.0</td>\n",
              "      <td>1.0</td>\n",
              "      <td>0.0</td>\n",
              "    </tr>\n",
              "    <tr>\n",
              "      <th>731</th>\n",
              "      <td>0.0</td>\n",
              "      <td>1.0</td>\n",
              "      <td>1.0</td>\n",
              "      <td>0.0</td>\n",
              "      <td>0.0</td>\n",
              "      <td>0.0</td>\n",
              "      <td>0.0</td>\n",
              "      <td>1.0</td>\n",
              "      <td>0.0</td>\n",
              "    </tr>\n",
              "    <tr>\n",
              "      <th>732</th>\n",
              "      <td>0.0</td>\n",
              "      <td>1.0</td>\n",
              "      <td>1.0</td>\n",
              "      <td>0.0</td>\n",
              "      <td>0.0</td>\n",
              "      <td>0.0</td>\n",
              "      <td>0.0</td>\n",
              "      <td>0.0</td>\n",
              "      <td>1.0</td>\n",
              "    </tr>\n",
              "    <tr>\n",
              "      <th>733</th>\n",
              "      <td>1.0</td>\n",
              "      <td>0.0</td>\n",
              "      <td>0.0</td>\n",
              "      <td>1.0</td>\n",
              "      <td>0.0</td>\n",
              "      <td>0.0</td>\n",
              "      <td>0.0</td>\n",
              "      <td>0.0</td>\n",
              "      <td>1.0</td>\n",
              "    </tr>\n",
              "  </tbody>\n",
              "</table>\n",
              "<p>734 rows × 9 columns</p>\n",
              "</div>\n",
              "      <button class=\"colab-df-convert\" onclick=\"convertToInteractive('df-44d5ba3b-45a8-4c2e-8a9c-be22b34254ef')\"\n",
              "              title=\"Convert this dataframe to an interactive table.\"\n",
              "              style=\"display:none;\">\n",
              "        \n",
              "  <svg xmlns=\"http://www.w3.org/2000/svg\" height=\"24px\"viewBox=\"0 0 24 24\"\n",
              "       width=\"24px\">\n",
              "    <path d=\"M0 0h24v24H0V0z\" fill=\"none\"/>\n",
              "    <path d=\"M18.56 5.44l.94 2.06.94-2.06 2.06-.94-2.06-.94-.94-2.06-.94 2.06-2.06.94zm-11 1L8.5 8.5l.94-2.06 2.06-.94-2.06-.94L8.5 2.5l-.94 2.06-2.06.94zm10 10l.94 2.06.94-2.06 2.06-.94-2.06-.94-.94-2.06-.94 2.06-2.06.94z\"/><path d=\"M17.41 7.96l-1.37-1.37c-.4-.4-.92-.59-1.43-.59-.52 0-1.04.2-1.43.59L10.3 9.45l-7.72 7.72c-.78.78-.78 2.05 0 2.83L4 21.41c.39.39.9.59 1.41.59.51 0 1.02-.2 1.41-.59l7.78-7.78 2.81-2.81c.8-.78.8-2.07 0-2.86zM5.41 20L4 18.59l7.72-7.72 1.47 1.35L5.41 20z\"/>\n",
              "  </svg>\n",
              "      </button>\n",
              "      \n",
              "  <style>\n",
              "    .colab-df-container {\n",
              "      display:flex;\n",
              "      flex-wrap:wrap;\n",
              "      gap: 12px;\n",
              "    }\n",
              "\n",
              "    .colab-df-convert {\n",
              "      background-color: #E8F0FE;\n",
              "      border: none;\n",
              "      border-radius: 50%;\n",
              "      cursor: pointer;\n",
              "      display: none;\n",
              "      fill: #1967D2;\n",
              "      height: 32px;\n",
              "      padding: 0 0 0 0;\n",
              "      width: 32px;\n",
              "    }\n",
              "\n",
              "    .colab-df-convert:hover {\n",
              "      background-color: #E2EBFA;\n",
              "      box-shadow: 0px 1px 2px rgba(60, 64, 67, 0.3), 0px 1px 3px 1px rgba(60, 64, 67, 0.15);\n",
              "      fill: #174EA6;\n",
              "    }\n",
              "\n",
              "    [theme=dark] .colab-df-convert {\n",
              "      background-color: #3B4455;\n",
              "      fill: #D2E3FC;\n",
              "    }\n",
              "\n",
              "    [theme=dark] .colab-df-convert:hover {\n",
              "      background-color: #434B5C;\n",
              "      box-shadow: 0px 1px 3px 1px rgba(0, 0, 0, 0.15);\n",
              "      filter: drop-shadow(0px 1px 2px rgba(0, 0, 0, 0.3));\n",
              "      fill: #FFFFFF;\n",
              "    }\n",
              "  </style>\n",
              "\n",
              "      <script>\n",
              "        const buttonEl =\n",
              "          document.querySelector('#df-44d5ba3b-45a8-4c2e-8a9c-be22b34254ef button.colab-df-convert');\n",
              "        buttonEl.style.display =\n",
              "          google.colab.kernel.accessAllowed ? 'block' : 'none';\n",
              "\n",
              "        async function convertToInteractive(key) {\n",
              "          const element = document.querySelector('#df-44d5ba3b-45a8-4c2e-8a9c-be22b34254ef');\n",
              "          const dataTable =\n",
              "            await google.colab.kernel.invokeFunction('convertToInteractive',\n",
              "                                                     [key], {});\n",
              "          if (!dataTable) return;\n",
              "\n",
              "          const docLinkHtml = 'Like what you see? Visit the ' +\n",
              "            '<a target=\"_blank\" href=https://colab.research.google.com/notebooks/data_table.ipynb>data table notebook</a>'\n",
              "            + ' to learn more about interactive tables.';\n",
              "          element.innerHTML = '';\n",
              "          dataTable['output_type'] = 'display_data';\n",
              "          await google.colab.output.renderOutput(dataTable, element);\n",
              "          const docLink = document.createElement('div');\n",
              "          docLink.innerHTML = docLinkHtml;\n",
              "          element.appendChild(docLink);\n",
              "        }\n",
              "      </script>\n",
              "    </div>\n",
              "  </div>\n",
              "  "
            ]
          },
          "metadata": {}
        },
        {
          "output_type": "stream",
          "name": "stdout",
          "text": [
            "ordinal matrix:\n"
          ]
        },
        {
          "output_type": "display_data",
          "data": {
            "text/plain": [
              "     FastingBS  RestingECG  ExerciseAngina\n",
              "0          0.0         2.0             0.0\n",
              "1          0.0         1.0             0.0\n",
              "2          0.0         1.0             0.0\n",
              "3          0.0         0.0             0.0\n",
              "4          0.0         1.0             0.0\n",
              "..         ...         ...             ...\n",
              "729        0.0         1.0             0.0\n",
              "730        1.0         1.0             0.0\n",
              "731        0.0         1.0             1.0\n",
              "732        0.0         2.0             1.0\n",
              "733        0.0         1.0             0.0\n",
              "\n",
              "[734 rows x 3 columns]"
            ],
            "text/html": [
              "\n",
              "  <div id=\"df-c9600863-6381-4186-af66-fe938f9474fd\">\n",
              "    <div class=\"colab-df-container\">\n",
              "      <div>\n",
              "<style scoped>\n",
              "    .dataframe tbody tr th:only-of-type {\n",
              "        vertical-align: middle;\n",
              "    }\n",
              "\n",
              "    .dataframe tbody tr th {\n",
              "        vertical-align: top;\n",
              "    }\n",
              "\n",
              "    .dataframe thead th {\n",
              "        text-align: right;\n",
              "    }\n",
              "</style>\n",
              "<table border=\"1\" class=\"dataframe\">\n",
              "  <thead>\n",
              "    <tr style=\"text-align: right;\">\n",
              "      <th></th>\n",
              "      <th>FastingBS</th>\n",
              "      <th>RestingECG</th>\n",
              "      <th>ExerciseAngina</th>\n",
              "    </tr>\n",
              "  </thead>\n",
              "  <tbody>\n",
              "    <tr>\n",
              "      <th>0</th>\n",
              "      <td>0.0</td>\n",
              "      <td>2.0</td>\n",
              "      <td>0.0</td>\n",
              "    </tr>\n",
              "    <tr>\n",
              "      <th>1</th>\n",
              "      <td>0.0</td>\n",
              "      <td>1.0</td>\n",
              "      <td>0.0</td>\n",
              "    </tr>\n",
              "    <tr>\n",
              "      <th>2</th>\n",
              "      <td>0.0</td>\n",
              "      <td>1.0</td>\n",
              "      <td>0.0</td>\n",
              "    </tr>\n",
              "    <tr>\n",
              "      <th>3</th>\n",
              "      <td>0.0</td>\n",
              "      <td>0.0</td>\n",
              "      <td>0.0</td>\n",
              "    </tr>\n",
              "    <tr>\n",
              "      <th>4</th>\n",
              "      <td>0.0</td>\n",
              "      <td>1.0</td>\n",
              "      <td>0.0</td>\n",
              "    </tr>\n",
              "    <tr>\n",
              "      <th>...</th>\n",
              "      <td>...</td>\n",
              "      <td>...</td>\n",
              "      <td>...</td>\n",
              "    </tr>\n",
              "    <tr>\n",
              "      <th>729</th>\n",
              "      <td>0.0</td>\n",
              "      <td>1.0</td>\n",
              "      <td>0.0</td>\n",
              "    </tr>\n",
              "    <tr>\n",
              "      <th>730</th>\n",
              "      <td>1.0</td>\n",
              "      <td>1.0</td>\n",
              "      <td>0.0</td>\n",
              "    </tr>\n",
              "    <tr>\n",
              "      <th>731</th>\n",
              "      <td>0.0</td>\n",
              "      <td>1.0</td>\n",
              "      <td>1.0</td>\n",
              "    </tr>\n",
              "    <tr>\n",
              "      <th>732</th>\n",
              "      <td>0.0</td>\n",
              "      <td>2.0</td>\n",
              "      <td>1.0</td>\n",
              "    </tr>\n",
              "    <tr>\n",
              "      <th>733</th>\n",
              "      <td>0.0</td>\n",
              "      <td>1.0</td>\n",
              "      <td>0.0</td>\n",
              "    </tr>\n",
              "  </tbody>\n",
              "</table>\n",
              "<p>734 rows × 3 columns</p>\n",
              "</div>\n",
              "      <button class=\"colab-df-convert\" onclick=\"convertToInteractive('df-c9600863-6381-4186-af66-fe938f9474fd')\"\n",
              "              title=\"Convert this dataframe to an interactive table.\"\n",
              "              style=\"display:none;\">\n",
              "        \n",
              "  <svg xmlns=\"http://www.w3.org/2000/svg\" height=\"24px\"viewBox=\"0 0 24 24\"\n",
              "       width=\"24px\">\n",
              "    <path d=\"M0 0h24v24H0V0z\" fill=\"none\"/>\n",
              "    <path d=\"M18.56 5.44l.94 2.06.94-2.06 2.06-.94-2.06-.94-.94-2.06-.94 2.06-2.06.94zm-11 1L8.5 8.5l.94-2.06 2.06-.94-2.06-.94L8.5 2.5l-.94 2.06-2.06.94zm10 10l.94 2.06.94-2.06 2.06-.94-2.06-.94-.94-2.06-.94 2.06-2.06.94z\"/><path d=\"M17.41 7.96l-1.37-1.37c-.4-.4-.92-.59-1.43-.59-.52 0-1.04.2-1.43.59L10.3 9.45l-7.72 7.72c-.78.78-.78 2.05 0 2.83L4 21.41c.39.39.9.59 1.41.59.51 0 1.02-.2 1.41-.59l7.78-7.78 2.81-2.81c.8-.78.8-2.07 0-2.86zM5.41 20L4 18.59l7.72-7.72 1.47 1.35L5.41 20z\"/>\n",
              "  </svg>\n",
              "      </button>\n",
              "      \n",
              "  <style>\n",
              "    .colab-df-container {\n",
              "      display:flex;\n",
              "      flex-wrap:wrap;\n",
              "      gap: 12px;\n",
              "    }\n",
              "\n",
              "    .colab-df-convert {\n",
              "      background-color: #E8F0FE;\n",
              "      border: none;\n",
              "      border-radius: 50%;\n",
              "      cursor: pointer;\n",
              "      display: none;\n",
              "      fill: #1967D2;\n",
              "      height: 32px;\n",
              "      padding: 0 0 0 0;\n",
              "      width: 32px;\n",
              "    }\n",
              "\n",
              "    .colab-df-convert:hover {\n",
              "      background-color: #E2EBFA;\n",
              "      box-shadow: 0px 1px 2px rgba(60, 64, 67, 0.3), 0px 1px 3px 1px rgba(60, 64, 67, 0.15);\n",
              "      fill: #174EA6;\n",
              "    }\n",
              "\n",
              "    [theme=dark] .colab-df-convert {\n",
              "      background-color: #3B4455;\n",
              "      fill: #D2E3FC;\n",
              "    }\n",
              "\n",
              "    [theme=dark] .colab-df-convert:hover {\n",
              "      background-color: #434B5C;\n",
              "      box-shadow: 0px 1px 3px 1px rgba(0, 0, 0, 0.15);\n",
              "      filter: drop-shadow(0px 1px 2px rgba(0, 0, 0, 0.3));\n",
              "      fill: #FFFFFF;\n",
              "    }\n",
              "  </style>\n",
              "\n",
              "      <script>\n",
              "        const buttonEl =\n",
              "          document.querySelector('#df-c9600863-6381-4186-af66-fe938f9474fd button.colab-df-convert');\n",
              "        buttonEl.style.display =\n",
              "          google.colab.kernel.accessAllowed ? 'block' : 'none';\n",
              "\n",
              "        async function convertToInteractive(key) {\n",
              "          const element = document.querySelector('#df-c9600863-6381-4186-af66-fe938f9474fd');\n",
              "          const dataTable =\n",
              "            await google.colab.kernel.invokeFunction('convertToInteractive',\n",
              "                                                     [key], {});\n",
              "          if (!dataTable) return;\n",
              "\n",
              "          const docLinkHtml = 'Like what you see? Visit the ' +\n",
              "            '<a target=\"_blank\" href=https://colab.research.google.com/notebooks/data_table.ipynb>data table notebook</a>'\n",
              "            + ' to learn more about interactive tables.';\n",
              "          element.innerHTML = '';\n",
              "          dataTable['output_type'] = 'display_data';\n",
              "          await google.colab.output.renderOutput(dataTable, element);\n",
              "          const docLink = document.createElement('div');\n",
              "          docLink.innerHTML = docLinkHtml;\n",
              "          element.appendChild(docLink);\n",
              "        }\n",
              "      </script>\n",
              "    </div>\n",
              "  </div>\n",
              "  "
            ]
          },
          "metadata": {}
        }
      ]
    },
    {
      "cell_type": "markdown",
      "source": [
        "###2.4.3 Data Rescalling\n",
        "\n",
        "\n",
        "Kita akan menggunakan function `StandardScaler` dari `scikit-learn` sedemikian hingga nilai fitur-fitur numerik memiliki rata-rata 0 dan standar deviasi 1.\n",
        "\n",
        "Tapi, sebelum itu, kita akan gabungan fitur numerik yang dengan fitur kategorik yang sudah diubah ke dalam bentuk numerik.\n",
        "\n",
        "> Perlu diperhatikan, untuk mencegah **data leakage**, kita akan melakukan `fit` pada data training saja.\n",
        "\n",
        "> _Data leakage refers to **a mistake make by the creator of a machine learning model in which they accidentally share information between the test and training data-sets**_ ([ref](https://towardsdatascience.com/data-leakage-in-machine-learning-10bdd3eec742))."
      ],
      "metadata": {
        "id": "fPZUXKIWZUtF"
      }
    },
    {
      "cell_type": "code",
      "source": [
        "X_train_combined = pd.concat(\n",
        "    [X_train[numerical_features].reset_index(drop=True), X_train_onehot, X_train_ordinal],\n",
        "    axis=1\n",
        ")\n",
        "X_dev_combined = pd.concat(\n",
        "    [X_dev[numerical_features].reset_index(drop=True), X_dev_onehot, X_dev_ordinal],\n",
        "    axis=1\n",
        ")\n",
        "X_test_combined = pd.concat(\n",
        "    [X_test[numerical_features].reset_index(drop=True), X_test_onehot, X_test_ordinal],\n",
        "    axis=1\n",
        ")\n",
        "\n",
        "X_train_combined.head()\n",
        "\n",
        "# concat = menggabungkan data variabel kategorik & numerik untuk nantinya training, testing, validation data"
      ],
      "metadata": {
        "colab": {
          "base_uri": "https://localhost:8080/",
          "height": 270
        },
        "id": "heIpZbLHZOFC",
        "outputId": "7687c5c9-7589-4c10-d643-76be70836eca"
      },
      "execution_count": null,
      "outputs": [
        {
          "output_type": "execute_result",
          "data": {
            "text/plain": [
              "   Age  RestingBP  Cholesterol  MaxHR  Oldpeak  Sex_F  Sex_M  \\\n",
              "0   43        120          291    155      0.0    0.0    1.0   \n",
              "1   56        130          184    100      0.0    0.0    1.0   \n",
              "2   52        160          196    165      0.0    0.0    1.0   \n",
              "3   58        100          248    122      1.0    1.0    0.0   \n",
              "4   45        130          237    170      0.0    1.0    0.0   \n",
              "\n",
              "   ChestPainType_ASY  ChestPainType_ATA  ChestPainType_NAP  ChestPainType_TA  \\\n",
              "0                0.0                0.0                0.0               1.0   \n",
              "1                0.0                1.0                0.0               0.0   \n",
              "2                0.0                1.0                0.0               0.0   \n",
              "3                1.0                0.0                0.0               0.0   \n",
              "4                0.0                1.0                0.0               0.0   \n",
              "\n",
              "   ST_Slope_Down  ST_Slope_Flat  ST_Slope_Up  FastingBS  RestingECG  \\\n",
              "0            0.0            1.0          0.0        0.0         2.0   \n",
              "1            0.0            0.0          1.0        0.0         1.0   \n",
              "2            0.0            0.0          1.0        0.0         1.0   \n",
              "3            0.0            1.0          0.0        0.0         0.0   \n",
              "4            0.0            0.0          1.0        0.0         1.0   \n",
              "\n",
              "   ExerciseAngina  \n",
              "0             0.0  \n",
              "1             0.0  \n",
              "2             0.0  \n",
              "3             0.0  \n",
              "4             0.0  "
            ],
            "text/html": [
              "\n",
              "  <div id=\"df-1ca1a36c-e5cb-48d7-b735-17f59c0b37b5\">\n",
              "    <div class=\"colab-df-container\">\n",
              "      <div>\n",
              "<style scoped>\n",
              "    .dataframe tbody tr th:only-of-type {\n",
              "        vertical-align: middle;\n",
              "    }\n",
              "\n",
              "    .dataframe tbody tr th {\n",
              "        vertical-align: top;\n",
              "    }\n",
              "\n",
              "    .dataframe thead th {\n",
              "        text-align: right;\n",
              "    }\n",
              "</style>\n",
              "<table border=\"1\" class=\"dataframe\">\n",
              "  <thead>\n",
              "    <tr style=\"text-align: right;\">\n",
              "      <th></th>\n",
              "      <th>Age</th>\n",
              "      <th>RestingBP</th>\n",
              "      <th>Cholesterol</th>\n",
              "      <th>MaxHR</th>\n",
              "      <th>Oldpeak</th>\n",
              "      <th>Sex_F</th>\n",
              "      <th>Sex_M</th>\n",
              "      <th>ChestPainType_ASY</th>\n",
              "      <th>ChestPainType_ATA</th>\n",
              "      <th>ChestPainType_NAP</th>\n",
              "      <th>ChestPainType_TA</th>\n",
              "      <th>ST_Slope_Down</th>\n",
              "      <th>ST_Slope_Flat</th>\n",
              "      <th>ST_Slope_Up</th>\n",
              "      <th>FastingBS</th>\n",
              "      <th>RestingECG</th>\n",
              "      <th>ExerciseAngina</th>\n",
              "    </tr>\n",
              "  </thead>\n",
              "  <tbody>\n",
              "    <tr>\n",
              "      <th>0</th>\n",
              "      <td>43</td>\n",
              "      <td>120</td>\n",
              "      <td>291</td>\n",
              "      <td>155</td>\n",
              "      <td>0.0</td>\n",
              "      <td>0.0</td>\n",
              "      <td>1.0</td>\n",
              "      <td>0.0</td>\n",
              "      <td>0.0</td>\n",
              "      <td>0.0</td>\n",
              "      <td>1.0</td>\n",
              "      <td>0.0</td>\n",
              "      <td>1.0</td>\n",
              "      <td>0.0</td>\n",
              "      <td>0.0</td>\n",
              "      <td>2.0</td>\n",
              "      <td>0.0</td>\n",
              "    </tr>\n",
              "    <tr>\n",
              "      <th>1</th>\n",
              "      <td>56</td>\n",
              "      <td>130</td>\n",
              "      <td>184</td>\n",
              "      <td>100</td>\n",
              "      <td>0.0</td>\n",
              "      <td>0.0</td>\n",
              "      <td>1.0</td>\n",
              "      <td>0.0</td>\n",
              "      <td>1.0</td>\n",
              "      <td>0.0</td>\n",
              "      <td>0.0</td>\n",
              "      <td>0.0</td>\n",
              "      <td>0.0</td>\n",
              "      <td>1.0</td>\n",
              "      <td>0.0</td>\n",
              "      <td>1.0</td>\n",
              "      <td>0.0</td>\n",
              "    </tr>\n",
              "    <tr>\n",
              "      <th>2</th>\n",
              "      <td>52</td>\n",
              "      <td>160</td>\n",
              "      <td>196</td>\n",
              "      <td>165</td>\n",
              "      <td>0.0</td>\n",
              "      <td>0.0</td>\n",
              "      <td>1.0</td>\n",
              "      <td>0.0</td>\n",
              "      <td>1.0</td>\n",
              "      <td>0.0</td>\n",
              "      <td>0.0</td>\n",
              "      <td>0.0</td>\n",
              "      <td>0.0</td>\n",
              "      <td>1.0</td>\n",
              "      <td>0.0</td>\n",
              "      <td>1.0</td>\n",
              "      <td>0.0</td>\n",
              "    </tr>\n",
              "    <tr>\n",
              "      <th>3</th>\n",
              "      <td>58</td>\n",
              "      <td>100</td>\n",
              "      <td>248</td>\n",
              "      <td>122</td>\n",
              "      <td>1.0</td>\n",
              "      <td>1.0</td>\n",
              "      <td>0.0</td>\n",
              "      <td>1.0</td>\n",
              "      <td>0.0</td>\n",
              "      <td>0.0</td>\n",
              "      <td>0.0</td>\n",
              "      <td>0.0</td>\n",
              "      <td>1.0</td>\n",
              "      <td>0.0</td>\n",
              "      <td>0.0</td>\n",
              "      <td>0.0</td>\n",
              "      <td>0.0</td>\n",
              "    </tr>\n",
              "    <tr>\n",
              "      <th>4</th>\n",
              "      <td>45</td>\n",
              "      <td>130</td>\n",
              "      <td>237</td>\n",
              "      <td>170</td>\n",
              "      <td>0.0</td>\n",
              "      <td>1.0</td>\n",
              "      <td>0.0</td>\n",
              "      <td>0.0</td>\n",
              "      <td>1.0</td>\n",
              "      <td>0.0</td>\n",
              "      <td>0.0</td>\n",
              "      <td>0.0</td>\n",
              "      <td>0.0</td>\n",
              "      <td>1.0</td>\n",
              "      <td>0.0</td>\n",
              "      <td>1.0</td>\n",
              "      <td>0.0</td>\n",
              "    </tr>\n",
              "  </tbody>\n",
              "</table>\n",
              "</div>\n",
              "      <button class=\"colab-df-convert\" onclick=\"convertToInteractive('df-1ca1a36c-e5cb-48d7-b735-17f59c0b37b5')\"\n",
              "              title=\"Convert this dataframe to an interactive table.\"\n",
              "              style=\"display:none;\">\n",
              "        \n",
              "  <svg xmlns=\"http://www.w3.org/2000/svg\" height=\"24px\"viewBox=\"0 0 24 24\"\n",
              "       width=\"24px\">\n",
              "    <path d=\"M0 0h24v24H0V0z\" fill=\"none\"/>\n",
              "    <path d=\"M18.56 5.44l.94 2.06.94-2.06 2.06-.94-2.06-.94-.94-2.06-.94 2.06-2.06.94zm-11 1L8.5 8.5l.94-2.06 2.06-.94-2.06-.94L8.5 2.5l-.94 2.06-2.06.94zm10 10l.94 2.06.94-2.06 2.06-.94-2.06-.94-.94-2.06-.94 2.06-2.06.94z\"/><path d=\"M17.41 7.96l-1.37-1.37c-.4-.4-.92-.59-1.43-.59-.52 0-1.04.2-1.43.59L10.3 9.45l-7.72 7.72c-.78.78-.78 2.05 0 2.83L4 21.41c.39.39.9.59 1.41.59.51 0 1.02-.2 1.41-.59l7.78-7.78 2.81-2.81c.8-.78.8-2.07 0-2.86zM5.41 20L4 18.59l7.72-7.72 1.47 1.35L5.41 20z\"/>\n",
              "  </svg>\n",
              "      </button>\n",
              "      \n",
              "  <style>\n",
              "    .colab-df-container {\n",
              "      display:flex;\n",
              "      flex-wrap:wrap;\n",
              "      gap: 12px;\n",
              "    }\n",
              "\n",
              "    .colab-df-convert {\n",
              "      background-color: #E8F0FE;\n",
              "      border: none;\n",
              "      border-radius: 50%;\n",
              "      cursor: pointer;\n",
              "      display: none;\n",
              "      fill: #1967D2;\n",
              "      height: 32px;\n",
              "      padding: 0 0 0 0;\n",
              "      width: 32px;\n",
              "    }\n",
              "\n",
              "    .colab-df-convert:hover {\n",
              "      background-color: #E2EBFA;\n",
              "      box-shadow: 0px 1px 2px rgba(60, 64, 67, 0.3), 0px 1px 3px 1px rgba(60, 64, 67, 0.15);\n",
              "      fill: #174EA6;\n",
              "    }\n",
              "\n",
              "    [theme=dark] .colab-df-convert {\n",
              "      background-color: #3B4455;\n",
              "      fill: #D2E3FC;\n",
              "    }\n",
              "\n",
              "    [theme=dark] .colab-df-convert:hover {\n",
              "      background-color: #434B5C;\n",
              "      box-shadow: 0px 1px 3px 1px rgba(0, 0, 0, 0.15);\n",
              "      filter: drop-shadow(0px 1px 2px rgba(0, 0, 0, 0.3));\n",
              "      fill: #FFFFFF;\n",
              "    }\n",
              "  </style>\n",
              "\n",
              "      <script>\n",
              "        const buttonEl =\n",
              "          document.querySelector('#df-1ca1a36c-e5cb-48d7-b735-17f59c0b37b5 button.colab-df-convert');\n",
              "        buttonEl.style.display =\n",
              "          google.colab.kernel.accessAllowed ? 'block' : 'none';\n",
              "\n",
              "        async function convertToInteractive(key) {\n",
              "          const element = document.querySelector('#df-1ca1a36c-e5cb-48d7-b735-17f59c0b37b5');\n",
              "          const dataTable =\n",
              "            await google.colab.kernel.invokeFunction('convertToInteractive',\n",
              "                                                     [key], {});\n",
              "          if (!dataTable) return;\n",
              "\n",
              "          const docLinkHtml = 'Like what you see? Visit the ' +\n",
              "            '<a target=\"_blank\" href=https://colab.research.google.com/notebooks/data_table.ipynb>data table notebook</a>'\n",
              "            + ' to learn more about interactive tables.';\n",
              "          element.innerHTML = '';\n",
              "          dataTable['output_type'] = 'display_data';\n",
              "          await google.colab.output.renderOutput(dataTable, element);\n",
              "          const docLink = document.createElement('div');\n",
              "          docLink.innerHTML = docLinkHtml;\n",
              "          element.appendChild(docLink);\n",
              "        }\n",
              "      </script>\n",
              "    </div>\n",
              "  </div>\n",
              "  "
            ]
          },
          "metadata": {},
          "execution_count": 116
        }
      ]
    },
    {
      "cell_type": "markdown",
      "source": [
        "Kemudian, kita akan mulai melakukan _rescaling_."
      ],
      "metadata": {
        "id": "HG3NTO63Z5vr"
      }
    },
    {
      "cell_type": "code",
      "source": [
        "scaler = StandardScaler()\n",
        "scaler.fit(X_train_combined)\n",
        "\n",
        "X_train_scaled = pd.DataFrame(\n",
        "    scaler.transform(X_train_combined),\n",
        "    columns=X_train_combined.columns\n",
        ")\n",
        "X_dev_scaled = pd.DataFrame(\n",
        "    scaler.transform(X_dev_combined),\n",
        "    columns=X_dev_combined.columns\n",
        ")\n",
        "X_test_scaled = pd.DataFrame(\n",
        "    scaler.transform(X_test_combined),\n",
        "    columns=X_test_combined.columns\n",
        ")\n",
        "\n",
        "with pd.option_context(\"display.max_columns\", None):\n",
        "    display(X_train_scaled.head())"
      ],
      "metadata": {
        "colab": {
          "base_uri": "https://localhost:8080/",
          "height": 270
        },
        "id": "Ic7sY5rQZrF2",
        "outputId": "1bc23cec-2d86-48a7-8d34-b1fd7e77b6b6"
      },
      "execution_count": null,
      "outputs": [
        {
          "output_type": "display_data",
          "data": {
            "text/plain": [
              "        Age  RestingBP  Cholesterol     MaxHR   Oldpeak     Sex_F     Sex_M  \\\n",
              "0 -1.116659  -0.648106     0.845479  0.739554 -0.847637 -0.504679  0.504679   \n",
              "1  0.278543  -0.120068    -0.118843 -1.414388 -0.847637 -0.504679  0.504679   \n",
              "2 -0.150750   1.464048    -0.010695  1.131179 -0.847637 -0.504679  0.504679   \n",
              "3  0.493190  -1.704183     0.457948 -0.552811  0.107630  1.981458 -1.981458   \n",
              "4 -0.902012  -0.120068     0.358812  1.326992 -0.847637  1.981458 -1.981458   \n",
              "\n",
              "   ChestPainType_ASY  ChestPainType_ATA  ChestPainType_NAP  ChestPainType_TA  \\\n",
              "0          -1.106455          -0.487621          -0.519515          4.608950   \n",
              "1          -1.106455           2.050774          -0.519515         -0.216969   \n",
              "2          -1.106455           2.050774          -0.519515         -0.216969   \n",
              "3           0.903787          -0.487621          -0.519515         -0.216969   \n",
              "4          -1.106455           2.050774          -0.519515         -0.216969   \n",
              "\n",
              "   ST_Slope_Down  ST_Slope_Flat  ST_Slope_Up  FastingBS  RestingECG  \\\n",
              "0      -0.267456       1.016485    -0.888957  -0.553218    1.602009   \n",
              "1      -0.267456      -0.983783     1.124914  -0.553218    0.000000   \n",
              "2      -0.267456      -0.983783     1.124914  -0.553218    0.000000   \n",
              "3      -0.267456       1.016485    -0.888957  -0.553218   -1.602009   \n",
              "4      -0.267456      -0.983783     1.124914  -0.553218    0.000000   \n",
              "\n",
              "   ExerciseAngina  \n",
              "0       -0.850297  \n",
              "1       -0.850297  \n",
              "2       -0.850297  \n",
              "3       -0.850297  \n",
              "4       -0.850297  "
            ],
            "text/html": [
              "\n",
              "  <div id=\"df-34d7d543-2dde-4235-905b-7afa2cebbc5f\">\n",
              "    <div class=\"colab-df-container\">\n",
              "      <div>\n",
              "<style scoped>\n",
              "    .dataframe tbody tr th:only-of-type {\n",
              "        vertical-align: middle;\n",
              "    }\n",
              "\n",
              "    .dataframe tbody tr th {\n",
              "        vertical-align: top;\n",
              "    }\n",
              "\n",
              "    .dataframe thead th {\n",
              "        text-align: right;\n",
              "    }\n",
              "</style>\n",
              "<table border=\"1\" class=\"dataframe\">\n",
              "  <thead>\n",
              "    <tr style=\"text-align: right;\">\n",
              "      <th></th>\n",
              "      <th>Age</th>\n",
              "      <th>RestingBP</th>\n",
              "      <th>Cholesterol</th>\n",
              "      <th>MaxHR</th>\n",
              "      <th>Oldpeak</th>\n",
              "      <th>Sex_F</th>\n",
              "      <th>Sex_M</th>\n",
              "      <th>ChestPainType_ASY</th>\n",
              "      <th>ChestPainType_ATA</th>\n",
              "      <th>ChestPainType_NAP</th>\n",
              "      <th>ChestPainType_TA</th>\n",
              "      <th>ST_Slope_Down</th>\n",
              "      <th>ST_Slope_Flat</th>\n",
              "      <th>ST_Slope_Up</th>\n",
              "      <th>FastingBS</th>\n",
              "      <th>RestingECG</th>\n",
              "      <th>ExerciseAngina</th>\n",
              "    </tr>\n",
              "  </thead>\n",
              "  <tbody>\n",
              "    <tr>\n",
              "      <th>0</th>\n",
              "      <td>-1.116659</td>\n",
              "      <td>-0.648106</td>\n",
              "      <td>0.845479</td>\n",
              "      <td>0.739554</td>\n",
              "      <td>-0.847637</td>\n",
              "      <td>-0.504679</td>\n",
              "      <td>0.504679</td>\n",
              "      <td>-1.106455</td>\n",
              "      <td>-0.487621</td>\n",
              "      <td>-0.519515</td>\n",
              "      <td>4.608950</td>\n",
              "      <td>-0.267456</td>\n",
              "      <td>1.016485</td>\n",
              "      <td>-0.888957</td>\n",
              "      <td>-0.553218</td>\n",
              "      <td>1.602009</td>\n",
              "      <td>-0.850297</td>\n",
              "    </tr>\n",
              "    <tr>\n",
              "      <th>1</th>\n",
              "      <td>0.278543</td>\n",
              "      <td>-0.120068</td>\n",
              "      <td>-0.118843</td>\n",
              "      <td>-1.414388</td>\n",
              "      <td>-0.847637</td>\n",
              "      <td>-0.504679</td>\n",
              "      <td>0.504679</td>\n",
              "      <td>-1.106455</td>\n",
              "      <td>2.050774</td>\n",
              "      <td>-0.519515</td>\n",
              "      <td>-0.216969</td>\n",
              "      <td>-0.267456</td>\n",
              "      <td>-0.983783</td>\n",
              "      <td>1.124914</td>\n",
              "      <td>-0.553218</td>\n",
              "      <td>0.000000</td>\n",
              "      <td>-0.850297</td>\n",
              "    </tr>\n",
              "    <tr>\n",
              "      <th>2</th>\n",
              "      <td>-0.150750</td>\n",
              "      <td>1.464048</td>\n",
              "      <td>-0.010695</td>\n",
              "      <td>1.131179</td>\n",
              "      <td>-0.847637</td>\n",
              "      <td>-0.504679</td>\n",
              "      <td>0.504679</td>\n",
              "      <td>-1.106455</td>\n",
              "      <td>2.050774</td>\n",
              "      <td>-0.519515</td>\n",
              "      <td>-0.216969</td>\n",
              "      <td>-0.267456</td>\n",
              "      <td>-0.983783</td>\n",
              "      <td>1.124914</td>\n",
              "      <td>-0.553218</td>\n",
              "      <td>0.000000</td>\n",
              "      <td>-0.850297</td>\n",
              "    </tr>\n",
              "    <tr>\n",
              "      <th>3</th>\n",
              "      <td>0.493190</td>\n",
              "      <td>-1.704183</td>\n",
              "      <td>0.457948</td>\n",
              "      <td>-0.552811</td>\n",
              "      <td>0.107630</td>\n",
              "      <td>1.981458</td>\n",
              "      <td>-1.981458</td>\n",
              "      <td>0.903787</td>\n",
              "      <td>-0.487621</td>\n",
              "      <td>-0.519515</td>\n",
              "      <td>-0.216969</td>\n",
              "      <td>-0.267456</td>\n",
              "      <td>1.016485</td>\n",
              "      <td>-0.888957</td>\n",
              "      <td>-0.553218</td>\n",
              "      <td>-1.602009</td>\n",
              "      <td>-0.850297</td>\n",
              "    </tr>\n",
              "    <tr>\n",
              "      <th>4</th>\n",
              "      <td>-0.902012</td>\n",
              "      <td>-0.120068</td>\n",
              "      <td>0.358812</td>\n",
              "      <td>1.326992</td>\n",
              "      <td>-0.847637</td>\n",
              "      <td>1.981458</td>\n",
              "      <td>-1.981458</td>\n",
              "      <td>-1.106455</td>\n",
              "      <td>2.050774</td>\n",
              "      <td>-0.519515</td>\n",
              "      <td>-0.216969</td>\n",
              "      <td>-0.267456</td>\n",
              "      <td>-0.983783</td>\n",
              "      <td>1.124914</td>\n",
              "      <td>-0.553218</td>\n",
              "      <td>0.000000</td>\n",
              "      <td>-0.850297</td>\n",
              "    </tr>\n",
              "  </tbody>\n",
              "</table>\n",
              "</div>\n",
              "      <button class=\"colab-df-convert\" onclick=\"convertToInteractive('df-34d7d543-2dde-4235-905b-7afa2cebbc5f')\"\n",
              "              title=\"Convert this dataframe to an interactive table.\"\n",
              "              style=\"display:none;\">\n",
              "        \n",
              "  <svg xmlns=\"http://www.w3.org/2000/svg\" height=\"24px\"viewBox=\"0 0 24 24\"\n",
              "       width=\"24px\">\n",
              "    <path d=\"M0 0h24v24H0V0z\" fill=\"none\"/>\n",
              "    <path d=\"M18.56 5.44l.94 2.06.94-2.06 2.06-.94-2.06-.94-.94-2.06-.94 2.06-2.06.94zm-11 1L8.5 8.5l.94-2.06 2.06-.94-2.06-.94L8.5 2.5l-.94 2.06-2.06.94zm10 10l.94 2.06.94-2.06 2.06-.94-2.06-.94-.94-2.06-.94 2.06-2.06.94z\"/><path d=\"M17.41 7.96l-1.37-1.37c-.4-.4-.92-.59-1.43-.59-.52 0-1.04.2-1.43.59L10.3 9.45l-7.72 7.72c-.78.78-.78 2.05 0 2.83L4 21.41c.39.39.9.59 1.41.59.51 0 1.02-.2 1.41-.59l7.78-7.78 2.81-2.81c.8-.78.8-2.07 0-2.86zM5.41 20L4 18.59l7.72-7.72 1.47 1.35L5.41 20z\"/>\n",
              "  </svg>\n",
              "      </button>\n",
              "      \n",
              "  <style>\n",
              "    .colab-df-container {\n",
              "      display:flex;\n",
              "      flex-wrap:wrap;\n",
              "      gap: 12px;\n",
              "    }\n",
              "\n",
              "    .colab-df-convert {\n",
              "      background-color: #E8F0FE;\n",
              "      border: none;\n",
              "      border-radius: 50%;\n",
              "      cursor: pointer;\n",
              "      display: none;\n",
              "      fill: #1967D2;\n",
              "      height: 32px;\n",
              "      padding: 0 0 0 0;\n",
              "      width: 32px;\n",
              "    }\n",
              "\n",
              "    .colab-df-convert:hover {\n",
              "      background-color: #E2EBFA;\n",
              "      box-shadow: 0px 1px 2px rgba(60, 64, 67, 0.3), 0px 1px 3px 1px rgba(60, 64, 67, 0.15);\n",
              "      fill: #174EA6;\n",
              "    }\n",
              "\n",
              "    [theme=dark] .colab-df-convert {\n",
              "      background-color: #3B4455;\n",
              "      fill: #D2E3FC;\n",
              "    }\n",
              "\n",
              "    [theme=dark] .colab-df-convert:hover {\n",
              "      background-color: #434B5C;\n",
              "      box-shadow: 0px 1px 3px 1px rgba(0, 0, 0, 0.15);\n",
              "      filter: drop-shadow(0px 1px 2px rgba(0, 0, 0, 0.3));\n",
              "      fill: #FFFFFF;\n",
              "    }\n",
              "  </style>\n",
              "\n",
              "      <script>\n",
              "        const buttonEl =\n",
              "          document.querySelector('#df-34d7d543-2dde-4235-905b-7afa2cebbc5f button.colab-df-convert');\n",
              "        buttonEl.style.display =\n",
              "          google.colab.kernel.accessAllowed ? 'block' : 'none';\n",
              "\n",
              "        async function convertToInteractive(key) {\n",
              "          const element = document.querySelector('#df-34d7d543-2dde-4235-905b-7afa2cebbc5f');\n",
              "          const dataTable =\n",
              "            await google.colab.kernel.invokeFunction('convertToInteractive',\n",
              "                                                     [key], {});\n",
              "          if (!dataTable) return;\n",
              "\n",
              "          const docLinkHtml = 'Like what you see? Visit the ' +\n",
              "            '<a target=\"_blank\" href=https://colab.research.google.com/notebooks/data_table.ipynb>data table notebook</a>'\n",
              "            + ' to learn more about interactive tables.';\n",
              "          element.innerHTML = '';\n",
              "          dataTable['output_type'] = 'display_data';\n",
              "          await google.colab.output.renderOutput(dataTable, element);\n",
              "          const docLink = document.createElement('div');\n",
              "          docLink.innerHTML = docLinkHtml;\n",
              "          element.appendChild(docLink);\n",
              "        }\n",
              "      </script>\n",
              "    </div>\n",
              "  </div>\n",
              "  "
            ]
          },
          "metadata": {}
        }
      ]
    },
    {
      "cell_type": "markdown",
      "source": [
        "* Setelah kita melakukan rescaling terhadap data, tahap selanjutnya yaitu kita akan masuk dalam tahap membangun pemodelan (*Modeling*)"
      ],
      "metadata": {
        "id": "FQDZyEtQ8ZQX"
      }
    },
    {
      "cell_type": "markdown",
      "source": [
        "###2.4.4 Modelling"
      ],
      "metadata": {
        "id": "NtrWQ6-PaaqC"
      }
    },
    {
      "cell_type": "markdown",
      "source": [
        "####2.4.4.1 Decision Tree Method"
      ],
      "metadata": {
        "id": "Yvel8frfgNch"
      }
    },
    {
      "cell_type": "markdown",
      "source": [
        "* Kita akan menggunakan `DecisionTreeClassifier` dari `scikit-learn`. Ada beberapa [(hyper)parameter](https://scikit-learn.org/stable/modules/generated/sklearn.tree.DecisionTreeClassifier.html#sklearn.tree.DecisionTreeClassifier) yang bisa kita tentukan saat mendefisinikan model.\n",
        "\n",
        "* Sebagai awalan, kita akan menggunakan _default_ parameter yang disediakan oleh `scikit-learn` apa adanya."
      ],
      "metadata": {
        "id": "BUpWFhxHarP5"
      }
    },
    {
      "cell_type": "code",
      "source": [
        "X_train_scaled"
      ],
      "metadata": {
        "colab": {
          "base_uri": "https://localhost:8080/",
          "height": 488
        },
        "id": "GE3FtNjEexLH",
        "outputId": "954b0556-d9c5-4b6c-9bb1-816ab7939013"
      },
      "execution_count": null,
      "outputs": [
        {
          "output_type": "execute_result",
          "data": {
            "text/plain": [
              "          Age  RestingBP  Cholesterol     MaxHR   Oldpeak     Sex_F     Sex_M  \\\n",
              "0   -1.116659  -0.648106     0.845479  0.739554 -0.847637 -0.504679  0.504679   \n",
              "1    0.278543  -0.120068    -0.118843 -1.414388 -0.847637 -0.504679  0.504679   \n",
              "2   -0.150750   1.464048    -0.010695  1.131179 -0.847637 -0.504679  0.504679   \n",
              "3    0.493190  -1.704183     0.457948 -0.552811  0.107630  1.981458 -1.981458   \n",
              "4   -0.902012  -0.120068     0.358812  1.326992 -0.847637  1.981458 -1.981458   \n",
              "..        ...        ...          ...       ...       ...       ...       ...   \n",
              "729 -1.653275  -1.176144    -1.777117  0.778716 -0.847637  1.981458 -1.981458   \n",
              "730 -0.150750   1.041617     0.908566  1.640293  0.298684 -0.504679  0.504679   \n",
              "731  0.385866  -0.120068    -0.596498 -0.826949  0.298684 -0.504679  0.504679   \n",
              "732  1.029806  -1.915398     0.971652 -0.591974  0.107630 -0.504679  0.504679   \n",
              "733 -0.794689  -1.440164     0.061404  1.405317 -0.847637  1.981458 -1.981458   \n",
              "\n",
              "     ChestPainType_ASY  ChestPainType_ATA  ChestPainType_NAP  \\\n",
              "0            -1.106455          -0.487621          -0.519515   \n",
              "1            -1.106455           2.050774          -0.519515   \n",
              "2            -1.106455           2.050774          -0.519515   \n",
              "3             0.903787          -0.487621          -0.519515   \n",
              "4            -1.106455           2.050774          -0.519515   \n",
              "..                 ...                ...                ...   \n",
              "729           0.903787          -0.487621          -0.519515   \n",
              "730          -1.106455          -0.487621          -0.519515   \n",
              "731           0.903787          -0.487621          -0.519515   \n",
              "732           0.903787          -0.487621          -0.519515   \n",
              "733          -1.106455           2.050774          -0.519515   \n",
              "\n",
              "     ChestPainType_TA  ST_Slope_Down  ST_Slope_Flat  ST_Slope_Up  FastingBS  \\\n",
              "0            4.608950      -0.267456       1.016485    -0.888957  -0.553218   \n",
              "1           -0.216969      -0.267456      -0.983783     1.124914  -0.553218   \n",
              "2           -0.216969      -0.267456      -0.983783     1.124914  -0.553218   \n",
              "3           -0.216969      -0.267456       1.016485    -0.888957  -0.553218   \n",
              "4           -0.216969      -0.267456      -0.983783     1.124914  -0.553218   \n",
              "..                ...            ...            ...          ...        ...   \n",
              "729         -0.216969      -0.267456       1.016485    -0.888957  -0.553218   \n",
              "730          4.608950      -0.267456       1.016485    -0.888957   1.807607   \n",
              "731         -0.216969      -0.267456       1.016485    -0.888957  -0.553218   \n",
              "732         -0.216969      -0.267456      -0.983783     1.124914  -0.553218   \n",
              "733         -0.216969      -0.267456      -0.983783     1.124914  -0.553218   \n",
              "\n",
              "     RestingECG  ExerciseAngina  \n",
              "0      1.602009       -0.850297  \n",
              "1      0.000000       -0.850297  \n",
              "2      0.000000       -0.850297  \n",
              "3     -1.602009       -0.850297  \n",
              "4      0.000000       -0.850297  \n",
              "..          ...             ...  \n",
              "729    0.000000       -0.850297  \n",
              "730    0.000000       -0.850297  \n",
              "731    0.000000        1.176060  \n",
              "732    1.602009        1.176060  \n",
              "733    0.000000       -0.850297  \n",
              "\n",
              "[734 rows x 17 columns]"
            ],
            "text/html": [
              "\n",
              "  <div id=\"df-34d6f2a0-c9a1-4a63-a446-0c6e4744dfe7\">\n",
              "    <div class=\"colab-df-container\">\n",
              "      <div>\n",
              "<style scoped>\n",
              "    .dataframe tbody tr th:only-of-type {\n",
              "        vertical-align: middle;\n",
              "    }\n",
              "\n",
              "    .dataframe tbody tr th {\n",
              "        vertical-align: top;\n",
              "    }\n",
              "\n",
              "    .dataframe thead th {\n",
              "        text-align: right;\n",
              "    }\n",
              "</style>\n",
              "<table border=\"1\" class=\"dataframe\">\n",
              "  <thead>\n",
              "    <tr style=\"text-align: right;\">\n",
              "      <th></th>\n",
              "      <th>Age</th>\n",
              "      <th>RestingBP</th>\n",
              "      <th>Cholesterol</th>\n",
              "      <th>MaxHR</th>\n",
              "      <th>Oldpeak</th>\n",
              "      <th>Sex_F</th>\n",
              "      <th>Sex_M</th>\n",
              "      <th>ChestPainType_ASY</th>\n",
              "      <th>ChestPainType_ATA</th>\n",
              "      <th>ChestPainType_NAP</th>\n",
              "      <th>ChestPainType_TA</th>\n",
              "      <th>ST_Slope_Down</th>\n",
              "      <th>ST_Slope_Flat</th>\n",
              "      <th>ST_Slope_Up</th>\n",
              "      <th>FastingBS</th>\n",
              "      <th>RestingECG</th>\n",
              "      <th>ExerciseAngina</th>\n",
              "    </tr>\n",
              "  </thead>\n",
              "  <tbody>\n",
              "    <tr>\n",
              "      <th>0</th>\n",
              "      <td>-1.116659</td>\n",
              "      <td>-0.648106</td>\n",
              "      <td>0.845479</td>\n",
              "      <td>0.739554</td>\n",
              "      <td>-0.847637</td>\n",
              "      <td>-0.504679</td>\n",
              "      <td>0.504679</td>\n",
              "      <td>-1.106455</td>\n",
              "      <td>-0.487621</td>\n",
              "      <td>-0.519515</td>\n",
              "      <td>4.608950</td>\n",
              "      <td>-0.267456</td>\n",
              "      <td>1.016485</td>\n",
              "      <td>-0.888957</td>\n",
              "      <td>-0.553218</td>\n",
              "      <td>1.602009</td>\n",
              "      <td>-0.850297</td>\n",
              "    </tr>\n",
              "    <tr>\n",
              "      <th>1</th>\n",
              "      <td>0.278543</td>\n",
              "      <td>-0.120068</td>\n",
              "      <td>-0.118843</td>\n",
              "      <td>-1.414388</td>\n",
              "      <td>-0.847637</td>\n",
              "      <td>-0.504679</td>\n",
              "      <td>0.504679</td>\n",
              "      <td>-1.106455</td>\n",
              "      <td>2.050774</td>\n",
              "      <td>-0.519515</td>\n",
              "      <td>-0.216969</td>\n",
              "      <td>-0.267456</td>\n",
              "      <td>-0.983783</td>\n",
              "      <td>1.124914</td>\n",
              "      <td>-0.553218</td>\n",
              "      <td>0.000000</td>\n",
              "      <td>-0.850297</td>\n",
              "    </tr>\n",
              "    <tr>\n",
              "      <th>2</th>\n",
              "      <td>-0.150750</td>\n",
              "      <td>1.464048</td>\n",
              "      <td>-0.010695</td>\n",
              "      <td>1.131179</td>\n",
              "      <td>-0.847637</td>\n",
              "      <td>-0.504679</td>\n",
              "      <td>0.504679</td>\n",
              "      <td>-1.106455</td>\n",
              "      <td>2.050774</td>\n",
              "      <td>-0.519515</td>\n",
              "      <td>-0.216969</td>\n",
              "      <td>-0.267456</td>\n",
              "      <td>-0.983783</td>\n",
              "      <td>1.124914</td>\n",
              "      <td>-0.553218</td>\n",
              "      <td>0.000000</td>\n",
              "      <td>-0.850297</td>\n",
              "    </tr>\n",
              "    <tr>\n",
              "      <th>3</th>\n",
              "      <td>0.493190</td>\n",
              "      <td>-1.704183</td>\n",
              "      <td>0.457948</td>\n",
              "      <td>-0.552811</td>\n",
              "      <td>0.107630</td>\n",
              "      <td>1.981458</td>\n",
              "      <td>-1.981458</td>\n",
              "      <td>0.903787</td>\n",
              "      <td>-0.487621</td>\n",
              "      <td>-0.519515</td>\n",
              "      <td>-0.216969</td>\n",
              "      <td>-0.267456</td>\n",
              "      <td>1.016485</td>\n",
              "      <td>-0.888957</td>\n",
              "      <td>-0.553218</td>\n",
              "      <td>-1.602009</td>\n",
              "      <td>-0.850297</td>\n",
              "    </tr>\n",
              "    <tr>\n",
              "      <th>4</th>\n",
              "      <td>-0.902012</td>\n",
              "      <td>-0.120068</td>\n",
              "      <td>0.358812</td>\n",
              "      <td>1.326992</td>\n",
              "      <td>-0.847637</td>\n",
              "      <td>1.981458</td>\n",
              "      <td>-1.981458</td>\n",
              "      <td>-1.106455</td>\n",
              "      <td>2.050774</td>\n",
              "      <td>-0.519515</td>\n",
              "      <td>-0.216969</td>\n",
              "      <td>-0.267456</td>\n",
              "      <td>-0.983783</td>\n",
              "      <td>1.124914</td>\n",
              "      <td>-0.553218</td>\n",
              "      <td>0.000000</td>\n",
              "      <td>-0.850297</td>\n",
              "    </tr>\n",
              "    <tr>\n",
              "      <th>...</th>\n",
              "      <td>...</td>\n",
              "      <td>...</td>\n",
              "      <td>...</td>\n",
              "      <td>...</td>\n",
              "      <td>...</td>\n",
              "      <td>...</td>\n",
              "      <td>...</td>\n",
              "      <td>...</td>\n",
              "      <td>...</td>\n",
              "      <td>...</td>\n",
              "      <td>...</td>\n",
              "      <td>...</td>\n",
              "      <td>...</td>\n",
              "      <td>...</td>\n",
              "      <td>...</td>\n",
              "      <td>...</td>\n",
              "      <td>...</td>\n",
              "    </tr>\n",
              "    <tr>\n",
              "      <th>729</th>\n",
              "      <td>-1.653275</td>\n",
              "      <td>-1.176144</td>\n",
              "      <td>-1.777117</td>\n",
              "      <td>0.778716</td>\n",
              "      <td>-0.847637</td>\n",
              "      <td>1.981458</td>\n",
              "      <td>-1.981458</td>\n",
              "      <td>0.903787</td>\n",
              "      <td>-0.487621</td>\n",
              "      <td>-0.519515</td>\n",
              "      <td>-0.216969</td>\n",
              "      <td>-0.267456</td>\n",
              "      <td>1.016485</td>\n",
              "      <td>-0.888957</td>\n",
              "      <td>-0.553218</td>\n",
              "      <td>0.000000</td>\n",
              "      <td>-0.850297</td>\n",
              "    </tr>\n",
              "    <tr>\n",
              "      <th>730</th>\n",
              "      <td>-0.150750</td>\n",
              "      <td>1.041617</td>\n",
              "      <td>0.908566</td>\n",
              "      <td>1.640293</td>\n",
              "      <td>0.298684</td>\n",
              "      <td>-0.504679</td>\n",
              "      <td>0.504679</td>\n",
              "      <td>-1.106455</td>\n",
              "      <td>-0.487621</td>\n",
              "      <td>-0.519515</td>\n",
              "      <td>4.608950</td>\n",
              "      <td>-0.267456</td>\n",
              "      <td>1.016485</td>\n",
              "      <td>-0.888957</td>\n",
              "      <td>1.807607</td>\n",
              "      <td>0.000000</td>\n",
              "      <td>-0.850297</td>\n",
              "    </tr>\n",
              "    <tr>\n",
              "      <th>731</th>\n",
              "      <td>0.385866</td>\n",
              "      <td>-0.120068</td>\n",
              "      <td>-0.596498</td>\n",
              "      <td>-0.826949</td>\n",
              "      <td>0.298684</td>\n",
              "      <td>-0.504679</td>\n",
              "      <td>0.504679</td>\n",
              "      <td>0.903787</td>\n",
              "      <td>-0.487621</td>\n",
              "      <td>-0.519515</td>\n",
              "      <td>-0.216969</td>\n",
              "      <td>-0.267456</td>\n",
              "      <td>1.016485</td>\n",
              "      <td>-0.888957</td>\n",
              "      <td>-0.553218</td>\n",
              "      <td>0.000000</td>\n",
              "      <td>1.176060</td>\n",
              "    </tr>\n",
              "    <tr>\n",
              "      <th>732</th>\n",
              "      <td>1.029806</td>\n",
              "      <td>-1.915398</td>\n",
              "      <td>0.971652</td>\n",
              "      <td>-0.591974</td>\n",
              "      <td>0.107630</td>\n",
              "      <td>-0.504679</td>\n",
              "      <td>0.504679</td>\n",
              "      <td>0.903787</td>\n",
              "      <td>-0.487621</td>\n",
              "      <td>-0.519515</td>\n",
              "      <td>-0.216969</td>\n",
              "      <td>-0.267456</td>\n",
              "      <td>-0.983783</td>\n",
              "      <td>1.124914</td>\n",
              "      <td>-0.553218</td>\n",
              "      <td>1.602009</td>\n",
              "      <td>1.176060</td>\n",
              "    </tr>\n",
              "    <tr>\n",
              "      <th>733</th>\n",
              "      <td>-0.794689</td>\n",
              "      <td>-1.440164</td>\n",
              "      <td>0.061404</td>\n",
              "      <td>1.405317</td>\n",
              "      <td>-0.847637</td>\n",
              "      <td>1.981458</td>\n",
              "      <td>-1.981458</td>\n",
              "      <td>-1.106455</td>\n",
              "      <td>2.050774</td>\n",
              "      <td>-0.519515</td>\n",
              "      <td>-0.216969</td>\n",
              "      <td>-0.267456</td>\n",
              "      <td>-0.983783</td>\n",
              "      <td>1.124914</td>\n",
              "      <td>-0.553218</td>\n",
              "      <td>0.000000</td>\n",
              "      <td>-0.850297</td>\n",
              "    </tr>\n",
              "  </tbody>\n",
              "</table>\n",
              "<p>734 rows × 17 columns</p>\n",
              "</div>\n",
              "      <button class=\"colab-df-convert\" onclick=\"convertToInteractive('df-34d6f2a0-c9a1-4a63-a446-0c6e4744dfe7')\"\n",
              "              title=\"Convert this dataframe to an interactive table.\"\n",
              "              style=\"display:none;\">\n",
              "        \n",
              "  <svg xmlns=\"http://www.w3.org/2000/svg\" height=\"24px\"viewBox=\"0 0 24 24\"\n",
              "       width=\"24px\">\n",
              "    <path d=\"M0 0h24v24H0V0z\" fill=\"none\"/>\n",
              "    <path d=\"M18.56 5.44l.94 2.06.94-2.06 2.06-.94-2.06-.94-.94-2.06-.94 2.06-2.06.94zm-11 1L8.5 8.5l.94-2.06 2.06-.94-2.06-.94L8.5 2.5l-.94 2.06-2.06.94zm10 10l.94 2.06.94-2.06 2.06-.94-2.06-.94-.94-2.06-.94 2.06-2.06.94z\"/><path d=\"M17.41 7.96l-1.37-1.37c-.4-.4-.92-.59-1.43-.59-.52 0-1.04.2-1.43.59L10.3 9.45l-7.72 7.72c-.78.78-.78 2.05 0 2.83L4 21.41c.39.39.9.59 1.41.59.51 0 1.02-.2 1.41-.59l7.78-7.78 2.81-2.81c.8-.78.8-2.07 0-2.86zM5.41 20L4 18.59l7.72-7.72 1.47 1.35L5.41 20z\"/>\n",
              "  </svg>\n",
              "      </button>\n",
              "      \n",
              "  <style>\n",
              "    .colab-df-container {\n",
              "      display:flex;\n",
              "      flex-wrap:wrap;\n",
              "      gap: 12px;\n",
              "    }\n",
              "\n",
              "    .colab-df-convert {\n",
              "      background-color: #E8F0FE;\n",
              "      border: none;\n",
              "      border-radius: 50%;\n",
              "      cursor: pointer;\n",
              "      display: none;\n",
              "      fill: #1967D2;\n",
              "      height: 32px;\n",
              "      padding: 0 0 0 0;\n",
              "      width: 32px;\n",
              "    }\n",
              "\n",
              "    .colab-df-convert:hover {\n",
              "      background-color: #E2EBFA;\n",
              "      box-shadow: 0px 1px 2px rgba(60, 64, 67, 0.3), 0px 1px 3px 1px rgba(60, 64, 67, 0.15);\n",
              "      fill: #174EA6;\n",
              "    }\n",
              "\n",
              "    [theme=dark] .colab-df-convert {\n",
              "      background-color: #3B4455;\n",
              "      fill: #D2E3FC;\n",
              "    }\n",
              "\n",
              "    [theme=dark] .colab-df-convert:hover {\n",
              "      background-color: #434B5C;\n",
              "      box-shadow: 0px 1px 3px 1px rgba(0, 0, 0, 0.15);\n",
              "      filter: drop-shadow(0px 1px 2px rgba(0, 0, 0, 0.3));\n",
              "      fill: #FFFFFF;\n",
              "    }\n",
              "  </style>\n",
              "\n",
              "      <script>\n",
              "        const buttonEl =\n",
              "          document.querySelector('#df-34d6f2a0-c9a1-4a63-a446-0c6e4744dfe7 button.colab-df-convert');\n",
              "        buttonEl.style.display =\n",
              "          google.colab.kernel.accessAllowed ? 'block' : 'none';\n",
              "\n",
              "        async function convertToInteractive(key) {\n",
              "          const element = document.querySelector('#df-34d6f2a0-c9a1-4a63-a446-0c6e4744dfe7');\n",
              "          const dataTable =\n",
              "            await google.colab.kernel.invokeFunction('convertToInteractive',\n",
              "                                                     [key], {});\n",
              "          if (!dataTable) return;\n",
              "\n",
              "          const docLinkHtml = 'Like what you see? Visit the ' +\n",
              "            '<a target=\"_blank\" href=https://colab.research.google.com/notebooks/data_table.ipynb>data table notebook</a>'\n",
              "            + ' to learn more about interactive tables.';\n",
              "          element.innerHTML = '';\n",
              "          dataTable['output_type'] = 'display_data';\n",
              "          await google.colab.output.renderOutput(dataTable, element);\n",
              "          const docLink = document.createElement('div');\n",
              "          docLink.innerHTML = docLinkHtml;\n",
              "          element.appendChild(docLink);\n",
              "        }\n",
              "      </script>\n",
              "    </div>\n",
              "  </div>\n",
              "  "
            ]
          },
          "metadata": {},
          "execution_count": 118
        }
      ]
    },
    {
      "cell_type": "code",
      "source": [
        "# Panggil function DecisionTreeClassifier() dari scikit-learn\n",
        "model_default = DecisionTreeClassifier(random_state=11)\n",
        "\n",
        "# Terapkan model tersebut menggunakan funciton fit() untuk membuat model berdasarkan set training\n",
        "model_default.fit(X_train_scaled, y_train)\n",
        "\n",
        "\n",
        "preds_train = model_default.predict(X_train_scaled) # training data\n",
        "preds_dev = model_default.predict(X_dev_scaled) # validation data\n",
        "preds_test = model_default.predict(X_test_scaled) # testing data"
      ],
      "metadata": {
        "id": "q4ZDp93lakz6"
      },
      "execution_count": null,
      "outputs": []
    },
    {
      "cell_type": "code",
      "source": [
        "#Training set\n",
        "print(\"train prediction samples:\\n\", preds_train[:20])\n",
        "print(\"train target samples:\\n\", y_train[:20].tolist())"
      ],
      "metadata": {
        "id": "o0oefUCMjfKH",
        "colab": {
          "base_uri": "https://localhost:8080/"
        },
        "outputId": "c974463c-3cf1-49d4-e7cc-7866440bc88e"
      },
      "execution_count": null,
      "outputs": [
        {
          "output_type": "stream",
          "name": "stdout",
          "text": [
            "train prediction samples:\n",
            " [1 0 0 0 0 1 0 1 0 1 1 0 0 1 0 1 0 0 0 1]\n",
            "train target samples:\n",
            " [1, 0, 0, 0, 0, 1, 0, 1, 0, 1, 1, 0, 0, 1, 0, 1, 0, 0, 0, 1]\n"
          ]
        }
      ]
    },
    {
      "cell_type": "code",
      "source": [
        "#Development tes\n",
        "print(\"dev prediction samples:\\n\", preds_dev[:20])\n",
        "print(\"dev target samples:\\n\", y_dev[:20].tolist())"
      ],
      "metadata": {
        "colab": {
          "base_uri": "https://localhost:8080/"
        },
        "id": "h6c8mjUJH69a",
        "outputId": "56a3645f-867f-49fe-c8c4-ea6d24563e92"
      },
      "execution_count": null,
      "outputs": [
        {
          "output_type": "stream",
          "name": "stdout",
          "text": [
            "dev prediction samples:\n",
            " [1 0 1 0 0 1 0 1 1 1 1 1 1 0 1 0 0 0 1 1]\n",
            "dev target samples:\n",
            " [1, 0, 1, 0, 0, 1, 0, 1, 1, 1, 0, 1, 0, 0, 1, 0, 0, 1, 1, 1]\n"
          ]
        }
      ]
    },
    {
      "cell_type": "code",
      "source": [
        "#Prediction tes\n",
        "print(\"test prediction samples:\\n\", preds_test[:20])\n",
        "print(\"test target samples:\\n\", y_test[:20].tolist())"
      ],
      "metadata": {
        "colab": {
          "base_uri": "https://localhost:8080/"
        },
        "id": "p0SZaaxZIC7s",
        "outputId": "997c306e-8374-4c28-9e68-b65f40413038"
      },
      "execution_count": null,
      "outputs": [
        {
          "output_type": "stream",
          "name": "stdout",
          "text": [
            "test prediction samples:\n",
            " [1 0 1 1 0 1 1 0 0 0 1 1 1 0 1 1 1 1 0 1]\n",
            "test target samples:\n",
            " [1, 1, 0, 1, 0, 1, 1, 1, 1, 1, 0, 1, 1, 0, 1, 1, 1, 1, 0, 1]\n"
          ]
        }
      ]
    },
    {
      "cell_type": "markdown",
      "source": [
        "Kita bisa membuat visualisasi model Decision Tree yang sudah dilatih supaya kita bisa melihat bagaimana model bisa melakukan prediksi dan fitur-fitur mana yang menjadi root node ataupun decision node.\n",
        "\n",
        "> karena kita menggunakan hyperparameter default model, proses visualisasi model mungkin akan memakan waktu yang cukup lama untuk seluruh level. Oleh karena itu, kita akan coba visualisasi 5 level pertama model saja."
      ],
      "metadata": {
        "id": "j1s8h9QlIh-8"
      }
    },
    {
      "cell_type": "code",
      "source": [
        "# visualisasi decision tree dari model Heart Diseases pada kedalaman 5 level\n",
        "plt.figure(figsize=(15, 10))\n",
        "plot_tree(\n",
        "    model_default,\n",
        "    feature_names=model_default.feature_names_in_,\n",
        "    class_names=True,\n",
        "    filled=True,\n",
        ")\n",
        "plt.show()"
      ],
      "metadata": {
        "colab": {
          "base_uri": "https://localhost:8080/",
          "height": 569
        },
        "id": "8GC9EjrXI04M",
        "outputId": "a25bdd72-af6d-4269-919c-c5029bd2d397"
      },
      "execution_count": null,
      "outputs": [
        {
          "output_type": "display_data",
          "data": {
            "text/plain": [
              "<Figure size 1080x720 with 1 Axes>"
            ],
            "image/png": "[encoded data removed]"
          },
          "metadata": {
            "needs_background": "light"
          }
        }
      ]
    },
    {
      "cell_type": "code",
      "source": [
        "# visualisasi decision tree dari model Heart Diseases pada kedalaman 2 level\n",
        "plt.figure(figsize=(12, 6))\n",
        "plot_tree(model_default,feature_names = rf.feature_names_in_,  max_depth=2, class_names=True,\n",
        "    filled=True,)\n",
        "plt.show()"
      ],
      "metadata": {
        "colab": {
          "base_uri": "https://localhost:8080/",
          "height": 357
        },
        "id": "AErxbf-GI1ei",
        "outputId": "1dfb9eb8-43cb-4e93-fbc1-458c1b6d51e2"
      },
      "execution_count": null,
      "outputs": [
        {
          "output_type": "display_data",
          "data": {
            "text/plain": [
              "<Figure size 864x432 with 1 Axes>"
            ],
            "image/png": "[encoded data removed]"
          },
          "metadata": {
            "needs_background": "light"
          }
        }
      ]
    },
    {
      "cell_type": "code",
      "source": [
        "# visualisasi decision tree dari model Heart Diseases pada kedalaman 1 level\n",
        "plt.figure(figsize=(12, 6))\n",
        "plot_tree(model_default, feature_names = model_default.feature_names_in_,  max_depth=1, class_names=True,\n",
        "    filled=True)\n",
        "plt.show()"
      ],
      "metadata": {
        "colab": {
          "base_uri": "https://localhost:8080/",
          "height": 357
        },
        "id": "RB74OLgmJHeu",
        "outputId": "6f3010cd-20f5-47bf-f912-56a762065e54"
      },
      "execution_count": null,
      "outputs": [
        {
          "output_type": "display_data",
          "data": {
            "text/plain": [
              "<Figure size 864x432 with 1 Axes>"
            ],
            "image/png": "[encoded data removed]"
          },
          "metadata": {
            "needs_background": "light"
          }
        }
      ]
    },
    {
      "cell_type": "markdown",
      "source": [
        "Keterangan class :  \n",
        "\n",
        "> y[1] = **Heart Disease**\n",
        "\n",
        "> y[0] = **Normal**"
      ],
      "metadata": {
        "id": "Uq6y__UCjy62"
      }
    },
    {
      "cell_type": "markdown",
      "source": [
        "##### 2.4.4.1.1 Model Evaluation Decision Tree"
      ],
      "metadata": {
        "id": "6dqBnWF1KfQs"
      }
    },
    {
      "cell_type": "code",
      "source": [
        "print(classification_report(y_train, preds_train))\n",
        "\n",
        "ConfusionMatrixDisplay.from_predictions(y_train, preds_train)\n",
        "plt.title(\"Confusion Matrix\")\n",
        "plt.grid(False)\n",
        "plt.show()"
      ],
      "metadata": {
        "colab": {
          "base_uri": "https://localhost:8080/",
          "height": 452
        },
        "id": "3w5nuqygKOHA",
        "outputId": "e3dd89b4-38e9-47ba-c0b2-c94dce72b640"
      },
      "execution_count": null,
      "outputs": [
        {
          "output_type": "stream",
          "name": "stdout",
          "text": [
            "              precision    recall  f1-score   support\n",
            "\n",
            "           0       1.00      1.00      1.00       328\n",
            "           1       1.00      1.00      1.00       406\n",
            "\n",
            "    accuracy                           1.00       734\n",
            "   macro avg       1.00      1.00      1.00       734\n",
            "weighted avg       1.00      1.00      1.00       734\n",
            "\n"
          ]
        },
        {
          "output_type": "display_data",
          "data": {
            "text/plain": [
              "<Figure size 432x288 with 2 Axes>"
            ],
            "image/png": "[encoded data removed]"
          },
          "metadata": {
            "needs_background": "light"
          }
        }
      ]
    },
    {
      "cell_type": "markdown",
      "source": [
        "Insights yang diperoleh dari evaluasi model pada data training adalah:\n",
        "* semua **evaluation metrics sudah bagus**, mulai dari **accuracy**, **precision**, **recall**, dan **f1-score**\n",
        "* dari 328 data yang berlabel 0 atau \"No\" **, model tidak gagal satupun untuk memprediksi. Ini berarti, ada 238 atau **100%** orang yang tidak memiliki riwayat penyakit jantung atau normal"
      ],
      "metadata": {
        "id": "aOeUsvW0hXD1"
      }
    },
    {
      "cell_type": "code",
      "source": [
        "print(classification_report(y_dev, preds_dev))\n",
        "\n",
        "ConfusionMatrixDisplay.from_predictions(y_dev, preds_dev)\n",
        "plt.title(\"Confusion Matrix\")\n",
        "plt.grid(False)\n",
        "plt.show()"
      ],
      "metadata": {
        "colab": {
          "base_uri": "https://localhost:8080/",
          "height": 452
        },
        "id": "hs-thCNELoay",
        "outputId": "84e86eec-9cbe-4415-f34d-cbb29baa8b2a"
      },
      "execution_count": null,
      "outputs": [
        {
          "output_type": "stream",
          "name": "stdout",
          "text": [
            "              precision    recall  f1-score   support\n",
            "\n",
            "           0       0.83      0.85      0.84        41\n",
            "           1       0.88      0.86      0.87        51\n",
            "\n",
            "    accuracy                           0.86        92\n",
            "   macro avg       0.86      0.86      0.86        92\n",
            "weighted avg       0.86      0.86      0.86        92\n",
            "\n"
          ]
        },
        {
          "output_type": "display_data",
          "data": {
            "text/plain": [
              "<Figure size 432x288 with 2 Axes>"
            ],
            "image/png": "[encoded data removed]"
          },
          "metadata": {
            "needs_background": "light"
          }
        }
      ]
    },
    {
      "cell_type": "code",
      "source": [
        "print(classification_report(y_test, preds_test))\n",
        "\n",
        "ConfusionMatrixDisplay.from_predictions(y_test, preds_test)\n",
        "plt.title(\"Confusion Matrix\")\n",
        "plt.grid(False)\n",
        "plt.show()"
      ],
      "metadata": {
        "colab": {
          "base_uri": "https://localhost:8080/",
          "height": 452
        },
        "id": "iaARhWqtMLXd",
        "outputId": "77eead9e-6a16-44a2-d636-23ee78c6910e"
      },
      "execution_count": null,
      "outputs": [
        {
          "output_type": "stream",
          "name": "stdout",
          "text": [
            "              precision    recall  f1-score   support\n",
            "\n",
            "           0       0.74      0.71      0.72        41\n",
            "           1       0.77      0.80      0.79        51\n",
            "\n",
            "    accuracy                           0.76        92\n",
            "   macro avg       0.76      0.76      0.76        92\n",
            "weighted avg       0.76      0.76      0.76        92\n",
            "\n"
          ]
        },
        {
          "output_type": "display_data",
          "data": {
            "text/plain": [
              "<Figure size 432x288 with 2 Axes>"
            ],
            "image/png": "[encoded data removed]"
          },
          "metadata": {
            "needs_background": "light"
          }
        }
      ]
    },
    {
      "cell_type": "markdown",
      "source": [
        "Evaluation metrics udah bagus, dlihat dari accuray, precision dan f1 score \n",
        "\n",
        "> Dari 51 yang berlabel \"1\" (Heart Disease), model gagal memprediksi 13 data dengan benar. Ini berarti, seharusnya 10 orang terkena penyakit jantung, tetapi model mengatakan orang tersebut sehat\n",
        "\n"
      ],
      "metadata": {
        "id": "UTmFBVxiWcQm"
      }
    },
    {
      "cell_type": "markdown",
      "source": [
        "####2.4.4.2 Random Forest Method\n",
        "\n"
      ],
      "metadata": {
        "id": "LGqy7D5WNQmb"
      }
    },
    {
      "cell_type": "code",
      "source": [
        "# For New ML models\n",
        "from sklearn.neighbors import KNeighborsClassifier\n",
        "from sklearn.naive_bayes import GaussianNB\n",
        "from sklearn.ensemble import AdaBoostRegressor\n",
        "from sklearn.ensemble import RandomForestClassifier\n",
        "from sklearn import tree"
      ],
      "metadata": {
        "id": "iKw7dse4NE-8"
      },
      "execution_count": null,
      "outputs": []
    },
    {
      "cell_type": "code",
      "source": [
        "rf = RandomForestClassifier(random_state=11)\n",
        "rf.fit(X_train_scaled, y_train)\n",
        "\n",
        "#y_pred = rf.predict(X_dev_scaled)\n",
        "preds_train_rf = rf.predict(X_train_scaled) # training data\n",
        "preds_dev_rf = rf.predict(X_dev_scaled) # validation data\n",
        "preds_test_rf = rf.predict(X_test_scaled) # testing data\n"
      ],
      "metadata": {
        "id": "Clk6l5cnNVhN"
      },
      "execution_count": null,
      "outputs": []
    },
    {
      "cell_type": "code",
      "source": [
        "print(\"training prediction samples:\\n\", preds_train_rf[:20])\n",
        "print(\"training target samples:\\n\", y_test[:20].tolist())"
      ],
      "metadata": {
        "colab": {
          "base_uri": "https://localhost:8080/"
        },
        "id": "83LpZ6cnnPN5",
        "outputId": "e1cf6aa2-82ac-44a6-f85e-0e0f2af7e2f9"
      },
      "execution_count": null,
      "outputs": [
        {
          "output_type": "stream",
          "name": "stdout",
          "text": [
            "training prediction samples:\n",
            " [0 1 1 1 0 1 1 1 0 1 0 1 0 1 1 1 1 0 0 0]\n",
            "training target samples:\n",
            " [1, 1, 1, 0, 1, 1, 1, 1, 1, 0, 0, 0, 0, 1, 0, 1, 0, 0, 0, 0]\n"
          ]
        }
      ]
    },
    {
      "cell_type": "code",
      "source": [
        "print(\"dev prediction samples:\\n\", preds_dev_rf[:20])\n",
        "print(\"dev target samples:\\n\", y_test[:20].tolist())"
      ],
      "metadata": {
        "id": "xfB4eadQUASi",
        "colab": {
          "base_uri": "https://localhost:8080/"
        },
        "outputId": "38b67e21-c33f-4ba0-ba52-09c594288767"
      },
      "execution_count": null,
      "outputs": [
        {
          "output_type": "stream",
          "name": "stdout",
          "text": [
            "dev prediction samples:\n",
            " [1 0 1 0 0 1 1 1 0 0 0 0 1 0 1 1 0 1 1 0]\n",
            "dev target samples:\n",
            " [1, 1, 1, 0, 1, 1, 1, 1, 1, 0, 0, 0, 0, 1, 0, 1, 0, 0, 0, 0]\n"
          ]
        }
      ]
    },
    {
      "cell_type": "code",
      "source": [
        "print(\"test prediction samples:\\n\", preds_test_rf[:20])\n",
        "print(\"test target samples:\\n\", y_test[:20].tolist())"
      ],
      "metadata": {
        "colab": {
          "base_uri": "https://localhost:8080/"
        },
        "id": "644gbDVof7o0",
        "outputId": "783fc067-9219-4b18-8ab2-a7b9d669b3c3"
      },
      "execution_count": null,
      "outputs": [
        {
          "output_type": "stream",
          "name": "stdout",
          "text": [
            "test prediction samples:\n",
            " [1 1 1 0 1 1 1 1 1 0 0 0 0 1 0 1 0 0 0 0]\n",
            "test target samples:\n",
            " [1, 1, 1, 0, 1, 1, 1, 1, 1, 0, 0, 0, 0, 1, 0, 1, 0, 0, 0, 0]\n"
          ]
        }
      ]
    },
    {
      "cell_type": "code",
      "source": [
        "print(len(rf.estimators_))"
      ],
      "metadata": {
        "colab": {
          "base_uri": "https://localhost:8080/"
        },
        "id": "N4Y7kTzvDLpb",
        "outputId": "189ef763-a784-47d1-93a4-442dea055f8d"
      },
      "execution_count": null,
      "outputs": [
        {
          "output_type": "stream",
          "name": "stdout",
          "text": [
            "100\n"
          ]
        }
      ]
    },
    {
      "cell_type": "code",
      "source": [
        "plt.figure(figsize=(12, 6))\n",
        "tree.plot_tree(rf.estimators_[0],\n",
        "               feature_names = rf.feature_names_in_, \n",
        "               max_depth = 1,\n",
        "               class_names= True,\n",
        "               filled = True);"
      ],
      "metadata": {
        "colab": {
          "base_uri": "https://localhost:8080/",
          "height": 357
        },
        "id": "BIst4TgBDjEB",
        "outputId": "5520af17-2c89-45c0-db5b-3a1af8d3c4b8"
      },
      "execution_count": null,
      "outputs": [
        {
          "output_type": "display_data",
          "data": {
            "text/plain": [
              "<Figure size 864x432 with 1 Axes>"
            ],
            "image/png": "[encoded data removed]"
          },
          "metadata": {
            "needs_background": "light"
          }
        }
      ]
    },
    {
      "cell_type": "markdown",
      "source": [
        "Keterangan class :  \n",
        "\n",
        "> y[1] = **Heart Disease**\n",
        "\n",
        "> y[0] = **Normal**"
      ],
      "metadata": {
        "id": "Skdxz0odkWW7"
      }
    },
    {
      "cell_type": "markdown",
      "source": [
        "#####2.4.4.2.1 Model Evaluation Random Forest"
      ],
      "metadata": {
        "id": "f3hsEF-qg11l"
      }
    },
    {
      "cell_type": "code",
      "source": [
        "print(classification_report(y_train, preds_train_rf))\n",
        "\n",
        "ConfusionMatrixDisplay.from_predictions(y_train, preds_train_rf)\n",
        "plt.title(\"Confusion Matrix\")\n",
        "plt.grid(False)\n",
        "plt.show()"
      ],
      "metadata": {
        "colab": {
          "base_uri": "https://localhost:8080/",
          "height": 452
        },
        "id": "tRMtlL03f-T4",
        "outputId": "1d43a6f1-78ee-4040-c2fd-8dfb7b6ebac5"
      },
      "execution_count": null,
      "outputs": [
        {
          "output_type": "stream",
          "name": "stdout",
          "text": [
            "              precision    recall  f1-score   support\n",
            "\n",
            "           0       1.00      1.00      1.00       328\n",
            "           1       1.00      1.00      1.00       406\n",
            "\n",
            "    accuracy                           1.00       734\n",
            "   macro avg       1.00      1.00      1.00       734\n",
            "weighted avg       1.00      1.00      1.00       734\n",
            "\n"
          ]
        },
        {
          "output_type": "display_data",
          "data": {
            "text/plain": [
              "<Figure size 432x288 with 2 Axes>"
            ],
            "image/png": "[encoded data removed]"
          },
          "metadata": {
            "needs_background": "light"
          }
        }
      ]
    },
    {
      "cell_type": "code",
      "source": [
        "print(classification_report(y_dev, preds_dev_rf))\n",
        "\n",
        "ConfusionMatrixDisplay.from_predictions(y_dev, preds_dev_rf)\n",
        "plt.title(\"Confusion Matrix\")\n",
        "plt.grid(False)\n",
        "plt.show()"
      ],
      "metadata": {
        "colab": {
          "base_uri": "https://localhost:8080/",
          "height": 452
        },
        "id": "525OoQMvgBdB",
        "outputId": "4ce549e2-fe22-49b1-ce4a-55f9d321aaa7"
      },
      "execution_count": null,
      "outputs": [
        {
          "output_type": "stream",
          "name": "stdout",
          "text": [
            "              precision    recall  f1-score   support\n",
            "\n",
            "           0       0.91      0.98      0.94        41\n",
            "           1       0.98      0.92      0.95        51\n",
            "\n",
            "    accuracy                           0.95        92\n",
            "   macro avg       0.94      0.95      0.95        92\n",
            "weighted avg       0.95      0.95      0.95        92\n",
            "\n"
          ]
        },
        {
          "output_type": "display_data",
          "data": {
            "text/plain": [
              "<Figure size 432x288 with 2 Axes>"
            ],
            "image/png": "[encoded data removed]"
          },
          "metadata": {
            "needs_background": "light"
          }
        }
      ]
    },
    {
      "cell_type": "code",
      "source": [
        "print(classification_report(y_test, preds_test_rf))\n",
        "\n",
        "ConfusionMatrixDisplay.from_predictions(y_test, preds_test_rf)\n",
        "plt.title(\"Confusion Matrix\")\n",
        "plt.grid(False)\n",
        "plt.show()"
      ],
      "metadata": {
        "colab": {
          "base_uri": "https://localhost:8080/",
          "height": 452
        },
        "id": "FCH3LT7OgDjS",
        "outputId": "7d619479-d721-45fa-a319-c045ad75b4b1"
      },
      "execution_count": null,
      "outputs": [
        {
          "output_type": "stream",
          "name": "stdout",
          "text": [
            "              precision    recall  f1-score   support\n",
            "\n",
            "           0       0.88      0.88      0.88        41\n",
            "           1       0.90      0.90      0.90        51\n",
            "\n",
            "    accuracy                           0.89        92\n",
            "   macro avg       0.89      0.89      0.89        92\n",
            "weighted avg       0.89      0.89      0.89        92\n",
            "\n"
          ]
        },
        {
          "output_type": "display_data",
          "data": {
            "text/plain": [
              "<Figure size 432x288 with 2 Axes>"
            ],
            "image/png": "[encoded data removed]"
          },
          "metadata": {
            "needs_background": "light"
          }
        }
      ]
    }
  ]
}